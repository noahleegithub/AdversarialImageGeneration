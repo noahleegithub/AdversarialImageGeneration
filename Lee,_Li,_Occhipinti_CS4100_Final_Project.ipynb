{
  "nbformat": 4,
  "nbformat_minor": 0,
  "metadata": {
    "colab": {
      "name": "Lee, Li, Occhipinti - CS4100 Final Project",
      "provenance": [],
      "collapsed_sections": [],
      "toc_visible": true
    },
    "kernelspec": {
      "name": "python3",
      "display_name": "Python 3"
    },
    "accelerator": "GPU",
    "widgets": {
      "application/vnd.jupyter.widget-state+json": {
        "f41bad9b408b486a9e954ad2d9489a17": {
          "model_module": "@jupyter-widgets/controls",
          "model_name": "HBoxModel",
          "state": {
            "_view_name": "HBoxView",
            "_dom_classes": [],
            "_model_name": "HBoxModel",
            "_view_module": "@jupyter-widgets/controls",
            "_model_module_version": "1.5.0",
            "_view_count": null,
            "_view_module_version": "1.5.0",
            "box_style": "",
            "layout": "IPY_MODEL_fa5473ef1a7944bb87673b3973591f17",
            "_model_module": "@jupyter-widgets/controls",
            "children": [
              "IPY_MODEL_e0d8edef50e9437993fdb405036a0ba6",
              "IPY_MODEL_dc5389bfa06744528b1efd8f0abfdb0a"
            ]
          }
        },
        "fa5473ef1a7944bb87673b3973591f17": {
          "model_module": "@jupyter-widgets/base",
          "model_name": "LayoutModel",
          "state": {
            "_view_name": "LayoutView",
            "grid_template_rows": null,
            "right": null,
            "justify_content": null,
            "_view_module": "@jupyter-widgets/base",
            "overflow": null,
            "_model_module_version": "1.2.0",
            "_view_count": null,
            "flex_flow": null,
            "width": null,
            "min_width": null,
            "border": null,
            "align_items": null,
            "bottom": null,
            "_model_module": "@jupyter-widgets/base",
            "top": null,
            "grid_column": null,
            "overflow_y": null,
            "overflow_x": null,
            "grid_auto_flow": null,
            "grid_area": null,
            "grid_template_columns": null,
            "flex": null,
            "_model_name": "LayoutModel",
            "justify_items": null,
            "grid_row": null,
            "max_height": null,
            "align_content": null,
            "visibility": null,
            "align_self": null,
            "height": null,
            "min_height": null,
            "padding": null,
            "grid_auto_rows": null,
            "grid_gap": null,
            "max_width": null,
            "order": null,
            "_view_module_version": "1.2.0",
            "grid_template_areas": null,
            "object_position": null,
            "object_fit": null,
            "grid_auto_columns": null,
            "margin": null,
            "display": null,
            "left": null
          }
        },
        "e0d8edef50e9437993fdb405036a0ba6": {
          "model_module": "@jupyter-widgets/controls",
          "model_name": "FloatProgressModel",
          "state": {
            "_view_name": "ProgressView",
            "style": "IPY_MODEL_7ad38e6d2db247b795cd4b228f72a642",
            "_dom_classes": [],
            "description": "",
            "_model_name": "FloatProgressModel",
            "bar_style": "info",
            "max": 1,
            "_view_module": "@jupyter-widgets/controls",
            "_model_module_version": "1.5.0",
            "value": 1,
            "_view_count": null,
            "_view_module_version": "1.5.0",
            "orientation": "horizontal",
            "min": 0,
            "description_tooltip": null,
            "_model_module": "@jupyter-widgets/controls",
            "layout": "IPY_MODEL_ae8359a1b3eb4383beabdf1c1a0e11ee"
          }
        },
        "dc5389bfa06744528b1efd8f0abfdb0a": {
          "model_module": "@jupyter-widgets/controls",
          "model_name": "HTMLModel",
          "state": {
            "_view_name": "HTMLView",
            "style": "IPY_MODEL_a30227a9a96e425db0285b5b7fcf4c1f",
            "_dom_classes": [],
            "description": "",
            "_model_name": "HTMLModel",
            "placeholder": "​",
            "_view_module": "@jupyter-widgets/controls",
            "_model_module_version": "1.5.0",
            "value": " 170500096/? [00:20&lt;00:00, 51299383.80it/s]",
            "_view_count": null,
            "_view_module_version": "1.5.0",
            "description_tooltip": null,
            "_model_module": "@jupyter-widgets/controls",
            "layout": "IPY_MODEL_2da224216ce1403f9d1105e26cc9b1ca"
          }
        },
        "7ad38e6d2db247b795cd4b228f72a642": {
          "model_module": "@jupyter-widgets/controls",
          "model_name": "ProgressStyleModel",
          "state": {
            "_view_name": "StyleView",
            "_model_name": "ProgressStyleModel",
            "description_width": "initial",
            "_view_module": "@jupyter-widgets/base",
            "_model_module_version": "1.5.0",
            "_view_count": null,
            "_view_module_version": "1.2.0",
            "bar_color": null,
            "_model_module": "@jupyter-widgets/controls"
          }
        },
        "ae8359a1b3eb4383beabdf1c1a0e11ee": {
          "model_module": "@jupyter-widgets/base",
          "model_name": "LayoutModel",
          "state": {
            "_view_name": "LayoutView",
            "grid_template_rows": null,
            "right": null,
            "justify_content": null,
            "_view_module": "@jupyter-widgets/base",
            "overflow": null,
            "_model_module_version": "1.2.0",
            "_view_count": null,
            "flex_flow": null,
            "width": null,
            "min_width": null,
            "border": null,
            "align_items": null,
            "bottom": null,
            "_model_module": "@jupyter-widgets/base",
            "top": null,
            "grid_column": null,
            "overflow_y": null,
            "overflow_x": null,
            "grid_auto_flow": null,
            "grid_area": null,
            "grid_template_columns": null,
            "flex": null,
            "_model_name": "LayoutModel",
            "justify_items": null,
            "grid_row": null,
            "max_height": null,
            "align_content": null,
            "visibility": null,
            "align_self": null,
            "height": null,
            "min_height": null,
            "padding": null,
            "grid_auto_rows": null,
            "grid_gap": null,
            "max_width": null,
            "order": null,
            "_view_module_version": "1.2.0",
            "grid_template_areas": null,
            "object_position": null,
            "object_fit": null,
            "grid_auto_columns": null,
            "margin": null,
            "display": null,
            "left": null
          }
        },
        "a30227a9a96e425db0285b5b7fcf4c1f": {
          "model_module": "@jupyter-widgets/controls",
          "model_name": "DescriptionStyleModel",
          "state": {
            "_view_name": "StyleView",
            "_model_name": "DescriptionStyleModel",
            "description_width": "",
            "_view_module": "@jupyter-widgets/base",
            "_model_module_version": "1.5.0",
            "_view_count": null,
            "_view_module_version": "1.2.0",
            "_model_module": "@jupyter-widgets/controls"
          }
        },
        "2da224216ce1403f9d1105e26cc9b1ca": {
          "model_module": "@jupyter-widgets/base",
          "model_name": "LayoutModel",
          "state": {
            "_view_name": "LayoutView",
            "grid_template_rows": null,
            "right": null,
            "justify_content": null,
            "_view_module": "@jupyter-widgets/base",
            "overflow": null,
            "_model_module_version": "1.2.0",
            "_view_count": null,
            "flex_flow": null,
            "width": null,
            "min_width": null,
            "border": null,
            "align_items": null,
            "bottom": null,
            "_model_module": "@jupyter-widgets/base",
            "top": null,
            "grid_column": null,
            "overflow_y": null,
            "overflow_x": null,
            "grid_auto_flow": null,
            "grid_area": null,
            "grid_template_columns": null,
            "flex": null,
            "_model_name": "LayoutModel",
            "justify_items": null,
            "grid_row": null,
            "max_height": null,
            "align_content": null,
            "visibility": null,
            "align_self": null,
            "height": null,
            "min_height": null,
            "padding": null,
            "grid_auto_rows": null,
            "grid_gap": null,
            "max_width": null,
            "order": null,
            "_view_module_version": "1.2.0",
            "grid_template_areas": null,
            "object_position": null,
            "object_fit": null,
            "grid_auto_columns": null,
            "margin": null,
            "display": null,
            "left": null
          }
        },
        "3ab6e5c546b04d1195995e0e41ac4596": {
          "model_module": "@jupyter-widgets/controls",
          "model_name": "HBoxModel",
          "state": {
            "_view_name": "HBoxView",
            "_dom_classes": [],
            "_model_name": "HBoxModel",
            "_view_module": "@jupyter-widgets/controls",
            "_model_module_version": "1.5.0",
            "_view_count": null,
            "_view_module_version": "1.5.0",
            "box_style": "",
            "layout": "IPY_MODEL_673fdb9fe3604772bbc97ef82e86b0a7",
            "_model_module": "@jupyter-widgets/controls",
            "children": [
              "IPY_MODEL_9c549266e0a64762b75848f3815dc9d5",
              "IPY_MODEL_f92b3430f75f46ea990f4ed1c96d99ce"
            ]
          }
        },
        "673fdb9fe3604772bbc97ef82e86b0a7": {
          "model_module": "@jupyter-widgets/base",
          "model_name": "LayoutModel",
          "state": {
            "_view_name": "LayoutView",
            "grid_template_rows": null,
            "right": null,
            "justify_content": null,
            "_view_module": "@jupyter-widgets/base",
            "overflow": null,
            "_model_module_version": "1.2.0",
            "_view_count": null,
            "flex_flow": null,
            "width": null,
            "min_width": null,
            "border": null,
            "align_items": null,
            "bottom": null,
            "_model_module": "@jupyter-widgets/base",
            "top": null,
            "grid_column": null,
            "overflow_y": null,
            "overflow_x": null,
            "grid_auto_flow": null,
            "grid_area": null,
            "grid_template_columns": null,
            "flex": null,
            "_model_name": "LayoutModel",
            "justify_items": null,
            "grid_row": null,
            "max_height": null,
            "align_content": null,
            "visibility": null,
            "align_self": null,
            "height": null,
            "min_height": null,
            "padding": null,
            "grid_auto_rows": null,
            "grid_gap": null,
            "max_width": null,
            "order": null,
            "_view_module_version": "1.2.0",
            "grid_template_areas": null,
            "object_position": null,
            "object_fit": null,
            "grid_auto_columns": null,
            "margin": null,
            "display": null,
            "left": null
          }
        },
        "9c549266e0a64762b75848f3815dc9d5": {
          "model_module": "@jupyter-widgets/controls",
          "model_name": "FloatProgressModel",
          "state": {
            "_view_name": "ProgressView",
            "style": "IPY_MODEL_8fb85325a48f43bca61febef025c90c3",
            "_dom_classes": [],
            "description": "100%",
            "_model_name": "FloatProgressModel",
            "bar_style": "success",
            "max": 102502400,
            "_view_module": "@jupyter-widgets/controls",
            "_model_module_version": "1.5.0",
            "value": 102502400,
            "_view_count": null,
            "_view_module_version": "1.5.0",
            "orientation": "horizontal",
            "min": 0,
            "description_tooltip": null,
            "_model_module": "@jupyter-widgets/controls",
            "layout": "IPY_MODEL_5b6a6eaca9514b6aabf03813ded871bf"
          }
        },
        "f92b3430f75f46ea990f4ed1c96d99ce": {
          "model_module": "@jupyter-widgets/controls",
          "model_name": "HTMLModel",
          "state": {
            "_view_name": "HTMLView",
            "style": "IPY_MODEL_dd90cd1573bf48a4b424cb663a7c39e7",
            "_dom_classes": [],
            "description": "",
            "_model_name": "HTMLModel",
            "placeholder": "​",
            "_view_module": "@jupyter-widgets/controls",
            "_model_module_version": "1.5.0",
            "value": " 97.8M/97.8M [00:00&lt;00:00, 213MB/s]",
            "_view_count": null,
            "_view_module_version": "1.5.0",
            "description_tooltip": null,
            "_model_module": "@jupyter-widgets/controls",
            "layout": "IPY_MODEL_0048bbf2a96343f38ed4d0a2f3eb14a6"
          }
        },
        "8fb85325a48f43bca61febef025c90c3": {
          "model_module": "@jupyter-widgets/controls",
          "model_name": "ProgressStyleModel",
          "state": {
            "_view_name": "StyleView",
            "_model_name": "ProgressStyleModel",
            "description_width": "initial",
            "_view_module": "@jupyter-widgets/base",
            "_model_module_version": "1.5.0",
            "_view_count": null,
            "_view_module_version": "1.2.0",
            "bar_color": null,
            "_model_module": "@jupyter-widgets/controls"
          }
        },
        "5b6a6eaca9514b6aabf03813ded871bf": {
          "model_module": "@jupyter-widgets/base",
          "model_name": "LayoutModel",
          "state": {
            "_view_name": "LayoutView",
            "grid_template_rows": null,
            "right": null,
            "justify_content": null,
            "_view_module": "@jupyter-widgets/base",
            "overflow": null,
            "_model_module_version": "1.2.0",
            "_view_count": null,
            "flex_flow": null,
            "width": null,
            "min_width": null,
            "border": null,
            "align_items": null,
            "bottom": null,
            "_model_module": "@jupyter-widgets/base",
            "top": null,
            "grid_column": null,
            "overflow_y": null,
            "overflow_x": null,
            "grid_auto_flow": null,
            "grid_area": null,
            "grid_template_columns": null,
            "flex": null,
            "_model_name": "LayoutModel",
            "justify_items": null,
            "grid_row": null,
            "max_height": null,
            "align_content": null,
            "visibility": null,
            "align_self": null,
            "height": null,
            "min_height": null,
            "padding": null,
            "grid_auto_rows": null,
            "grid_gap": null,
            "max_width": null,
            "order": null,
            "_view_module_version": "1.2.0",
            "grid_template_areas": null,
            "object_position": null,
            "object_fit": null,
            "grid_auto_columns": null,
            "margin": null,
            "display": null,
            "left": null
          }
        },
        "dd90cd1573bf48a4b424cb663a7c39e7": {
          "model_module": "@jupyter-widgets/controls",
          "model_name": "DescriptionStyleModel",
          "state": {
            "_view_name": "StyleView",
            "_model_name": "DescriptionStyleModel",
            "description_width": "",
            "_view_module": "@jupyter-widgets/base",
            "_model_module_version": "1.5.0",
            "_view_count": null,
            "_view_module_version": "1.2.0",
            "_model_module": "@jupyter-widgets/controls"
          }
        },
        "0048bbf2a96343f38ed4d0a2f3eb14a6": {
          "model_module": "@jupyter-widgets/base",
          "model_name": "LayoutModel",
          "state": {
            "_view_name": "LayoutView",
            "grid_template_rows": null,
            "right": null,
            "justify_content": null,
            "_view_module": "@jupyter-widgets/base",
            "overflow": null,
            "_model_module_version": "1.2.0",
            "_view_count": null,
            "flex_flow": null,
            "width": null,
            "min_width": null,
            "border": null,
            "align_items": null,
            "bottom": null,
            "_model_module": "@jupyter-widgets/base",
            "top": null,
            "grid_column": null,
            "overflow_y": null,
            "overflow_x": null,
            "grid_auto_flow": null,
            "grid_area": null,
            "grid_template_columns": null,
            "flex": null,
            "_model_name": "LayoutModel",
            "justify_items": null,
            "grid_row": null,
            "max_height": null,
            "align_content": null,
            "visibility": null,
            "align_self": null,
            "height": null,
            "min_height": null,
            "padding": null,
            "grid_auto_rows": null,
            "grid_gap": null,
            "max_width": null,
            "order": null,
            "_view_module_version": "1.2.0",
            "grid_template_areas": null,
            "object_position": null,
            "object_fit": null,
            "grid_auto_columns": null,
            "margin": null,
            "display": null,
            "left": null
          }
        }
      }
    }
  },
  "cells": [
    {
      "cell_type": "markdown",
      "metadata": {
        "id": "UeIdSaLpWYNS"
      },
      "source": [
        "This notebook is divided into four sections, each of which is able to be run standalone, without running the other sections. The exception is the final sections \"Adversarial Images via Gradient Ascent\". This section requires trained models to be in the MODELS directory. You should have been provided some trained models in a zip, which you can upload to the directory via the files tab on the left if in Google Colab.\r\n",
        "\r\n",
        "Special Instructions for the DenseNet section: You must upload the densenet169.pt file to the models folder."
      ]
    },
    {
      "cell_type": "code",
      "metadata": {
        "id": "FehREyE0XDaF"
      },
      "source": [
        "import os"
      ],
      "execution_count": 1,
      "outputs": []
    },
    {
      "cell_type": "code",
      "metadata": {
        "id": "G4vWOqHtXXJ2",
        "colab": {
          "base_uri": "https://localhost:8080/",
          "height": 73
        },
        "outputId": "afff736a-157c-4574-e731-7c9ac779ae86"
      },
      "source": [
        "''' Optional, use GDrive to store the dataset and models. Need to change\r\n",
        "    the ROOT directory to point somewhere in your drive for this to work.\r\n",
        "\r\n",
        "from google.colab import drive\r\n",
        "drive.mount('/content/drive')\r\n",
        "'''"
      ],
      "execution_count": null,
      "outputs": [
        {
          "output_type": "execute_result",
          "data": {
            "application/vnd.google.colaboratory.intrinsic+json": {
              "type": "string"
            },
            "text/plain": [
              "\" Optional, use GDrive to store the dataset and models. Need to change\\n    the ROOT directory to point somewhere in your drive for this to work.\\n\\nfrom google.colab import drive\\ndrive.mount('/content/drive')\\n\""
            ]
          },
          "metadata": {
            "tags": []
          },
          "execution_count": 2
        }
      ]
    },
    {
      "cell_type": "code",
      "metadata": {
        "id": "YC5TDwuuW-8s"
      },
      "source": [
        "ROOT = os.path.join(\"content\", \"gradient_ascent_project\", \"data\")\r\n",
        "DATASET = os.path.join(ROOT, \"dataset\", \"cifar-10-batches-py\")\r\n",
        "MODELS = os.path.join(ROOT, \"models\")\r\n",
        "os.makedirs(DATASET)\r\n",
        "os.makedirs(MODELS)"
      ],
      "execution_count": 2,
      "outputs": []
    },
    {
      "cell_type": "markdown",
      "metadata": {
        "id": "mPwAsnbax3V2"
      },
      "source": [
        "[Convolutional Network (Baseline CNN)](#convolutional)\n",
        "\n",
        "- [Hyperparameters](#convnet-hyperparams)\n",
        "\n",
        "[Dense Network (DenseNet)](#dense)\n",
        "\n",
        "[Residual Network (ResNet50)](#residual)\n",
        "\n",
        "- [Hyperparameters](#resnet-hyperparams)\n",
        "\n",
        "[Adversarial Images via Gradient Ascent](#adversarial)\n",
        "\n",
        "- [Hyperparameters](#adversarial-hyperparams)\n",
        "\n",
        "[Results and Graphics](#results)"
      ]
    },
    {
      "cell_type": "markdown",
      "metadata": {
        "id": "IliEUhbIP0Wv"
      },
      "source": [
        "<a name=\"convolutional\"></a>\n",
        "# ConvNet\n",
        "The model architecture is taken from this link: https://towardsdatascience.com/cifar-10-image-classification-in-tensorflow-5b501f7dc77c\n",
        "\n",
        "The model in the source is written in Tensorflow. We rewrite the model in Pytorch for our purposes."
      ]
    },
    {
      "cell_type": "code",
      "metadata": {
        "id": "OsDwgzlzpiGJ"
      },
      "source": [
        "import os\n",
        "import time\n",
        "from collections import OrderedDict\n",
        "\n",
        "import numpy as np\n",
        "import matplotlib.pyplot as plt\n",
        "\n",
        "import torch\n",
        "from torch import Tensor\n",
        "from torch import nn\n",
        "from torch.utils.data import dataloader\n",
        "from torch.utils.data.dataset import random_split\n",
        "from torch import optim\n",
        "import torch.nn.functional as F\n",
        "\n",
        "from torchvision import datasets\n",
        "from torchvision import transforms\n",
        "from torchvision import models\n",
        "\n",
        "from torchsummary import summary\n",
        "\n",
        "%matplotlib inline"
      ],
      "execution_count": 3,
      "outputs": []
    },
    {
      "cell_type": "code",
      "metadata": {
        "id": "wmg6DAOZNkJ_"
      },
      "source": [
        "np.random.seed(0)\n",
        "torch.manual_seed(0)\n",
        "torch.backends.cudnn.deterministic = True\n",
        "torch.backends.cudnn.benchmark = False"
      ],
      "execution_count": 4,
      "outputs": []
    },
    {
      "cell_type": "code",
      "metadata": {
        "id": "Nb-2kVIbq3Zh",
        "colab": {
          "base_uri": "https://localhost:8080/",
          "height": 106,
          "referenced_widgets": [
            "f41bad9b408b486a9e954ad2d9489a17",
            "fa5473ef1a7944bb87673b3973591f17",
            "e0d8edef50e9437993fdb405036a0ba6",
            "dc5389bfa06744528b1efd8f0abfdb0a",
            "7ad38e6d2db247b795cd4b228f72a642",
            "ae8359a1b3eb4383beabdf1c1a0e11ee",
            "a30227a9a96e425db0285b5b7fcf4c1f",
            "2da224216ce1403f9d1105e26cc9b1ca"
          ]
        },
        "outputId": "c8d94999-7792-4bdb-841f-59b2bb1cdfc7"
      },
      "source": [
        "train_dataset = datasets.CIFAR10(root=DATASET, train=True, \n",
        "                                 transform=transforms.ToTensor(), \n",
        "                                 download=True)"
      ],
      "execution_count": 5,
      "outputs": [
        {
          "output_type": "stream",
          "text": [
            "Downloading https://www.cs.toronto.edu/~kriz/cifar-10-python.tar.gz to content/gradient_ascent_project/data/dataset/cifar-10-batches-py/cifar-10-python.tar.gz\n"
          ],
          "name": "stdout"
        },
        {
          "output_type": "display_data",
          "data": {
            "application/vnd.jupyter.widget-view+json": {
              "model_id": "f41bad9b408b486a9e954ad2d9489a17",
              "version_minor": 0,
              "version_major": 2
            },
            "text/plain": [
              "HBox(children=(FloatProgress(value=1.0, bar_style='info', max=1.0), HTML(value='')))"
            ]
          },
          "metadata": {
            "tags": []
          }
        },
        {
          "output_type": "stream",
          "text": [
            "Extracting content/gradient_ascent_project/data/dataset/cifar-10-batches-py/cifar-10-python.tar.gz to content/gradient_ascent_project/data/dataset/cifar-10-batches-py\n"
          ],
          "name": "stdout"
        }
      ]
    },
    {
      "cell_type": "code",
      "metadata": {
        "id": "-zDeElxF9Kb7",
        "colab": {
          "base_uri": "https://localhost:8080/"
        },
        "outputId": "618426ed-8edd-4b81-b980-e676200677e5"
      },
      "source": [
        "means = torch.zeros(3)\n",
        "stds = torch.zeros(3)\n",
        "\n",
        "for img, _ in train_dataset:\n",
        "    means += torch.mean(img, dim = (1,2))\n",
        "    stds += torch.std(img, dim = (1,2))\n",
        "\n",
        "means = means / len(train_dataset)\n",
        "stds = stds / len(train_dataset)\n",
        "    \n",
        "print(\"Calculated means:\", means)\n",
        "print(\"Calculated stds:\", stds)"
      ],
      "execution_count": 6,
      "outputs": [
        {
          "output_type": "stream",
          "text": [
            "Calculated means: tensor([0.4914, 0.4822, 0.4465])\n",
            "Calculated stds: tensor([0.2023, 0.1994, 0.2010])\n"
          ],
          "name": "stdout"
        }
      ]
    },
    {
      "cell_type": "code",
      "metadata": {
        "id": "hKUIUSJcAU5d"
      },
      "source": [
        "train_transforms = transforms.Compose([\n",
        "    transforms.Resize((32,32)),\n",
        "    transforms.RandomHorizontalFlip(0.5),\n",
        "    transforms.RandomVerticalFlip(0.5),\n",
        "    transforms.RandomRotation(45),\n",
        "    transforms.ToTensor(),\n",
        "    transforms.Normalize(mean=means, std=stds)\n",
        "])\n",
        "\n",
        "test_transforms = transforms.Compose([\n",
        "    transforms.Resize((32,32)),\n",
        "    transforms.ToTensor(),\n",
        "    transforms.Normalize(mean=means, std=stds)\n",
        "])"
      ],
      "execution_count": 7,
      "outputs": []
    },
    {
      "cell_type": "code",
      "metadata": {
        "colab": {
          "base_uri": "https://localhost:8080/"
        },
        "id": "vbnm3ZKX8Mjo",
        "outputId": "762d290b-9ef8-415e-92b6-b0ac4ede9481"
      },
      "source": [
        "train_len = int(.8 * len(train_dataset))\n",
        "val_len = len(train_dataset) - train_len\n",
        "\n",
        "train_ds = datasets.CIFAR10(root=DATASET, train=True, transform=train_transforms,\n",
        "                            download=True)\n",
        "train_dataset, val_dataset = random_split(train_ds,\n",
        "                                          [train_len, val_len], \n",
        "                                          torch.Generator().manual_seed(0))\n",
        "val_dataset.transform = test_transforms\n",
        "test_dataset = datasets.CIFAR10(root=DATASET, train=False, \n",
        "                                transform=test_transforms, download=True)\n",
        "print(len(train_dataset), len(val_dataset), len(test_dataset))"
      ],
      "execution_count": 8,
      "outputs": [
        {
          "output_type": "stream",
          "text": [
            "Files already downloaded and verified\n",
            "Files already downloaded and verified\n",
            "40000 10000 10000\n"
          ],
          "name": "stdout"
        }
      ]
    },
    {
      "cell_type": "code",
      "metadata": {
        "id": "MPjbjywjBcpv"
      },
      "source": [
        "\"\"\" Same architecture as \n",
        "https://towardsdatascience.com/cifar-10-image-classification-in-tensorflow-5b501f7dc77c\n",
        "but written for Pytorch.\n",
        "\"\"\"\n",
        "class ConvNet(nn.Module):\n",
        "\n",
        "    def __init__(self, keep_prob:float=0.7):\n",
        "        super().__init__()\n",
        "        self.keep_prob = keep_prob\n",
        "\n",
        "        self.convolutional = nn.Sequential(\n",
        "            nn.Conv2d(3, 64, 3, padding=1),\n",
        "            nn.MaxPool2d(2),\n",
        "            nn.ReLU(inplace=True),\n",
        "            nn.BatchNorm2d(64),\n",
        "            nn.Conv2d(64, 128, 3, padding=1),\n",
        "            nn.MaxPool2d(2),\n",
        "            nn.ReLU(inplace=True),\n",
        "            nn.BatchNorm2d(128),\n",
        "            nn.Conv2d(128, 256, 3, padding=1),\n",
        "            nn.MaxPool2d(2),\n",
        "            nn.ReLU(inplace=True),\n",
        "            nn.BatchNorm2d(256),\n",
        "            nn.Conv2d(256, 512, 3, padding=1),\n",
        "            nn.MaxPool2d(2),\n",
        "            nn.ReLU(inplace=True),\n",
        "            nn.BatchNorm2d(512),\n",
        "        )\n",
        "\n",
        "        self.dense = nn.Sequential(\n",
        "            nn.Linear(512 * 2 * 2, 128),\n",
        "            nn.Dropout(1 - self.keep_prob),\n",
        "            nn.BatchNorm1d(128),\n",
        "            nn.Linear(128, 256),\n",
        "            nn.Dropout(1 - self.keep_prob),\n",
        "            nn.BatchNorm1d(256),\n",
        "            nn.Linear(256, 512),\n",
        "            nn.Dropout(1 - self.keep_prob),\n",
        "            nn.BatchNorm1d(512),\n",
        "            nn.Linear(512, 1024),\n",
        "            nn.Dropout(1 - self.keep_prob),\n",
        "            nn.BatchNorm1d(1024),\n",
        "            nn.Linear(1024, 10),\n",
        "        )\n",
        "\n",
        "    def forward(self, x : Tensor) -> Tensor:\n",
        "        x = self.convolutional(x)\n",
        "        flat = x.view(x.shape[0], -1)\n",
        "        x = self.dense(flat)\n",
        "        return x"
      ],
      "execution_count": 9,
      "outputs": []
    },
    {
      "cell_type": "markdown",
      "metadata": {
        "id": "xPRWmZPua3IO"
      },
      "source": [
        "<a name=\"convnet-hyperparams\"></a>\r\n",
        "### ConvNet Hyperparameters"
      ]
    },
    {
      "cell_type": "code",
      "metadata": {
        "id": "CpA_9svWFKOn"
      },
      "source": [
        "EPOCHS = 30\n",
        "BATCH_SIZE = 256\n",
        "KEEP_PROB = 0.7\n",
        "LEARNING_RATE = 1e-3"
      ],
      "execution_count": 10,
      "outputs": []
    },
    {
      "cell_type": "code",
      "metadata": {
        "id": "coKjonqaFgO2"
      },
      "source": [
        "convnet = ConvNet(keep_prob=KEEP_PROB)"
      ],
      "execution_count": 11,
      "outputs": []
    },
    {
      "cell_type": "code",
      "metadata": {
        "id": "YDOuYVUuFVaN"
      },
      "source": [
        "optimizer = optim.Adam(convnet.parameters(), lr=LEARNING_RATE)\n",
        "\n",
        "device = torch.device('cuda' if torch.cuda.is_available() else 'cpu')\n",
        "\n",
        "loss_fn = nn.CrossEntropyLoss()\n",
        "\n",
        "convnet = convnet.to(device)\n",
        "\n",
        "loss_fn = loss_fn.to(device)"
      ],
      "execution_count": 12,
      "outputs": []
    },
    {
      "cell_type": "code",
      "metadata": {
        "colab": {
          "base_uri": "https://localhost:8080/"
        },
        "id": "h490en5-RUhg",
        "outputId": "75af14db-6b5e-4932-bb0f-922491a4a590"
      },
      "source": [
        "summary(convnet, (3, 32, 32))"
      ],
      "execution_count": 13,
      "outputs": [
        {
          "output_type": "stream",
          "text": [
            "----------------------------------------------------------------\n",
            "        Layer (type)               Output Shape         Param #\n",
            "================================================================\n",
            "            Conv2d-1           [-1, 64, 32, 32]           1,792\n",
            "         MaxPool2d-2           [-1, 64, 16, 16]               0\n",
            "              ReLU-3           [-1, 64, 16, 16]               0\n",
            "       BatchNorm2d-4           [-1, 64, 16, 16]             128\n",
            "            Conv2d-5          [-1, 128, 16, 16]          73,856\n",
            "         MaxPool2d-6            [-1, 128, 8, 8]               0\n",
            "              ReLU-7            [-1, 128, 8, 8]               0\n",
            "       BatchNorm2d-8            [-1, 128, 8, 8]             256\n",
            "            Conv2d-9            [-1, 256, 8, 8]         295,168\n",
            "        MaxPool2d-10            [-1, 256, 4, 4]               0\n",
            "             ReLU-11            [-1, 256, 4, 4]               0\n",
            "      BatchNorm2d-12            [-1, 256, 4, 4]             512\n",
            "           Conv2d-13            [-1, 512, 4, 4]       1,180,160\n",
            "        MaxPool2d-14            [-1, 512, 2, 2]               0\n",
            "             ReLU-15            [-1, 512, 2, 2]               0\n",
            "      BatchNorm2d-16            [-1, 512, 2, 2]           1,024\n",
            "           Linear-17                  [-1, 128]         262,272\n",
            "          Dropout-18                  [-1, 128]               0\n",
            "      BatchNorm1d-19                  [-1, 128]             256\n",
            "           Linear-20                  [-1, 256]          33,024\n",
            "          Dropout-21                  [-1, 256]               0\n",
            "      BatchNorm1d-22                  [-1, 256]             512\n",
            "           Linear-23                  [-1, 512]         131,584\n",
            "          Dropout-24                  [-1, 512]               0\n",
            "      BatchNorm1d-25                  [-1, 512]           1,024\n",
            "           Linear-26                 [-1, 1024]         525,312\n",
            "          Dropout-27                 [-1, 1024]               0\n",
            "      BatchNorm1d-28                 [-1, 1024]           2,048\n",
            "           Linear-29                   [-1, 10]          10,250\n",
            "================================================================\n",
            "Total params: 2,519,178\n",
            "Trainable params: 2,519,178\n",
            "Non-trainable params: 0\n",
            "----------------------------------------------------------------\n",
            "Input size (MB): 0.01\n",
            "Forward/backward pass size (MB): 1.68\n",
            "Params size (MB): 9.61\n",
            "Estimated Total Size (MB): 11.31\n",
            "----------------------------------------------------------------\n"
          ],
          "name": "stdout"
        }
      ]
    },
    {
      "cell_type": "code",
      "metadata": {
        "id": "EzeF1BAkzuTk"
      },
      "source": [
        "train_loader = dataloader.DataLoader(dataset=train_dataset, batch_size=BATCH_SIZE)\n",
        "val_loader = dataloader.DataLoader(dataset=val_dataset, batch_size=BATCH_SIZE)\n",
        "test_loader = dataloader.DataLoader(dataset=test_dataset, batch_size=BATCH_SIZE)"
      ],
      "execution_count": 14,
      "outputs": []
    },
    {
      "cell_type": "code",
      "metadata": {
        "id": "A6f-PW-KnMsb"
      },
      "source": [
        "def calculate_accuracy(y_pred:torch.Tensor, y:torch.Tensor):\n",
        "    '''\n",
        "        Calculate the number of correct y predictions divided by the total\n",
        "        number of predictions.\n",
        "\n",
        "        Args:\n",
        "            y_pred (torch.Tensor): A (Nx2) tensor, each row contains the \n",
        "                                   prediction of the model for a horse vs.\n",
        "                                   a human.\n",
        "            y (torch.Tensor): A (N,) tensor containing the true classes for each\n",
        "                              image.\n",
        "        Returns:\n",
        "            acc (float): The proportion of correct predictions over total\n",
        "                         predictions.\n",
        "    '''\n",
        "    top_pred = y_pred.argmax(1, keepdim = True)\n",
        "    correct = top_pred.eq(y.view_as(top_pred)).sum()\n",
        "    acc = correct.float() / y.shape[0]\n",
        "    return acc"
      ],
      "execution_count": 15,
      "outputs": []
    },
    {
      "cell_type": "code",
      "metadata": {
        "id": "RHvvdBRTntI2"
      },
      "source": [
        "def train(model, iterator, optimizer, loss_fn, device):\n",
        "    '''\n",
        "        Performs a single pass through the batch iterator, computes error,\n",
        "        and updates model weights.\n",
        "\n",
        "        Args:\n",
        "            model (ConvNet): The CNN to perform weight updates on.\n",
        "            iterator (DataLoader): Iterator that holds BATCH_SIZE img,class\n",
        "                                   pairs at a time.\n",
        "            optimizer (optim): Learning rate optimizer for individual parameters\n",
        "            loss_fn: Computes loss and gradient descent for model parameters\n",
        "            device: GPU or CPU\n",
        "        Returns:\n",
        "            Average loss and accuracy for all samples in batch.\n",
        "    '''\n",
        "    \n",
        "    epoch_loss = 0\n",
        "    epoch_acc = 0\n",
        "    \n",
        "    model.to(device)\n",
        "    loss_fn.to(device)\n",
        "    \n",
        "    model.train()\n",
        "    \n",
        "    for (x, y) in iterator:\n",
        "        \n",
        "        x = x.to(device)\n",
        "        y = y.to(device)\n",
        "        \n",
        "        optimizer.zero_grad()\n",
        "                \n",
        "        y_pred = model(x)\n",
        "        \n",
        "        loss = loss_fn(y_pred, y)\n",
        "        \n",
        "        acc = calculate_accuracy(y_pred, y)\n",
        "        \n",
        "        loss.backward()\n",
        "        \n",
        "        optimizer.step()\n",
        "        \n",
        "        epoch_loss += loss.item()\n",
        "        epoch_acc += acc.item()\n",
        "        \n",
        "    return epoch_loss / len(iterator), epoch_acc / len(iterator)"
      ],
      "execution_count": 16,
      "outputs": []
    },
    {
      "cell_type": "code",
      "metadata": {
        "id": "iGYq6Wu2nwRm"
      },
      "source": [
        "def evaluate(model, iterator, loss_fn, device):\n",
        "    '''\n",
        "        Performs a single pass through the batch iterator, and computes loss\n",
        "        and accuracy.\n",
        "\n",
        "        Args:\n",
        "            model (ConvNet): The CNN model to make predictions.\n",
        "            iterator (DataLoader): Iterator that holds BATCH_SIZE img,class\n",
        "                                   pairs at a time.\n",
        "            loss_fn: Computes loss for predicted values and actual values\n",
        "            device: GPU or CPU\n",
        "        Returns:\n",
        "            Average loss and accuracy for all samples in batch.\n",
        "    '''\n",
        "\n",
        "    epoch_loss = 0\n",
        "    epoch_acc = 0\n",
        "    \n",
        "    model.to(device)\n",
        "    loss_fn.to(device)\n",
        "\n",
        "    model.eval()\n",
        "    \n",
        "    with torch.no_grad():\n",
        "        \n",
        "        for (x, y) in iterator:\n",
        "\n",
        "            x = x.to(device)\n",
        "            y = y.to(device)\n",
        "\n",
        "            y_pred = model(x)\n",
        "\n",
        "            loss = loss_fn(y_pred, y)\n",
        "\n",
        "            acc = calculate_accuracy(y_pred, y)\n",
        "\n",
        "            epoch_loss += loss.item()\n",
        "            epoch_acc += acc.item()\n",
        "        \n",
        "    return epoch_loss / len(iterator), epoch_acc / len(iterator)"
      ],
      "execution_count": 17,
      "outputs": []
    },
    {
      "cell_type": "code",
      "metadata": {
        "id": "H0NjKP2hI1r1"
      },
      "source": [
        "def epoch_time(start_time, end_time):\n",
        "    '''\n",
        "        Converts a given start time and end time into a duration in min:sec\n",
        "        format.\n",
        "    '''\n",
        "    elapsed_time = end_time - start_time\n",
        "    elapsed_mins = int(elapsed_time / 60)\n",
        "    elapsed_secs = int(elapsed_time - (elapsed_mins * 60))\n",
        "    return elapsed_mins, elapsed_secs"
      ],
      "execution_count": 18,
      "outputs": []
    },
    {
      "cell_type": "code",
      "metadata": {
        "colab": {
          "base_uri": "https://localhost:8080/"
        },
        "id": "CGuTG-zoI3yz",
        "outputId": "039abccc-4701-4bbd-f3b9-ed1e35896ee3"
      },
      "source": [
        "best_loss = float('inf')\n",
        "\n",
        "for epoch in range(EPOCHS):\n",
        "    start_time = time.monotonic()\n",
        "    \n",
        "    train_loss, train_acc = train(convnet, train_loader, optimizer, loss_fn, device)\n",
        "    valid_loss, valid_acc = evaluate(convnet, val_loader, loss_fn, device)\n",
        "        \n",
        "    if valid_loss <= best_loss:\n",
        "        best_loss = valid_loss\n",
        "        print(\"Better loss, saving model. . .\")\n",
        "        torch.save(convnet.state_dict(), os.path.join(MODELS, \"conv-model.pt\"))\n",
        "\n",
        "    end_time = time.monotonic()\n",
        "\n",
        "    epoch_mins, epoch_secs = epoch_time(start_time, end_time)\n",
        "    \n",
        "    print(\"Epoch:\", epoch+1, \"| Epoch Time:\", epoch_mins, \"m \", epoch_secs,\"s\")\n",
        "    print(f'\\tTrain Loss: {train_loss:.3f} | Train Acc: {train_acc*100:.2f}%')\n",
        "    print(f'\\t Val. Loss: {valid_loss:.3f} |  Val. Acc: {valid_acc*100:.2f}%')\n",
        "    "
      ],
      "execution_count": 19,
      "outputs": [
        {
          "output_type": "stream",
          "text": [
            "Better loss, saving model. . .\n",
            "Epoch: 1 | Epoch Time: 0 m  29 s\n",
            "\tTrain Loss: 1.680 | Train Acc: 38.68%\n",
            "\t Val. Loss: 1.512 |  Val. Acc: 45.72%\n",
            "Better loss, saving model. . .\n",
            "Epoch: 2 | Epoch Time: 0 m  27 s\n",
            "\tTrain Loss: 1.372 | Train Acc: 49.99%\n",
            "\t Val. Loss: 1.342 |  Val. Acc: 52.04%\n",
            "Better loss, saving model. . .\n",
            "Epoch: 3 | Epoch Time: 0 m  27 s\n",
            "\tTrain Loss: 1.236 | Train Acc: 55.37%\n",
            "\t Val. Loss: 1.215 |  Val. Acc: 56.69%\n",
            "Better loss, saving model. . .\n",
            "Epoch: 4 | Epoch Time: 0 m  26 s\n",
            "\tTrain Loss: 1.144 | Train Acc: 59.28%\n",
            "\t Val. Loss: 1.118 |  Val. Acc: 60.00%\n",
            "Better loss, saving model. . .\n",
            "Epoch: 5 | Epoch Time: 0 m  26 s\n",
            "\tTrain Loss: 1.078 | Train Acc: 61.64%\n",
            "\t Val. Loss: 1.033 |  Val. Acc: 63.03%\n",
            "Better loss, saving model. . .\n",
            "Epoch: 6 | Epoch Time: 0 m  26 s\n",
            "\tTrain Loss: 1.020 | Train Acc: 63.81%\n",
            "\t Val. Loss: 1.027 |  Val. Acc: 62.80%\n",
            "Better loss, saving model. . .\n",
            "Epoch: 7 | Epoch Time: 0 m  26 s\n",
            "\tTrain Loss: 0.968 | Train Acc: 65.71%\n",
            "\t Val. Loss: 0.976 |  Val. Acc: 65.70%\n",
            "Better loss, saving model. . .\n",
            "Epoch: 8 | Epoch Time: 0 m  25 s\n",
            "\tTrain Loss: 0.928 | Train Acc: 67.29%\n",
            "\t Val. Loss: 0.932 |  Val. Acc: 67.03%\n",
            "Better loss, saving model. . .\n",
            "Epoch: 9 | Epoch Time: 0 m  26 s\n",
            "\tTrain Loss: 0.903 | Train Acc: 68.06%\n",
            "\t Val. Loss: 0.926 |  Val. Acc: 67.70%\n",
            "Better loss, saving model. . .\n",
            "Epoch: 10 | Epoch Time: 0 m  25 s\n",
            "\tTrain Loss: 0.862 | Train Acc: 69.65%\n",
            "\t Val. Loss: 0.885 |  Val. Acc: 69.60%\n",
            "Better loss, saving model. . .\n",
            "Epoch: 11 | Epoch Time: 0 m  25 s\n",
            "\tTrain Loss: 0.833 | Train Acc: 70.97%\n",
            "\t Val. Loss: 0.864 |  Val. Acc: 69.94%\n",
            "Epoch: 12 | Epoch Time: 0 m  25 s\n",
            "\tTrain Loss: 0.803 | Train Acc: 71.92%\n",
            "\t Val. Loss: 0.883 |  Val. Acc: 69.37%\n",
            "Better loss, saving model. . .\n",
            "Epoch: 13 | Epoch Time: 0 m  25 s\n",
            "\tTrain Loss: 0.785 | Train Acc: 72.44%\n",
            "\t Val. Loss: 0.852 |  Val. Acc: 70.56%\n",
            "Better loss, saving model. . .\n",
            "Epoch: 14 | Epoch Time: 0 m  25 s\n",
            "\tTrain Loss: 0.760 | Train Acc: 73.40%\n",
            "\t Val. Loss: 0.851 |  Val. Acc: 70.75%\n",
            "Better loss, saving model. . .\n",
            "Epoch: 15 | Epoch Time: 0 m  25 s\n",
            "\tTrain Loss: 0.743 | Train Acc: 73.99%\n",
            "\t Val. Loss: 0.823 |  Val. Acc: 71.72%\n",
            "Better loss, saving model. . .\n",
            "Epoch: 16 | Epoch Time: 0 m  25 s\n",
            "\tTrain Loss: 0.716 | Train Acc: 75.04%\n",
            "\t Val. Loss: 0.809 |  Val. Acc: 72.50%\n",
            "Better loss, saving model. . .\n",
            "Epoch: 17 | Epoch Time: 0 m  25 s\n",
            "\tTrain Loss: 0.706 | Train Acc: 75.31%\n",
            "\t Val. Loss: 0.798 |  Val. Acc: 72.73%\n",
            "Epoch: 18 | Epoch Time: 0 m  25 s\n",
            "\tTrain Loss: 0.690 | Train Acc: 76.01%\n",
            "\t Val. Loss: 0.804 |  Val. Acc: 72.72%\n",
            "Epoch: 19 | Epoch Time: 0 m  25 s\n",
            "\tTrain Loss: 0.675 | Train Acc: 76.49%\n",
            "\t Val. Loss: 0.802 |  Val. Acc: 72.25%\n",
            "Better loss, saving model. . .\n",
            "Epoch: 20 | Epoch Time: 0 m  24 s\n",
            "\tTrain Loss: 0.659 | Train Acc: 76.90%\n",
            "\t Val. Loss: 0.783 |  Val. Acc: 73.62%\n",
            "Better loss, saving model. . .\n",
            "Epoch: 21 | Epoch Time: 0 m  25 s\n",
            "\tTrain Loss: 0.648 | Train Acc: 77.50%\n",
            "\t Val. Loss: 0.767 |  Val. Acc: 73.29%\n",
            "Epoch: 22 | Epoch Time: 0 m  25 s\n",
            "\tTrain Loss: 0.637 | Train Acc: 77.85%\n",
            "\t Val. Loss: 0.794 |  Val. Acc: 73.38%\n",
            "Better loss, saving model. . .\n",
            "Epoch: 23 | Epoch Time: 0 m  25 s\n",
            "\tTrain Loss: 0.622 | Train Acc: 78.43%\n",
            "\t Val. Loss: 0.767 |  Val. Acc: 74.25%\n",
            "Epoch: 24 | Epoch Time: 0 m  25 s\n",
            "\tTrain Loss: 0.608 | Train Acc: 78.87%\n",
            "\t Val. Loss: 0.778 |  Val. Acc: 73.61%\n",
            "Epoch: 25 | Epoch Time: 0 m  25 s\n",
            "\tTrain Loss: 0.601 | Train Acc: 78.90%\n",
            "\t Val. Loss: 0.786 |  Val. Acc: 73.69%\n",
            "Better loss, saving model. . .\n",
            "Epoch: 26 | Epoch Time: 0 m  25 s\n",
            "\tTrain Loss: 0.594 | Train Acc: 79.42%\n",
            "\t Val. Loss: 0.754 |  Val. Acc: 74.39%\n",
            "Better loss, saving model. . .\n",
            "Epoch: 27 | Epoch Time: 0 m  25 s\n",
            "\tTrain Loss: 0.583 | Train Acc: 79.86%\n",
            "\t Val. Loss: 0.736 |  Val. Acc: 75.70%\n",
            "Epoch: 28 | Epoch Time: 0 m  25 s\n",
            "\tTrain Loss: 0.565 | Train Acc: 80.30%\n",
            "\t Val. Loss: 0.758 |  Val. Acc: 74.98%\n",
            "Epoch: 29 | Epoch Time: 0 m  25 s\n",
            "\tTrain Loss: 0.559 | Train Acc: 80.71%\n",
            "\t Val. Loss: 0.738 |  Val. Acc: 75.26%\n",
            "Epoch: 30 | Epoch Time: 0 m  25 s\n",
            "\tTrain Loss: 0.552 | Train Acc: 80.90%\n",
            "\t Val. Loss: 0.749 |  Val. Acc: 74.41%\n"
          ],
          "name": "stdout"
        }
      ]
    },
    {
      "cell_type": "code",
      "metadata": {
        "colab": {
          "base_uri": "https://localhost:8080/"
        },
        "id": "X03OPbuOQPVq",
        "outputId": "e3cfd815-bf35-4501-fd6b-e3b82c4b2244"
      },
      "source": [
        "convnet = ConvNet(keep_prob=KEEP_PROB)\n",
        "convnet.load_state_dict(torch.load(os.path.join(MODELS, \"conv-model.pt\")))\n",
        "\n",
        "val_loss, val_acc = evaluate(convnet, val_loader, loss_fn, device)\n",
        "test_loss, test_acc = evaluate(convnet, test_loader, loss_fn, device)\n",
        "\n",
        "print(f'Best Validation Loss: {val_loss:.3f} | Validation Acc: {val_acc*100:.2f}%')\n",
        "print(f'Testing Loss: {test_loss:.3f} | Testing Acc: {test_acc*100:.2f}%')"
      ],
      "execution_count": 20,
      "outputs": [
        {
          "output_type": "stream",
          "text": [
            "Best Validation Loss: 0.735 | Validation Acc: 75.16%\n",
            "Testing Loss: 0.666 | Testing Acc: 77.44%\n"
          ],
          "name": "stdout"
        }
      ]
    },
    {
      "cell_type": "markdown",
      "metadata": {
        "id": "1UwsdtN9QWnq"
      },
      "source": [
        "<a name=\"dense\"></a>\n",
        "# DenseNet\n",
        "\n",
        "A completely pretrained model taken from \n",
        "https://github.com/huyvnphan/PyTorch_CIFAR10\n",
        "\n",
        "All we do is perform evaluation on the model."
      ]
    },
    {
      "cell_type": "code",
      "metadata": {
        "id": "80wh9TIkSWBT"
      },
      "source": [
        "import os\n",
        "import time\n",
        "from collections import OrderedDict\n",
        "\n",
        "import numpy as np\n",
        "import matplotlib.pyplot as plt\n",
        "\n",
        "import torch\n",
        "from torch import Tensor\n",
        "from torch import nn\n",
        "from torch.utils.data import dataloader\n",
        "from torch.utils.data.dataset import random_split\n",
        "from torch import optim\n",
        "import torch.nn.functional as F\n",
        "\n",
        "from torchvision import datasets\n",
        "from torchvision import transforms\n",
        "from torchvision import models\n",
        "\n",
        "from torchsummary import summary\n",
        "\n",
        "%matplotlib inline"
      ],
      "execution_count": 21,
      "outputs": []
    },
    {
      "cell_type": "code",
      "metadata": {
        "id": "GNApKQh7WFog"
      },
      "source": [
        "np.random.seed(0)\n",
        "torch.manual_seed(0)\n",
        "torch.backends.cudnn.deterministic = True\n",
        "torch.backends.cudnn.benchmark = False"
      ],
      "execution_count": 22,
      "outputs": []
    },
    {
      "cell_type": "code",
      "metadata": {
        "id": "EhnLAEYOuvn4"
      },
      "source": [
        "\"\"\" From https://github.com/huyvnphan/PyTorch_CIFAR10 \"\"\"\n",
        "__all__ = ['DenseNet', 'densenet121', 'densenet169', 'densenet201', 'densenet161']\n",
        "\n",
        "class _DenseLayer(nn.Sequential):\n",
        "    def __init__(self, num_input_features, growth_rate, bn_size, drop_rate):\n",
        "        super(_DenseLayer, self).__init__()\n",
        "        self.add_module('norm1', nn.BatchNorm2d(num_input_features)),\n",
        "        self.add_module('relu1', nn.ReLU(inplace=True)),\n",
        "        self.add_module('conv1', nn.Conv2d(num_input_features, bn_size *\n",
        "                                           growth_rate, kernel_size=1, stride=1,\n",
        "                                           bias=False)),\n",
        "        self.add_module('norm2', nn.BatchNorm2d(bn_size * growth_rate)),\n",
        "        self.add_module('relu2', nn.ReLU(inplace=True)),\n",
        "        self.add_module('conv2', nn.Conv2d(bn_size * growth_rate, growth_rate,\n",
        "                                           kernel_size=3, stride=1, padding=1,\n",
        "                                           bias=False)),\n",
        "        self.drop_rate = drop_rate\n",
        "\n",
        "    def forward(self, x):\n",
        "        new_features = super(_DenseLayer, self).forward(x)\n",
        "        if self.drop_rate > 0:\n",
        "            new_features = F.dropout(new_features, p=self.drop_rate,\n",
        "                                     training=self.training)\n",
        "        return torch.cat([x, new_features], 1)\n",
        "\n",
        "\n",
        "class _DenseBlock(nn.Sequential):\n",
        "    def __init__(self, num_layers, num_input_features, bn_size, growth_rate, drop_rate):\n",
        "        super(_DenseBlock, self).__init__()\n",
        "        for i in range(num_layers):\n",
        "            layer = _DenseLayer(num_input_features + i * growth_rate, growth_rate,\n",
        "                                bn_size, drop_rate)\n",
        "            self.add_module('denselayer%d' % (i + 1), layer)\n",
        "\n",
        "\n",
        "class _Transition(nn.Sequential):\n",
        "    def __init__(self, num_input_features, num_output_features):\n",
        "        super(_Transition, self).__init__()\n",
        "        self.add_module('norm', nn.BatchNorm2d(num_input_features))\n",
        "        self.add_module('relu', nn.ReLU(inplace=True))\n",
        "        self.add_module('conv', nn.Conv2d(num_input_features, num_output_features,\n",
        "                                          kernel_size=1, stride=1, bias=False))\n",
        "        self.add_module('pool', nn.AvgPool2d(kernel_size=2, stride=2))\n",
        "\n",
        "\n",
        "class DenseNet(nn.Module):\n",
        "    r\"\"\"Densenet-BC model class, based on\n",
        "    `\"Densely Connected Convolutional Networks\" <https://arxiv.org/pdf/1608.06993.pdf>`_\n",
        "    Args:\n",
        "        growth_rate (int) - how many filters to add each layer (`k` in paper)\n",
        "        block_config (list of 4 ints) - how many layers in each pooling block\n",
        "        num_init_features (int) - the number of filters to learn in the first convolution layer\n",
        "        bn_size (int) - multiplicative factor for number of bottle neck layers\n",
        "          (i.e. bn_size * k features in the bottleneck layer)\n",
        "        drop_rate (float) - dropout rate after each dense layer\n",
        "        num_classes (int) - number of classification classes\n",
        "    \"\"\"\n",
        "\n",
        "    def __init__(self, growth_rate=32, block_config=(6, 12, 24, 16),\n",
        "                 num_init_features=64, bn_size=4, drop_rate=0, num_classes=10):\n",
        "\n",
        "        super(DenseNet, self).__init__()\n",
        "\n",
        "        # First convolution\n",
        "        \n",
        "        # CIFAR-10: kernel_size 7 ->3, stride 2->1, padding 3->1\n",
        "        self.features = nn.Sequential(OrderedDict([\n",
        "            ('conv0', nn.Conv2d(3, num_init_features, kernel_size=3, stride=1,\n",
        "                                padding=1, bias=False)),\n",
        "            ('norm0', nn.BatchNorm2d(num_init_features)),\n",
        "            ('relu0', nn.ReLU(inplace=True)),\n",
        "            ('pool0', nn.MaxPool2d(kernel_size=3, stride=2, padding=1)),\n",
        "        ]))\n",
        "        ## END\n",
        "\n",
        "        # Each denseblock\n",
        "        num_features = num_init_features\n",
        "        for i, num_layers in enumerate(block_config):\n",
        "            block = _DenseBlock(num_layers=num_layers, num_input_features=num_features,\n",
        "                                bn_size=bn_size, growth_rate=growth_rate,\n",
        "                                drop_rate=drop_rate)\n",
        "            self.features.add_module('denseblock%d' % (i + 1), block)\n",
        "            num_features = num_features + num_layers * growth_rate\n",
        "            if i != len(block_config) - 1:\n",
        "                trans = _Transition(num_input_features=num_features,\n",
        "                                    num_output_features=num_features // 2)\n",
        "                self.features.add_module('transition%d' % (i + 1), trans)\n",
        "                num_features = num_features // 2\n",
        "\n",
        "        # Final batch norm\n",
        "        self.features.add_module('norm5', nn.BatchNorm2d(num_features))\n",
        "\n",
        "        # Linear layer\n",
        "        self.classifier = nn.Linear(num_features, num_classes)\n",
        "\n",
        "        # Official init from torch repo.\n",
        "        for m in self.modules():\n",
        "            if isinstance(m, nn.Conv2d):\n",
        "                nn.init.kaiming_normal_(m.weight)\n",
        "            elif isinstance(m, nn.BatchNorm2d):\n",
        "                nn.init.constant_(m.weight, 1)\n",
        "                nn.init.constant_(m.bias, 0)\n",
        "            elif isinstance(m, nn.Linear):\n",
        "                nn.init.constant_(m.bias, 0)\n",
        "\n",
        "    def forward(self, x):\n",
        "        features = self.features(x)\n",
        "        out = F.relu(features, inplace=True)\n",
        "        out = F.adaptive_avg_pool2d(out, (1, 1)).view(features.size(0), -1)\n",
        "        out = self.classifier(out)\n",
        "        return out\n",
        "\n",
        "def _densenet(arch, growth_rate, block_config, num_init_features, pretrained, progress, device, **kwargs):\n",
        "    model = DenseNet(growth_rate, block_config, num_init_features, **kwargs)\n",
        "    if pretrained:\n",
        "        script_dir = os.path.dirname(__file__)\n",
        "        state_dict = torch.load(script_dir + '/state_dicts/'+arch+'.pt', map_location=device)\n",
        "        model.load_state_dict(state_dict)\n",
        "    return model\n",
        "\n",
        "\n",
        "def densenet121(pretrained=False, progress=True, device='cpu', **kwargs):\n",
        "    r\"\"\"Densenet-121 model from\n",
        "    `\"Densely Connected Convolutional Networks\" <https://arxiv.org/pdf/1608.06993.pdf>`_\n",
        "    Args:\n",
        "        pretrained (bool): If True, returns a model pre-trained on ImageNet\n",
        "        progress (bool): If True, displays a progress bar of the download to stderr\n",
        "    \"\"\"\n",
        "    return _densenet('densenet121', 32, (6, 12, 24, 16), 64, pretrained, progress, device,\n",
        "                     **kwargs)\n",
        "\n",
        "\n",
        "def densenet161(pretrained=False, progress=True, device='cpu', **kwargs):\n",
        "    r\"\"\"Densenet-161 model from\n",
        "    `\"Densely Connected Convolutional Networks\" <https://arxiv.org/pdf/1608.06993.pdf>`_\n",
        "    Args:\n",
        "        pretrained (bool): If True, returns a model pre-trained on ImageNet\n",
        "        progress (bool): If True, displays a progress bar of the download to stderr\n",
        "    \"\"\"\n",
        "    return _densenet('densenet161', 48, (6, 12, 36, 24), 96, pretrained, progress, device,\n",
        "                     **kwargs)\n",
        "\n",
        "\n",
        "def densenet169(pretrained=False, progress=True, device='cpu', **kwargs):\n",
        "    r\"\"\"Densenet-169 model from\n",
        "    `\"Densely Connected Convolutional Networks\" <https://arxiv.org/pdf/1608.06993.pdf>`_\n",
        "    Args:\n",
        "        pretrained (bool): If True, returns a model pre-trained on ImageNet\n",
        "        progress (bool): If True, displays a progress bar of the download to stderr\n",
        "    \"\"\"\n",
        "    return _densenet('densenet169', 32, (6, 12, 32, 32), 64, pretrained, progress, device,\n",
        "                     **kwargs)\n",
        "\n",
        "\n",
        "def densenet201(pretrained=False, progress=True, device='cpu', **kwargs):\n",
        "    r\"\"\"Densenet-201 model from\n",
        "    `\"Densely Connected Convolutional Networks\" <https://arxiv.org/pdf/1608.06993.pdf>`_\n",
        "    Args:\n",
        "        pretrained (bool): If True, returns a model pre-trained on ImageNet\n",
        "        progress (bool): If True, displays a progress bar of the download to stderr\n",
        "    \"\"\"\n",
        "    return _densenet('densenet201', 32, (6, 12, 48, 32), 64, pretrained, progress, device,\n",
        "                     **kwargs)"
      ],
      "execution_count": 23,
      "outputs": []
    },
    {
      "cell_type": "code",
      "metadata": {
        "id": "Kl89fodFqSej"
      },
      "source": [
        "device = torch.device('cuda' if torch.cuda.is_available() else 'cpu')\n",
        "\n",
        "loss_fn = nn.CrossEntropyLoss()\n",
        "\n",
        "densenet = densenet169(pretrained=False, progress=False, device=device)\n",
        "# downloaded completely pretrained weights\n",
        "densenet.load_state_dict(torch.load(os.path.join(MODELS, \"densenet169.pt\")))"
      ],
      "execution_count": null,
      "outputs": []
    },
    {
      "cell_type": "code",
      "metadata": {
        "id": "anqzlhLjTD8S"
      },
      "source": [
        "means = torch.Tensor([0.4914, 0.4822, 0.4465])\n",
        "stds = torch.Tensor([0.2023, 0.1994, 0.2010])\n",
        "\n",
        "train_transforms = transforms.Compose([\n",
        "    transforms.Resize((32,32)),\n",
        "    transforms.RandomHorizontalFlip(0.5),\n",
        "    transforms.RandomVerticalFlip(0.5),\n",
        "    transforms.RandomRotation(45),\n",
        "    transforms.ToTensor(),\n",
        "    transforms.Normalize(mean=means, std=stds)\n",
        "])\n",
        "\n",
        "test_transforms = transforms.Compose([\n",
        "    transforms.Resize((32,32)),\n",
        "    transforms.ToTensor(),\n",
        "    transforms.Normalize(mean=means, std=stds)\n",
        "])"
      ],
      "execution_count": 26,
      "outputs": []
    },
    {
      "cell_type": "code",
      "metadata": {
        "colab": {
          "base_uri": "https://localhost:8080/"
        },
        "id": "zcD0CSg-S_o3",
        "outputId": "e3348ed5-b17a-4394-97d3-231dfdc93ee2"
      },
      "source": [
        "train_ds = datasets.CIFAR10(root=DATASET, train=True, \n",
        "                            transform=train_transforms, download=True)\n",
        "\n",
        "train_len = int(.8 * len(train_ds))\n",
        "val_len = len(train_ds) - train_len\n",
        "\n",
        "train_dataset, val_dataset = random_split(train_ds,\n",
        "                                          [train_len, val_len], \n",
        "                                          torch.Generator().manual_seed(0))\n",
        "val_dataset.transform = test_transforms\n",
        "test_dataset = datasets.CIFAR10(root=DATASET, train=False, \n",
        "                                transform=test_transforms, download=True)\n",
        "print(len(train_dataset), len(val_dataset), len(test_dataset))"
      ],
      "execution_count": 27,
      "outputs": [
        {
          "output_type": "stream",
          "text": [
            "Files already downloaded and verified\n",
            "Files already downloaded and verified\n",
            "40000 10000 10000\n"
          ],
          "name": "stdout"
        }
      ]
    },
    {
      "cell_type": "code",
      "metadata": {
        "id": "z9DXuJ-oS3tx"
      },
      "source": [
        "BATCH_SIZE = 256\n",
        "\n",
        "train_loader = dataloader.DataLoader(dataset=train_dataset, batch_size=BATCH_SIZE)\n",
        "val_loader = dataloader.DataLoader(dataset=val_dataset, batch_size=BATCH_SIZE)\n",
        "test_loader = dataloader.DataLoader(dataset=test_dataset, batch_size=BATCH_SIZE)"
      ],
      "execution_count": 28,
      "outputs": []
    },
    {
      "cell_type": "code",
      "metadata": {
        "id": "EyZABkwGWaDR"
      },
      "source": [
        "def calculate_accuracy(y_pred:torch.Tensor, y:torch.Tensor):\n",
        "    '''\n",
        "        Calculate the number of correct y predictions divided by the total\n",
        "        number of predictions.\n",
        "\n",
        "        Args:\n",
        "            y_pred (torch.Tensor): A (Nx2) tensor, each row contains the \n",
        "                                   prediction of the model for a horse vs.\n",
        "                                   a human.\n",
        "            y (torch.Tensor): A (N,) tensor containing the true classes for each\n",
        "                              image.\n",
        "        Returns:\n",
        "            acc (float): The proportion of correct predictions over total\n",
        "                         predictions.\n",
        "    '''\n",
        "    top_pred = y_pred.argmax(1, keepdim = True)\n",
        "    correct = top_pred.eq(y.view_as(top_pred)).sum()\n",
        "    acc = correct.float() / y.shape[0]\n",
        "    return acc"
      ],
      "execution_count": 29,
      "outputs": []
    },
    {
      "cell_type": "code",
      "metadata": {
        "id": "A73Yy5XVWVSs"
      },
      "source": [
        "def evaluate(model, iterator, loss_fn, device):\n",
        "    '''\n",
        "        Performs a single pass through the batch iterator, and computes loss\n",
        "        and accuracy.\n",
        "\n",
        "        Args:\n",
        "            model (ConvNet): The CNN model to make predictions.\n",
        "            iterator (DataLoader): Iterator that holds BATCH_SIZE img,class\n",
        "                                   pairs at a time.\n",
        "            loss_fn: Computes loss for predicted values and actual values\n",
        "            device: GPU or CPU\n",
        "        Returns:\n",
        "            Average loss and accuracy for all samples in batch.\n",
        "    '''\n",
        "\n",
        "    epoch_loss = 0\n",
        "    epoch_acc = 0\n",
        "    \n",
        "    model.to(device)\n",
        "    loss_fn.to(device)\n",
        "\n",
        "    model.eval()\n",
        "    \n",
        "    with torch.no_grad():\n",
        "        \n",
        "        for (x, y) in iterator:\n",
        "\n",
        "            x = x.to(device)\n",
        "            y = y.to(device)\n",
        "\n",
        "            y_pred = model(x)\n",
        "\n",
        "            loss = loss_fn(y_pred, y)\n",
        "\n",
        "            acc = calculate_accuracy(y_pred, y)\n",
        "\n",
        "            epoch_loss += loss.item()\n",
        "            epoch_acc += acc.item()\n",
        "        \n",
        "    return epoch_loss / len(iterator), epoch_acc / len(iterator)"
      ],
      "execution_count": 30,
      "outputs": []
    },
    {
      "cell_type": "code",
      "metadata": {
        "colab": {
          "base_uri": "https://localhost:8080/"
        },
        "id": "LK8bUIY4tn5E",
        "outputId": "6864c70e-24a0-4632-cb6e-e0436e859a99"
      },
      "source": [
        "val_loss, val_acc = evaluate(densenet, val_loader, loss_fn, device)\n",
        "test_loss, test_acc = evaluate(densenet, test_loader, loss_fn, device)\n",
        "\n",
        "print(\"For some reason, the validation accuracy of the pretrained model is \\\n",
        "consistently ~50%, but the test accuracy is consistently ~94%.\")\n",
        "print(f'Validation Loss: {val_loss:.3f} | Validation Acc: {val_acc*100:.2f}%')\n",
        "print(f'Testing Loss: {test_loss:.3f} | Testing Acc: {test_acc*100:.2f}%')"
      ],
      "execution_count": 31,
      "outputs": [
        {
          "output_type": "stream",
          "text": [
            "For some reason, the validation accuracy of the pretrained model is consistently ~50%, but the test accuracy is consistently ~94%.\n",
            "Validation Loss: 2.064 | Validation Acc: 49.96%\n",
            "Testing Loss: 0.244 | Testing Acc: 93.99%\n"
          ],
          "name": "stdout"
        }
      ]
    },
    {
      "cell_type": "markdown",
      "metadata": {
        "id": "fYeJOq9tQa5r"
      },
      "source": [
        "<a name=\"residual\"></a>\n",
        "# ResNet50\n",
        "\n",
        "Model is downloaded from Pytorch's model collection https://pytorch.org/docs/stable/torchvision/models.html\n",
        "\n",
        "and then is fine tuned for the CIFAR-10 dataset."
      ]
    },
    {
      "cell_type": "code",
      "metadata": {
        "id": "ALx5_Ur3LTli"
      },
      "source": [
        "import os\r\n",
        "import time\r\n",
        "from collections import OrderedDict\r\n",
        "import gc\r\n",
        "\r\n",
        "import numpy as np\r\n",
        "import matplotlib.pyplot as plt\r\n",
        "\r\n",
        "import torch\r\n",
        "from torch import Tensor\r\n",
        "from torch import nn\r\n",
        "from torch.utils.data import dataloader\r\n",
        "from torch.utils.data.dataset import random_split\r\n",
        "from torch import optim\r\n",
        "import torch.nn.functional as F\r\n",
        "\r\n",
        "from torchvision import datasets\r\n",
        "from torchvision import transforms\r\n",
        "from torchvision import models\r\n",
        "\r\n",
        "from torchsummary import summary\r\n",
        "\r\n",
        "%matplotlib inline"
      ],
      "execution_count": 32,
      "outputs": []
    },
    {
      "cell_type": "code",
      "metadata": {
        "id": "4h8g3EOM0-oO"
      },
      "source": [
        "resnet_means = [0.485, 0.456, 0.406]\n",
        "resnet_stds = [0.229, 0.224, 0.225]\n",
        "resnet_train_transforms = transforms.Compose([\n",
        "    transforms.RandomResizedCrop((224,224)),\n",
        "    transforms.RandomHorizontalFlip(0.5),\n",
        "    transforms.RandomRotation(30),\n",
        "    transforms.ToTensor(),\n",
        "    transforms.Normalize(resnet_means, resnet_stds)\n",
        "])\n",
        "\n",
        "resnet_test_transforms = transforms.Compose([\n",
        "    transforms.Resize(256),\n",
        "    transforms.CenterCrop(224),\n",
        "    transforms.ToTensor(),\n",
        "    transforms.Normalize(resnet_means, resnet_stds)\n",
        "])"
      ],
      "execution_count": 33,
      "outputs": []
    },
    {
      "cell_type": "code",
      "metadata": {
        "colab": {
          "base_uri": "https://localhost:8080/"
        },
        "id": "LPO_eVewPnTr",
        "outputId": "0e366ce2-6c51-40bf-f140-0159ef427b9d"
      },
      "source": [
        "train_dataset = datasets.CIFAR10(root=DATASET, train=True, \n",
        "                                 transform=transforms.ToTensor(), \n",
        "                                 download=True)\n",
        "train_len = int(.025 * len(train_dataset))\n",
        "val_len = int(.025 * len(train_dataset))\n",
        "\n",
        "resnet_train_ds = datasets.CIFAR10(root=DATASET, train=True, \n",
        "                                   transform=resnet_train_transforms,\n",
        "                                   download=True)\n",
        "resnet_train_ds, resnet_val_ds, _ = random_split(resnet_train_ds,\n",
        "                                              [train_len, val_len, \n",
        "                                               len(train_dataset) - train_len - val_len], \n",
        "                                              torch.Generator().manual_seed(0))\n",
        "resnet_val_ds.transform = resnet_test_transforms\n",
        "resnet_test_ds = datasets.CIFAR10(root=DATASET, train=False, \n",
        "                                  transform=resnet_test_transforms, \n",
        "                                  download=True)\n",
        "print(len(resnet_train_ds), len(resnet_val_ds), len(resnet_test_ds))"
      ],
      "execution_count": 34,
      "outputs": [
        {
          "output_type": "stream",
          "text": [
            "Files already downloaded and verified\n",
            "Files already downloaded and verified\n",
            "Files already downloaded and verified\n",
            "1250 1250 10000\n"
          ],
          "name": "stdout"
        }
      ]
    },
    {
      "cell_type": "markdown",
      "metadata": {
        "id": "I3LS7fmZd5OS"
      },
      "source": [
        "<a name=\"resnet-hyperparams\"></a>\r\n",
        "### ResNet50 Hyperparameters"
      ]
    },
    {
      "cell_type": "code",
      "metadata": {
        "id": "b9rHu8wjQX1d"
      },
      "source": [
        "EPOCHS = 100\n",
        "BATCH_SIZE = 256\n",
        "LEARNING_RATE = 1e-3"
      ],
      "execution_count": 35,
      "outputs": []
    },
    {
      "cell_type": "code",
      "metadata": {
        "id": "h4op-GxqQO05"
      },
      "source": [
        "resnet_train_loader = dataloader.DataLoader(dataset=resnet_train_ds, \n",
        "                                            batch_size=BATCH_SIZE)\n",
        "resnet_val_loader = dataloader.DataLoader(dataset=resnet_val_ds, \n",
        "                                          batch_size=BATCH_SIZE)\n",
        "resnet_test_loader = dataloader.DataLoader(dataset=resnet_test_ds, \n",
        "                                           batch_size=BATCH_SIZE)"
      ],
      "execution_count": 36,
      "outputs": []
    },
    {
      "cell_type": "code",
      "metadata": {
        "id": "luk4s8DVJMDV",
        "colab": {
          "base_uri": "https://localhost:8080/",
          "height": 106,
          "referenced_widgets": [
            "3ab6e5c546b04d1195995e0e41ac4596",
            "673fdb9fe3604772bbc97ef82e86b0a7",
            "9c549266e0a64762b75848f3815dc9d5",
            "f92b3430f75f46ea990f4ed1c96d99ce",
            "8fb85325a48f43bca61febef025c90c3",
            "5b6a6eaca9514b6aabf03813ded871bf",
            "dd90cd1573bf48a4b424cb663a7c39e7",
            "0048bbf2a96343f38ed4d0a2f3eb14a6"
          ]
        },
        "outputId": "6a78dc51-236b-4a84-ff76-8ac524bd2120"
      },
      "source": [
        "resnet50 = models.resnet50(pretrained=True, progress=True)\r\n",
        "for param in resnet50.parameters():\r\n",
        "    param.requires_grad = False\r\n",
        "# Set up model for 10 classes instead of ImageNets 200\r\n",
        "resnet50.fc = nn.Sequential(\r\n",
        "    nn.Linear(resnet50.fc.in_features, 512),\r\n",
        "    nn.ReLU(inplace=True),\r\n",
        "    nn.Linear(512, 128),\r\n",
        "    nn.ReLU(inplace=True),\r\n",
        "    nn.Linear(128, 10)\r\n",
        ")"
      ],
      "execution_count": 37,
      "outputs": [
        {
          "output_type": "stream",
          "text": [
            "Downloading: \"https://download.pytorch.org/models/resnet50-19c8e357.pth\" to /root/.cache/torch/hub/checkpoints/resnet50-19c8e357.pth\n"
          ],
          "name": "stderr"
        },
        {
          "output_type": "display_data",
          "data": {
            "application/vnd.jupyter.widget-view+json": {
              "model_id": "3ab6e5c546b04d1195995e0e41ac4596",
              "version_minor": 0,
              "version_major": 2
            },
            "text/plain": [
              "HBox(children=(FloatProgress(value=0.0, max=102502400.0), HTML(value='')))"
            ]
          },
          "metadata": {
            "tags": []
          }
        },
        {
          "output_type": "stream",
          "text": [
            "\n"
          ],
          "name": "stdout"
        }
      ]
    },
    {
      "cell_type": "code",
      "metadata": {
        "id": "UxBVsCQ5Pf8g"
      },
      "source": [
        "optimizer = optim.Adam(resnet50.parameters(), lr=LEARNING_RATE)\n",
        "\n",
        "device = torch.device('cuda' if torch.cuda.is_available() else 'cpu')\n",
        "\n",
        "loss_fn = nn.CrossEntropyLoss()\n",
        "\n",
        "resnet50 = resnet50.to(device)\n",
        "\n",
        "loss_fn = loss_fn.to(device)"
      ],
      "execution_count": 38,
      "outputs": []
    },
    {
      "cell_type": "code",
      "metadata": {
        "colab": {
          "base_uri": "https://localhost:8080/"
        },
        "id": "i8Pr5R-Odh4M",
        "outputId": "1236f262-15fd-4aa8-ef18-df7853bdd73c"
      },
      "source": [
        "summary(resnet50.to(device), (3, 224, 224))"
      ],
      "execution_count": 39,
      "outputs": [
        {
          "output_type": "stream",
          "text": [
            "----------------------------------------------------------------\n",
            "        Layer (type)               Output Shape         Param #\n",
            "================================================================\n",
            "            Conv2d-1         [-1, 64, 112, 112]           9,408\n",
            "       BatchNorm2d-2         [-1, 64, 112, 112]             128\n",
            "              ReLU-3         [-1, 64, 112, 112]               0\n",
            "         MaxPool2d-4           [-1, 64, 56, 56]               0\n",
            "            Conv2d-5           [-1, 64, 56, 56]           4,096\n",
            "       BatchNorm2d-6           [-1, 64, 56, 56]             128\n",
            "              ReLU-7           [-1, 64, 56, 56]               0\n",
            "            Conv2d-8           [-1, 64, 56, 56]          36,864\n",
            "       BatchNorm2d-9           [-1, 64, 56, 56]             128\n",
            "             ReLU-10           [-1, 64, 56, 56]               0\n",
            "           Conv2d-11          [-1, 256, 56, 56]          16,384\n",
            "      BatchNorm2d-12          [-1, 256, 56, 56]             512\n",
            "           Conv2d-13          [-1, 256, 56, 56]          16,384\n",
            "      BatchNorm2d-14          [-1, 256, 56, 56]             512\n",
            "             ReLU-15          [-1, 256, 56, 56]               0\n",
            "       Bottleneck-16          [-1, 256, 56, 56]               0\n",
            "           Conv2d-17           [-1, 64, 56, 56]          16,384\n",
            "      BatchNorm2d-18           [-1, 64, 56, 56]             128\n",
            "             ReLU-19           [-1, 64, 56, 56]               0\n",
            "           Conv2d-20           [-1, 64, 56, 56]          36,864\n",
            "      BatchNorm2d-21           [-1, 64, 56, 56]             128\n",
            "             ReLU-22           [-1, 64, 56, 56]               0\n",
            "           Conv2d-23          [-1, 256, 56, 56]          16,384\n",
            "      BatchNorm2d-24          [-1, 256, 56, 56]             512\n",
            "             ReLU-25          [-1, 256, 56, 56]               0\n",
            "       Bottleneck-26          [-1, 256, 56, 56]               0\n",
            "           Conv2d-27           [-1, 64, 56, 56]          16,384\n",
            "      BatchNorm2d-28           [-1, 64, 56, 56]             128\n",
            "             ReLU-29           [-1, 64, 56, 56]               0\n",
            "           Conv2d-30           [-1, 64, 56, 56]          36,864\n",
            "      BatchNorm2d-31           [-1, 64, 56, 56]             128\n",
            "             ReLU-32           [-1, 64, 56, 56]               0\n",
            "           Conv2d-33          [-1, 256, 56, 56]          16,384\n",
            "      BatchNorm2d-34          [-1, 256, 56, 56]             512\n",
            "             ReLU-35          [-1, 256, 56, 56]               0\n",
            "       Bottleneck-36          [-1, 256, 56, 56]               0\n",
            "           Conv2d-37          [-1, 128, 56, 56]          32,768\n",
            "      BatchNorm2d-38          [-1, 128, 56, 56]             256\n",
            "             ReLU-39          [-1, 128, 56, 56]               0\n",
            "           Conv2d-40          [-1, 128, 28, 28]         147,456\n",
            "      BatchNorm2d-41          [-1, 128, 28, 28]             256\n",
            "             ReLU-42          [-1, 128, 28, 28]               0\n",
            "           Conv2d-43          [-1, 512, 28, 28]          65,536\n",
            "      BatchNorm2d-44          [-1, 512, 28, 28]           1,024\n",
            "           Conv2d-45          [-1, 512, 28, 28]         131,072\n",
            "      BatchNorm2d-46          [-1, 512, 28, 28]           1,024\n",
            "             ReLU-47          [-1, 512, 28, 28]               0\n",
            "       Bottleneck-48          [-1, 512, 28, 28]               0\n",
            "           Conv2d-49          [-1, 128, 28, 28]          65,536\n",
            "      BatchNorm2d-50          [-1, 128, 28, 28]             256\n",
            "             ReLU-51          [-1, 128, 28, 28]               0\n",
            "           Conv2d-52          [-1, 128, 28, 28]         147,456\n",
            "      BatchNorm2d-53          [-1, 128, 28, 28]             256\n",
            "             ReLU-54          [-1, 128, 28, 28]               0\n",
            "           Conv2d-55          [-1, 512, 28, 28]          65,536\n",
            "      BatchNorm2d-56          [-1, 512, 28, 28]           1,024\n",
            "             ReLU-57          [-1, 512, 28, 28]               0\n",
            "       Bottleneck-58          [-1, 512, 28, 28]               0\n",
            "           Conv2d-59          [-1, 128, 28, 28]          65,536\n",
            "      BatchNorm2d-60          [-1, 128, 28, 28]             256\n",
            "             ReLU-61          [-1, 128, 28, 28]               0\n",
            "           Conv2d-62          [-1, 128, 28, 28]         147,456\n",
            "      BatchNorm2d-63          [-1, 128, 28, 28]             256\n",
            "             ReLU-64          [-1, 128, 28, 28]               0\n",
            "           Conv2d-65          [-1, 512, 28, 28]          65,536\n",
            "      BatchNorm2d-66          [-1, 512, 28, 28]           1,024\n",
            "             ReLU-67          [-1, 512, 28, 28]               0\n",
            "       Bottleneck-68          [-1, 512, 28, 28]               0\n",
            "           Conv2d-69          [-1, 128, 28, 28]          65,536\n",
            "      BatchNorm2d-70          [-1, 128, 28, 28]             256\n",
            "             ReLU-71          [-1, 128, 28, 28]               0\n",
            "           Conv2d-72          [-1, 128, 28, 28]         147,456\n",
            "      BatchNorm2d-73          [-1, 128, 28, 28]             256\n",
            "             ReLU-74          [-1, 128, 28, 28]               0\n",
            "           Conv2d-75          [-1, 512, 28, 28]          65,536\n",
            "      BatchNorm2d-76          [-1, 512, 28, 28]           1,024\n",
            "             ReLU-77          [-1, 512, 28, 28]               0\n",
            "       Bottleneck-78          [-1, 512, 28, 28]               0\n",
            "           Conv2d-79          [-1, 256, 28, 28]         131,072\n",
            "      BatchNorm2d-80          [-1, 256, 28, 28]             512\n",
            "             ReLU-81          [-1, 256, 28, 28]               0\n",
            "           Conv2d-82          [-1, 256, 14, 14]         589,824\n",
            "      BatchNorm2d-83          [-1, 256, 14, 14]             512\n",
            "             ReLU-84          [-1, 256, 14, 14]               0\n",
            "           Conv2d-85         [-1, 1024, 14, 14]         262,144\n",
            "      BatchNorm2d-86         [-1, 1024, 14, 14]           2,048\n",
            "           Conv2d-87         [-1, 1024, 14, 14]         524,288\n",
            "      BatchNorm2d-88         [-1, 1024, 14, 14]           2,048\n",
            "             ReLU-89         [-1, 1024, 14, 14]               0\n",
            "       Bottleneck-90         [-1, 1024, 14, 14]               0\n",
            "           Conv2d-91          [-1, 256, 14, 14]         262,144\n",
            "      BatchNorm2d-92          [-1, 256, 14, 14]             512\n",
            "             ReLU-93          [-1, 256, 14, 14]               0\n",
            "           Conv2d-94          [-1, 256, 14, 14]         589,824\n",
            "      BatchNorm2d-95          [-1, 256, 14, 14]             512\n",
            "             ReLU-96          [-1, 256, 14, 14]               0\n",
            "           Conv2d-97         [-1, 1024, 14, 14]         262,144\n",
            "      BatchNorm2d-98         [-1, 1024, 14, 14]           2,048\n",
            "             ReLU-99         [-1, 1024, 14, 14]               0\n",
            "      Bottleneck-100         [-1, 1024, 14, 14]               0\n",
            "          Conv2d-101          [-1, 256, 14, 14]         262,144\n",
            "     BatchNorm2d-102          [-1, 256, 14, 14]             512\n",
            "            ReLU-103          [-1, 256, 14, 14]               0\n",
            "          Conv2d-104          [-1, 256, 14, 14]         589,824\n",
            "     BatchNorm2d-105          [-1, 256, 14, 14]             512\n",
            "            ReLU-106          [-1, 256, 14, 14]               0\n",
            "          Conv2d-107         [-1, 1024, 14, 14]         262,144\n",
            "     BatchNorm2d-108         [-1, 1024, 14, 14]           2,048\n",
            "            ReLU-109         [-1, 1024, 14, 14]               0\n",
            "      Bottleneck-110         [-1, 1024, 14, 14]               0\n",
            "          Conv2d-111          [-1, 256, 14, 14]         262,144\n",
            "     BatchNorm2d-112          [-1, 256, 14, 14]             512\n",
            "            ReLU-113          [-1, 256, 14, 14]               0\n",
            "          Conv2d-114          [-1, 256, 14, 14]         589,824\n",
            "     BatchNorm2d-115          [-1, 256, 14, 14]             512\n",
            "            ReLU-116          [-1, 256, 14, 14]               0\n",
            "          Conv2d-117         [-1, 1024, 14, 14]         262,144\n",
            "     BatchNorm2d-118         [-1, 1024, 14, 14]           2,048\n",
            "            ReLU-119         [-1, 1024, 14, 14]               0\n",
            "      Bottleneck-120         [-1, 1024, 14, 14]               0\n",
            "          Conv2d-121          [-1, 256, 14, 14]         262,144\n",
            "     BatchNorm2d-122          [-1, 256, 14, 14]             512\n",
            "            ReLU-123          [-1, 256, 14, 14]               0\n",
            "          Conv2d-124          [-1, 256, 14, 14]         589,824\n",
            "     BatchNorm2d-125          [-1, 256, 14, 14]             512\n",
            "            ReLU-126          [-1, 256, 14, 14]               0\n",
            "          Conv2d-127         [-1, 1024, 14, 14]         262,144\n",
            "     BatchNorm2d-128         [-1, 1024, 14, 14]           2,048\n",
            "            ReLU-129         [-1, 1024, 14, 14]               0\n",
            "      Bottleneck-130         [-1, 1024, 14, 14]               0\n",
            "          Conv2d-131          [-1, 256, 14, 14]         262,144\n",
            "     BatchNorm2d-132          [-1, 256, 14, 14]             512\n",
            "            ReLU-133          [-1, 256, 14, 14]               0\n",
            "          Conv2d-134          [-1, 256, 14, 14]         589,824\n",
            "     BatchNorm2d-135          [-1, 256, 14, 14]             512\n",
            "            ReLU-136          [-1, 256, 14, 14]               0\n",
            "          Conv2d-137         [-1, 1024, 14, 14]         262,144\n",
            "     BatchNorm2d-138         [-1, 1024, 14, 14]           2,048\n",
            "            ReLU-139         [-1, 1024, 14, 14]               0\n",
            "      Bottleneck-140         [-1, 1024, 14, 14]               0\n",
            "          Conv2d-141          [-1, 512, 14, 14]         524,288\n",
            "     BatchNorm2d-142          [-1, 512, 14, 14]           1,024\n",
            "            ReLU-143          [-1, 512, 14, 14]               0\n",
            "          Conv2d-144            [-1, 512, 7, 7]       2,359,296\n",
            "     BatchNorm2d-145            [-1, 512, 7, 7]           1,024\n",
            "            ReLU-146            [-1, 512, 7, 7]               0\n",
            "          Conv2d-147           [-1, 2048, 7, 7]       1,048,576\n",
            "     BatchNorm2d-148           [-1, 2048, 7, 7]           4,096\n",
            "          Conv2d-149           [-1, 2048, 7, 7]       2,097,152\n",
            "     BatchNorm2d-150           [-1, 2048, 7, 7]           4,096\n",
            "            ReLU-151           [-1, 2048, 7, 7]               0\n",
            "      Bottleneck-152           [-1, 2048, 7, 7]               0\n",
            "          Conv2d-153            [-1, 512, 7, 7]       1,048,576\n",
            "     BatchNorm2d-154            [-1, 512, 7, 7]           1,024\n",
            "            ReLU-155            [-1, 512, 7, 7]               0\n",
            "          Conv2d-156            [-1, 512, 7, 7]       2,359,296\n",
            "     BatchNorm2d-157            [-1, 512, 7, 7]           1,024\n",
            "            ReLU-158            [-1, 512, 7, 7]               0\n",
            "          Conv2d-159           [-1, 2048, 7, 7]       1,048,576\n",
            "     BatchNorm2d-160           [-1, 2048, 7, 7]           4,096\n",
            "            ReLU-161           [-1, 2048, 7, 7]               0\n",
            "      Bottleneck-162           [-1, 2048, 7, 7]               0\n",
            "          Conv2d-163            [-1, 512, 7, 7]       1,048,576\n",
            "     BatchNorm2d-164            [-1, 512, 7, 7]           1,024\n",
            "            ReLU-165            [-1, 512, 7, 7]               0\n",
            "          Conv2d-166            [-1, 512, 7, 7]       2,359,296\n",
            "     BatchNorm2d-167            [-1, 512, 7, 7]           1,024\n",
            "            ReLU-168            [-1, 512, 7, 7]               0\n",
            "          Conv2d-169           [-1, 2048, 7, 7]       1,048,576\n",
            "     BatchNorm2d-170           [-1, 2048, 7, 7]           4,096\n",
            "            ReLU-171           [-1, 2048, 7, 7]               0\n",
            "      Bottleneck-172           [-1, 2048, 7, 7]               0\n",
            "AdaptiveAvgPool2d-173           [-1, 2048, 1, 1]               0\n",
            "          Linear-174                  [-1, 512]       1,049,088\n",
            "            ReLU-175                  [-1, 512]               0\n",
            "          Linear-176                  [-1, 128]          65,664\n",
            "            ReLU-177                  [-1, 128]               0\n",
            "          Linear-178                   [-1, 10]           1,290\n",
            "================================================================\n",
            "Total params: 24,624,074\n",
            "Trainable params: 1,116,042\n",
            "Non-trainable params: 23,508,032\n",
            "----------------------------------------------------------------\n",
            "Input size (MB): 0.57\n",
            "Forward/backward pass size (MB): 286.56\n",
            "Params size (MB): 93.93\n",
            "Estimated Total Size (MB): 381.07\n",
            "----------------------------------------------------------------\n"
          ],
          "name": "stdout"
        }
      ]
    },
    {
      "cell_type": "code",
      "metadata": {
        "id": "J05s1Y8VPAjE"
      },
      "source": [
        "def calculate_accuracy(y_pred:torch.Tensor, y:torch.Tensor):\r\n",
        "    '''\r\n",
        "        Calculate the number of correct y predictions divided by the total\r\n",
        "        number of predictions.\r\n",
        "\r\n",
        "        Args:\r\n",
        "            y_pred (torch.Tensor): A (Nx2) tensor, each row contains the \r\n",
        "                                   prediction of the model for a horse vs.\r\n",
        "                                   a human.\r\n",
        "            y (torch.Tensor): A (N,) tensor containing the true classes for each\r\n",
        "                              image.\r\n",
        "        Returns:\r\n",
        "            acc (float): The proportion of correct predictions over total\r\n",
        "                         predictions.\r\n",
        "    '''\r\n",
        "    top_pred = y_pred.argmax(1, keepdim = True)\r\n",
        "    correct = top_pred.eq(y.view_as(top_pred)).sum()\r\n",
        "    acc = correct.float() / y.shape[0]\r\n",
        "    return acc"
      ],
      "execution_count": 40,
      "outputs": []
    },
    {
      "cell_type": "code",
      "metadata": {
        "id": "CIeIW5PIPF1R"
      },
      "source": [
        "def train(model, iterator, optimizer, loss_fn, device):\r\n",
        "    '''\r\n",
        "        Performs a single pass through the batch iterator, computes error,\r\n",
        "        and updates model weights.\r\n",
        "\r\n",
        "        Args:\r\n",
        "            model (ConvNet): The CNN to perform weight updates on.\r\n",
        "            iterator (DataLoader): Iterator that holds BATCH_SIZE img,class\r\n",
        "                                   pairs at a time.\r\n",
        "            optimizer (optim): Learning rate optimizer for individual parameters\r\n",
        "            loss_fn: Computes loss and gradient descent for model parameters\r\n",
        "            device: GPU or CPU\r\n",
        "        Returns:\r\n",
        "            Average loss and accuracy for all samples in batch.\r\n",
        "    '''\r\n",
        "    \r\n",
        "    epoch_loss = 0\r\n",
        "    epoch_acc = 0\r\n",
        "    \r\n",
        "    model.to(device)\r\n",
        "    loss_fn.to(device)\r\n",
        "    \r\n",
        "    model.train()\r\n",
        "    \r\n",
        "    for (x, y) in iterator:\r\n",
        "        \r\n",
        "        x = x.to(device)\r\n",
        "        y = y.to(device)\r\n",
        "        \r\n",
        "        optimizer.zero_grad()\r\n",
        "                \r\n",
        "        y_pred = model(x)\r\n",
        "        \r\n",
        "        loss = loss_fn(y_pred, y)\r\n",
        "        \r\n",
        "        acc = calculate_accuracy(y_pred, y)\r\n",
        "        \r\n",
        "        loss.backward()\r\n",
        "        \r\n",
        "        optimizer.step()\r\n",
        "        \r\n",
        "        epoch_loss += loss.item()\r\n",
        "        epoch_acc += acc.item()\r\n",
        "        \r\n",
        "    return epoch_loss / len(iterator), epoch_acc / len(iterator)"
      ],
      "execution_count": 41,
      "outputs": []
    },
    {
      "cell_type": "code",
      "metadata": {
        "id": "chjyU8qWPKJK"
      },
      "source": [
        "def evaluate(model, iterator, loss_fn, device):\r\n",
        "    '''\r\n",
        "        Performs a single pass through the batch iterator, and computes loss\r\n",
        "        and accuracy.\r\n",
        "\r\n",
        "        Args:\r\n",
        "            model (ConvNet): The CNN model to make predictions.\r\n",
        "            iterator (DataLoader): Iterator that holds BATCH_SIZE img,class\r\n",
        "                                   pairs at a time.\r\n",
        "            loss_fn: Computes loss for predicted values and actual values\r\n",
        "            device: GPU or CPU\r\n",
        "        Returns:\r\n",
        "            Average loss and accuracy for all samples in batch.\r\n",
        "    '''\r\n",
        "\r\n",
        "    epoch_loss = 0\r\n",
        "    epoch_acc = 0\r\n",
        "    \r\n",
        "    model.to(device)\r\n",
        "    loss_fn.to(device)\r\n",
        "\r\n",
        "    model.eval()\r\n",
        "    \r\n",
        "    with torch.no_grad():\r\n",
        "        \r\n",
        "        for (x, y) in iterator:\r\n",
        "\r\n",
        "            x = x.to(device)\r\n",
        "            y = y.to(device)\r\n",
        "\r\n",
        "            y_pred = model(x)\r\n",
        "\r\n",
        "            loss = loss_fn(y_pred, y)\r\n",
        "\r\n",
        "            acc = calculate_accuracy(y_pred, y)\r\n",
        "\r\n",
        "            epoch_loss += loss.item()\r\n",
        "            epoch_acc += acc.item()\r\n",
        "        \r\n",
        "    return epoch_loss / len(iterator), epoch_acc / len(iterator)"
      ],
      "execution_count": 42,
      "outputs": []
    },
    {
      "cell_type": "code",
      "metadata": {
        "id": "xTFybIlyPTJ7"
      },
      "source": [
        "def epoch_time(start_time, end_time):\r\n",
        "    '''\r\n",
        "        Converts a given start time and end time into a duration in min:sec\r\n",
        "        format.\r\n",
        "    '''\r\n",
        "    elapsed_time = end_time - start_time\r\n",
        "    elapsed_mins = int(elapsed_time / 60)\r\n",
        "    elapsed_secs = int(elapsed_time - (elapsed_mins * 60))\r\n",
        "    return elapsed_mins, elapsed_secs"
      ],
      "execution_count": 43,
      "outputs": []
    },
    {
      "cell_type": "code",
      "metadata": {
        "colab": {
          "base_uri": "https://localhost:8080/"
        },
        "id": "XjkOwPVaTtDb",
        "outputId": "1d8c8493-9f0e-48e3-cb5d-b6c8878fb0ee"
      },
      "source": [
        "best_loss = float('inf')\n",
        "\n",
        "for epoch in range(EPOCHS):\n",
        "    start_time = time.monotonic()\n",
        "    \n",
        "    train_loss, train_acc = train(resnet50, resnet_train_loader, optimizer, \n",
        "                                  loss_fn, device)\n",
        "    valid_loss, valid_acc = evaluate(resnet50, resnet_val_loader, loss_fn, \n",
        "                                     device)\n",
        "        \n",
        "    if valid_loss <= best_loss:\n",
        "        print(\"Better loss, saving model. . .\")\n",
        "        torch.save(resnet50.state_dict(), \n",
        "                   os.path.join(MODELS, 'resnet50.pt'))\n",
        "\n",
        "    end_time = time.monotonic()\n",
        "\n",
        "    epoch_mins, epoch_secs = epoch_time(start_time, end_time)\n",
        "    \n",
        "    print(\"Epoch:\", epoch+1, \"| Epoch Time:\", epoch_mins, \"m \", epoch_secs,\"s\")\n",
        "    print(f'\\tTrain Loss: {train_loss:.3f} | Train Acc: {train_acc*100:.2f}%')\n",
        "    print(f'\\t Val. Loss: {valid_loss:.3f} |  Val. Acc: {valid_acc*100:.2f}%')\n",
        "    "
      ],
      "execution_count": 44,
      "outputs": [
        {
          "output_type": "stream",
          "text": [
            "Better loss, saving model. . .\n",
            "Epoch: 1 | Epoch Time: 0 m  13 s\n",
            "\tTrain Loss: 2.276 | Train Acc: 16.32%\n",
            "\t Val. Loss: 2.231 |  Val. Acc: 24.66%\n",
            "Better loss, saving model. . .\n",
            "Epoch: 2 | Epoch Time: 0 m  13 s\n",
            "\tTrain Loss: 2.146 | Train Acc: 25.92%\n",
            "\t Val. Loss: 2.017 |  Val. Acc: 33.15%\n",
            "Better loss, saving model. . .\n",
            "Epoch: 3 | Epoch Time: 0 m  13 s\n",
            "\tTrain Loss: 1.947 | Train Acc: 35.86%\n",
            "\t Val. Loss: 1.842 |  Val. Acc: 36.42%\n",
            "Better loss, saving model. . .\n",
            "Epoch: 4 | Epoch Time: 0 m  13 s\n",
            "\tTrain Loss: 1.769 | Train Acc: 39.84%\n",
            "\t Val. Loss: 1.730 |  Val. Acc: 37.36%\n",
            "Better loss, saving model. . .\n",
            "Epoch: 5 | Epoch Time: 0 m  13 s\n",
            "\tTrain Loss: 1.652 | Train Acc: 45.29%\n",
            "\t Val. Loss: 1.642 |  Val. Acc: 38.36%\n",
            "Better loss, saving model. . .\n",
            "Epoch: 6 | Epoch Time: 0 m  13 s\n",
            "\tTrain Loss: 1.576 | Train Acc: 42.92%\n",
            "\t Val. Loss: 1.633 |  Val. Acc: 40.92%\n",
            "Better loss, saving model. . .\n",
            "Epoch: 7 | Epoch Time: 0 m  13 s\n",
            "\tTrain Loss: 1.508 | Train Acc: 48.87%\n",
            "\t Val. Loss: 1.545 |  Val. Acc: 44.52%\n",
            "Better loss, saving model. . .\n",
            "Epoch: 8 | Epoch Time: 0 m  13 s\n",
            "\tTrain Loss: 1.456 | Train Acc: 47.47%\n",
            "\t Val. Loss: 1.527 |  Val. Acc: 46.75%\n",
            "Better loss, saving model. . .\n",
            "Epoch: 9 | Epoch Time: 0 m  13 s\n",
            "\tTrain Loss: 1.423 | Train Acc: 48.62%\n",
            "\t Val. Loss: 1.567 |  Val. Acc: 44.56%\n",
            "Better loss, saving model. . .\n",
            "Epoch: 10 | Epoch Time: 0 m  13 s\n",
            "\tTrain Loss: 1.421 | Train Acc: 51.26%\n",
            "\t Val. Loss: 1.519 |  Val. Acc: 45.35%\n",
            "Better loss, saving model. . .\n",
            "Epoch: 11 | Epoch Time: 0 m  13 s\n",
            "\tTrain Loss: 1.395 | Train Acc: 51.04%\n",
            "\t Val. Loss: 1.470 |  Val. Acc: 48.05%\n",
            "Better loss, saving model. . .\n",
            "Epoch: 12 | Epoch Time: 0 m  13 s\n",
            "\tTrain Loss: 1.352 | Train Acc: 53.32%\n",
            "\t Val. Loss: 1.456 |  Val. Acc: 48.99%\n",
            "Better loss, saving model. . .\n",
            "Epoch: 13 | Epoch Time: 0 m  13 s\n",
            "\tTrain Loss: 1.361 | Train Acc: 52.68%\n",
            "\t Val. Loss: 1.444 |  Val. Acc: 47.24%\n",
            "Better loss, saving model. . .\n",
            "Epoch: 14 | Epoch Time: 0 m  13 s\n",
            "\tTrain Loss: 1.341 | Train Acc: 52.42%\n",
            "\t Val. Loss: 1.434 |  Val. Acc: 48.44%\n",
            "Better loss, saving model. . .\n",
            "Epoch: 15 | Epoch Time: 0 m  13 s\n",
            "\tTrain Loss: 1.312 | Train Acc: 53.56%\n",
            "\t Val. Loss: 1.416 |  Val. Acc: 48.19%\n",
            "Better loss, saving model. . .\n",
            "Epoch: 16 | Epoch Time: 0 m  13 s\n",
            "\tTrain Loss: 1.268 | Train Acc: 55.49%\n",
            "\t Val. Loss: 1.427 |  Val. Acc: 50.70%\n",
            "Better loss, saving model. . .\n",
            "Epoch: 17 | Epoch Time: 0 m  13 s\n",
            "\tTrain Loss: 1.340 | Train Acc: 52.50%\n",
            "\t Val. Loss: 1.401 |  Val. Acc: 49.30%\n",
            "Better loss, saving model. . .\n",
            "Epoch: 18 | Epoch Time: 0 m  13 s\n",
            "\tTrain Loss: 1.301 | Train Acc: 54.67%\n",
            "\t Val. Loss: 1.423 |  Val. Acc: 50.73%\n",
            "Better loss, saving model. . .\n",
            "Epoch: 19 | Epoch Time: 0 m  13 s\n",
            "\tTrain Loss: 1.230 | Train Acc: 57.14%\n",
            "\t Val. Loss: 1.390 |  Val. Acc: 50.56%\n",
            "Better loss, saving model. . .\n",
            "Epoch: 20 | Epoch Time: 0 m  13 s\n",
            "\tTrain Loss: 1.276 | Train Acc: 54.92%\n",
            "\t Val. Loss: 1.388 |  Val. Acc: 50.24%\n",
            "Better loss, saving model. . .\n",
            "Epoch: 21 | Epoch Time: 0 m  13 s\n",
            "\tTrain Loss: 1.282 | Train Acc: 55.19%\n",
            "\t Val. Loss: 1.418 |  Val. Acc: 49.01%\n",
            "Better loss, saving model. . .\n",
            "Epoch: 22 | Epoch Time: 0 m  13 s\n",
            "\tTrain Loss: 1.295 | Train Acc: 54.78%\n",
            "\t Val. Loss: 1.371 |  Val. Acc: 48.46%\n",
            "Better loss, saving model. . .\n",
            "Epoch: 23 | Epoch Time: 0 m  13 s\n",
            "\tTrain Loss: 1.244 | Train Acc: 54.28%\n",
            "\t Val. Loss: 1.391 |  Val. Acc: 49.28%\n",
            "Better loss, saving model. . .\n",
            "Epoch: 24 | Epoch Time: 0 m  13 s\n",
            "\tTrain Loss: 1.208 | Train Acc: 57.67%\n",
            "\t Val. Loss: 1.428 |  Val. Acc: 48.98%\n",
            "Better loss, saving model. . .\n",
            "Epoch: 25 | Epoch Time: 0 m  13 s\n",
            "\tTrain Loss: 1.220 | Train Acc: 56.54%\n",
            "\t Val. Loss: 1.379 |  Val. Acc: 52.08%\n",
            "Better loss, saving model. . .\n",
            "Epoch: 26 | Epoch Time: 0 m  13 s\n",
            "\tTrain Loss: 1.214 | Train Acc: 58.44%\n",
            "\t Val. Loss: 1.349 |  Val. Acc: 51.47%\n",
            "Better loss, saving model. . .\n",
            "Epoch: 27 | Epoch Time: 0 m  13 s\n",
            "\tTrain Loss: 1.207 | Train Acc: 58.13%\n",
            "\t Val. Loss: 1.404 |  Val. Acc: 48.90%\n",
            "Better loss, saving model. . .\n",
            "Epoch: 28 | Epoch Time: 0 m  13 s\n",
            "\tTrain Loss: 1.210 | Train Acc: 57.77%\n",
            "\t Val. Loss: 1.407 |  Val. Acc: 50.27%\n",
            "Better loss, saving model. . .\n",
            "Epoch: 29 | Epoch Time: 0 m  13 s\n",
            "\tTrain Loss: 1.247 | Train Acc: 58.33%\n",
            "\t Val. Loss: 1.346 |  Val. Acc: 52.74%\n",
            "Better loss, saving model. . .\n",
            "Epoch: 30 | Epoch Time: 0 m  13 s\n",
            "\tTrain Loss: 1.188 | Train Acc: 57.41%\n",
            "\t Val. Loss: 1.375 |  Val. Acc: 50.99%\n",
            "Better loss, saving model. . .\n",
            "Epoch: 31 | Epoch Time: 0 m  13 s\n",
            "\tTrain Loss: 1.156 | Train Acc: 58.35%\n",
            "\t Val. Loss: 1.406 |  Val. Acc: 48.41%\n",
            "Better loss, saving model. . .\n",
            "Epoch: 32 | Epoch Time: 0 m  13 s\n",
            "\tTrain Loss: 1.198 | Train Acc: 57.48%\n",
            "\t Val. Loss: 1.328 |  Val. Acc: 52.29%\n",
            "Better loss, saving model. . .\n",
            "Epoch: 33 | Epoch Time: 0 m  13 s\n",
            "\tTrain Loss: 1.205 | Train Acc: 57.66%\n",
            "\t Val. Loss: 1.371 |  Val. Acc: 52.15%\n",
            "Better loss, saving model. . .\n",
            "Epoch: 34 | Epoch Time: 0 m  13 s\n",
            "\tTrain Loss: 1.183 | Train Acc: 59.51%\n",
            "\t Val. Loss: 1.374 |  Val. Acc: 51.72%\n",
            "Better loss, saving model. . .\n",
            "Epoch: 35 | Epoch Time: 0 m  13 s\n",
            "\tTrain Loss: 1.170 | Train Acc: 58.70%\n",
            "\t Val. Loss: 1.304 |  Val. Acc: 53.93%\n",
            "Better loss, saving model. . .\n",
            "Epoch: 36 | Epoch Time: 0 m  13 s\n",
            "\tTrain Loss: 1.198 | Train Acc: 57.45%\n",
            "\t Val. Loss: 1.345 |  Val. Acc: 50.38%\n",
            "Better loss, saving model. . .\n",
            "Epoch: 37 | Epoch Time: 0 m  13 s\n",
            "\tTrain Loss: 1.216 | Train Acc: 56.32%\n",
            "\t Val. Loss: 1.312 |  Val. Acc: 52.59%\n",
            "Better loss, saving model. . .\n",
            "Epoch: 38 | Epoch Time: 0 m  13 s\n",
            "\tTrain Loss: 1.181 | Train Acc: 59.35%\n",
            "\t Val. Loss: 1.338 |  Val. Acc: 52.98%\n",
            "Better loss, saving model. . .\n",
            "Epoch: 39 | Epoch Time: 0 m  13 s\n",
            "\tTrain Loss: 1.154 | Train Acc: 59.32%\n",
            "\t Val. Loss: 1.356 |  Val. Acc: 50.97%\n",
            "Better loss, saving model. . .\n",
            "Epoch: 40 | Epoch Time: 0 m  13 s\n",
            "\tTrain Loss: 1.128 | Train Acc: 59.35%\n",
            "\t Val. Loss: 1.308 |  Val. Acc: 54.55%\n",
            "Better loss, saving model. . .\n",
            "Epoch: 41 | Epoch Time: 0 m  13 s\n",
            "\tTrain Loss: 1.136 | Train Acc: 59.46%\n",
            "\t Val. Loss: 1.339 |  Val. Acc: 52.19%\n",
            "Better loss, saving model. . .\n",
            "Epoch: 42 | Epoch Time: 0 m  13 s\n",
            "\tTrain Loss: 1.156 | Train Acc: 60.04%\n",
            "\t Val. Loss: 1.323 |  Val. Acc: 52.86%\n",
            "Better loss, saving model. . .\n",
            "Epoch: 43 | Epoch Time: 0 m  13 s\n",
            "\tTrain Loss: 1.124 | Train Acc: 59.40%\n",
            "\t Val. Loss: 1.342 |  Val. Acc: 53.26%\n",
            "Better loss, saving model. . .\n",
            "Epoch: 44 | Epoch Time: 0 m  13 s\n",
            "\tTrain Loss: 1.202 | Train Acc: 58.05%\n",
            "\t Val. Loss: 1.355 |  Val. Acc: 51.51%\n",
            "Better loss, saving model. . .\n",
            "Epoch: 45 | Epoch Time: 0 m  13 s\n",
            "\tTrain Loss: 1.152 | Train Acc: 60.48%\n",
            "\t Val. Loss: 1.320 |  Val. Acc: 53.16%\n",
            "Better loss, saving model. . .\n",
            "Epoch: 46 | Epoch Time: 0 m  13 s\n",
            "\tTrain Loss: 1.177 | Train Acc: 59.39%\n",
            "\t Val. Loss: 1.349 |  Val. Acc: 53.47%\n",
            "Better loss, saving model. . .\n",
            "Epoch: 47 | Epoch Time: 0 m  13 s\n",
            "\tTrain Loss: 1.150 | Train Acc: 60.82%\n",
            "\t Val. Loss: 1.354 |  Val. Acc: 50.55%\n",
            "Better loss, saving model. . .\n",
            "Epoch: 48 | Epoch Time: 0 m  13 s\n",
            "\tTrain Loss: 1.095 | Train Acc: 61.67%\n",
            "\t Val. Loss: 1.332 |  Val. Acc: 53.39%\n",
            "Better loss, saving model. . .\n",
            "Epoch: 49 | Epoch Time: 0 m  13 s\n",
            "\tTrain Loss: 1.137 | Train Acc: 58.65%\n",
            "\t Val. Loss: 1.336 |  Val. Acc: 51.73%\n",
            "Better loss, saving model. . .\n",
            "Epoch: 50 | Epoch Time: 0 m  13 s\n",
            "\tTrain Loss: 1.168 | Train Acc: 57.94%\n",
            "\t Val. Loss: 1.363 |  Val. Acc: 52.65%\n",
            "Better loss, saving model. . .\n",
            "Epoch: 51 | Epoch Time: 0 m  13 s\n",
            "\tTrain Loss: 1.162 | Train Acc: 59.95%\n",
            "\t Val. Loss: 1.376 |  Val. Acc: 50.70%\n",
            "Better loss, saving model. . .\n",
            "Epoch: 52 | Epoch Time: 0 m  13 s\n",
            "\tTrain Loss: 1.136 | Train Acc: 59.29%\n",
            "\t Val. Loss: 1.366 |  Val. Acc: 51.11%\n",
            "Better loss, saving model. . .\n",
            "Epoch: 53 | Epoch Time: 0 m  13 s\n",
            "\tTrain Loss: 1.115 | Train Acc: 60.61%\n",
            "\t Val. Loss: 1.328 |  Val. Acc: 51.04%\n",
            "Better loss, saving model. . .\n",
            "Epoch: 54 | Epoch Time: 0 m  13 s\n",
            "\tTrain Loss: 1.141 | Train Acc: 59.75%\n",
            "\t Val. Loss: 1.367 |  Val. Acc: 50.64%\n",
            "Better loss, saving model. . .\n",
            "Epoch: 55 | Epoch Time: 0 m  13 s\n",
            "\tTrain Loss: 1.117 | Train Acc: 61.21%\n",
            "\t Val. Loss: 1.338 |  Val. Acc: 53.09%\n",
            "Better loss, saving model. . .\n",
            "Epoch: 56 | Epoch Time: 0 m  13 s\n",
            "\tTrain Loss: 1.122 | Train Acc: 60.53%\n",
            "\t Val. Loss: 1.357 |  Val. Acc: 51.99%\n",
            "Better loss, saving model. . .\n",
            "Epoch: 57 | Epoch Time: 0 m  13 s\n",
            "\tTrain Loss: 1.131 | Train Acc: 60.82%\n",
            "\t Val. Loss: 1.292 |  Val. Acc: 55.33%\n",
            "Better loss, saving model. . .\n",
            "Epoch: 58 | Epoch Time: 0 m  13 s\n",
            "\tTrain Loss: 1.080 | Train Acc: 61.29%\n",
            "\t Val. Loss: 1.324 |  Val. Acc: 52.36%\n",
            "Better loss, saving model. . .\n",
            "Epoch: 59 | Epoch Time: 0 m  13 s\n",
            "\tTrain Loss: 1.085 | Train Acc: 61.23%\n",
            "\t Val. Loss: 1.357 |  Val. Acc: 51.45%\n",
            "Better loss, saving model. . .\n",
            "Epoch: 60 | Epoch Time: 0 m  13 s\n",
            "\tTrain Loss: 1.108 | Train Acc: 60.65%\n",
            "\t Val. Loss: 1.369 |  Val. Acc: 51.91%\n",
            "Better loss, saving model. . .\n",
            "Epoch: 61 | Epoch Time: 0 m  13 s\n",
            "\tTrain Loss: 1.136 | Train Acc: 62.58%\n",
            "\t Val. Loss: 1.319 |  Val. Acc: 53.86%\n",
            "Better loss, saving model. . .\n",
            "Epoch: 62 | Epoch Time: 0 m  13 s\n",
            "\tTrain Loss: 1.075 | Train Acc: 62.44%\n",
            "\t Val. Loss: 1.364 |  Val. Acc: 52.12%\n",
            "Better loss, saving model. . .\n",
            "Epoch: 63 | Epoch Time: 0 m  13 s\n",
            "\tTrain Loss: 1.073 | Train Acc: 61.87%\n",
            "\t Val. Loss: 1.362 |  Val. Acc: 53.14%\n",
            "Better loss, saving model. . .\n",
            "Epoch: 64 | Epoch Time: 0 m  13 s\n",
            "\tTrain Loss: 1.098 | Train Acc: 61.95%\n",
            "\t Val. Loss: 1.333 |  Val. Acc: 52.57%\n",
            "Better loss, saving model. . .\n",
            "Epoch: 65 | Epoch Time: 0 m  13 s\n",
            "\tTrain Loss: 1.111 | Train Acc: 60.65%\n",
            "\t Val. Loss: 1.334 |  Val. Acc: 52.63%\n",
            "Better loss, saving model. . .\n",
            "Epoch: 66 | Epoch Time: 0 m  13 s\n",
            "\tTrain Loss: 1.092 | Train Acc: 62.01%\n",
            "\t Val. Loss: 1.366 |  Val. Acc: 51.46%\n",
            "Better loss, saving model. . .\n",
            "Epoch: 67 | Epoch Time: 0 m  13 s\n",
            "\tTrain Loss: 1.125 | Train Acc: 60.13%\n",
            "\t Val. Loss: 1.302 |  Val. Acc: 52.17%\n",
            "Better loss, saving model. . .\n",
            "Epoch: 68 | Epoch Time: 0 m  13 s\n",
            "\tTrain Loss: 1.104 | Train Acc: 59.79%\n",
            "\t Val. Loss: 1.368 |  Val. Acc: 50.93%\n",
            "Better loss, saving model. . .\n",
            "Epoch: 69 | Epoch Time: 0 m  13 s\n",
            "\tTrain Loss: 1.099 | Train Acc: 61.95%\n",
            "\t Val. Loss: 1.342 |  Val. Acc: 53.64%\n",
            "Better loss, saving model. . .\n",
            "Epoch: 70 | Epoch Time: 0 m  13 s\n",
            "\tTrain Loss: 1.089 | Train Acc: 60.33%\n",
            "\t Val. Loss: 1.351 |  Val. Acc: 52.89%\n",
            "Better loss, saving model. . .\n",
            "Epoch: 71 | Epoch Time: 0 m  13 s\n",
            "\tTrain Loss: 1.103 | Train Acc: 61.66%\n",
            "\t Val. Loss: 1.303 |  Val. Acc: 55.38%\n",
            "Better loss, saving model. . .\n",
            "Epoch: 72 | Epoch Time: 0 m  13 s\n",
            "\tTrain Loss: 1.072 | Train Acc: 61.99%\n",
            "\t Val. Loss: 1.342 |  Val. Acc: 51.50%\n",
            "Better loss, saving model. . .\n",
            "Epoch: 73 | Epoch Time: 0 m  13 s\n",
            "\tTrain Loss: 1.074 | Train Acc: 62.68%\n",
            "\t Val. Loss: 1.309 |  Val. Acc: 51.69%\n",
            "Better loss, saving model. . .\n",
            "Epoch: 74 | Epoch Time: 0 m  13 s\n",
            "\tTrain Loss: 1.117 | Train Acc: 61.31%\n",
            "\t Val. Loss: 1.342 |  Val. Acc: 53.46%\n",
            "Better loss, saving model. . .\n",
            "Epoch: 75 | Epoch Time: 0 m  13 s\n",
            "\tTrain Loss: 1.109 | Train Acc: 60.74%\n",
            "\t Val. Loss: 1.327 |  Val. Acc: 52.80%\n",
            "Better loss, saving model. . .\n",
            "Epoch: 76 | Epoch Time: 0 m  13 s\n",
            "\tTrain Loss: 1.080 | Train Acc: 62.05%\n",
            "\t Val. Loss: 1.297 |  Val. Acc: 52.97%\n",
            "Better loss, saving model. . .\n",
            "Epoch: 77 | Epoch Time: 0 m  13 s\n",
            "\tTrain Loss: 1.081 | Train Acc: 60.68%\n",
            "\t Val. Loss: 1.334 |  Val. Acc: 52.47%\n",
            "Better loss, saving model. . .\n",
            "Epoch: 78 | Epoch Time: 0 m  13 s\n",
            "\tTrain Loss: 1.096 | Train Acc: 62.17%\n",
            "\t Val. Loss: 1.336 |  Val. Acc: 53.37%\n",
            "Better loss, saving model. . .\n",
            "Epoch: 79 | Epoch Time: 0 m  13 s\n",
            "\tTrain Loss: 1.107 | Train Acc: 60.63%\n",
            "\t Val. Loss: 1.322 |  Val. Acc: 53.26%\n",
            "Better loss, saving model. . .\n",
            "Epoch: 80 | Epoch Time: 0 m  13 s\n",
            "\tTrain Loss: 1.122 | Train Acc: 58.95%\n",
            "\t Val. Loss: 1.369 |  Val. Acc: 51.84%\n",
            "Better loss, saving model. . .\n",
            "Epoch: 81 | Epoch Time: 0 m  13 s\n",
            "\tTrain Loss: 1.066 | Train Acc: 61.76%\n",
            "\t Val. Loss: 1.319 |  Val. Acc: 54.45%\n",
            "Better loss, saving model. . .\n",
            "Epoch: 82 | Epoch Time: 0 m  13 s\n",
            "\tTrain Loss: 1.092 | Train Acc: 61.79%\n",
            "\t Val. Loss: 1.354 |  Val. Acc: 52.06%\n",
            "Better loss, saving model. . .\n",
            "Epoch: 83 | Epoch Time: 0 m  13 s\n",
            "\tTrain Loss: 1.074 | Train Acc: 62.43%\n",
            "\t Val. Loss: 1.400 |  Val. Acc: 51.51%\n",
            "Better loss, saving model. . .\n",
            "Epoch: 84 | Epoch Time: 0 m  13 s\n",
            "\tTrain Loss: 1.065 | Train Acc: 62.10%\n",
            "\t Val. Loss: 1.371 |  Val. Acc: 52.44%\n",
            "Better loss, saving model. . .\n",
            "Epoch: 85 | Epoch Time: 0 m  13 s\n",
            "\tTrain Loss: 1.120 | Train Acc: 61.58%\n",
            "\t Val. Loss: 1.353 |  Val. Acc: 53.79%\n",
            "Better loss, saving model. . .\n",
            "Epoch: 86 | Epoch Time: 0 m  13 s\n",
            "\tTrain Loss: 1.052 | Train Acc: 62.36%\n",
            "\t Val. Loss: 1.292 |  Val. Acc: 53.97%\n",
            "Better loss, saving model. . .\n",
            "Epoch: 87 | Epoch Time: 0 m  13 s\n",
            "\tTrain Loss: 1.060 | Train Acc: 61.71%\n",
            "\t Val. Loss: 1.362 |  Val. Acc: 51.65%\n",
            "Better loss, saving model. . .\n",
            "Epoch: 88 | Epoch Time: 0 m  13 s\n",
            "\tTrain Loss: 1.057 | Train Acc: 62.78%\n",
            "\t Val. Loss: 1.323 |  Val. Acc: 52.71%\n",
            "Better loss, saving model. . .\n",
            "Epoch: 89 | Epoch Time: 0 m  13 s\n",
            "\tTrain Loss: 1.035 | Train Acc: 63.88%\n",
            "\t Val. Loss: 1.347 |  Val. Acc: 52.39%\n",
            "Better loss, saving model. . .\n",
            "Epoch: 90 | Epoch Time: 0 m  13 s\n",
            "\tTrain Loss: 1.120 | Train Acc: 60.47%\n",
            "\t Val. Loss: 1.283 |  Val. Acc: 54.71%\n",
            "Better loss, saving model. . .\n",
            "Epoch: 91 | Epoch Time: 0 m  13 s\n",
            "\tTrain Loss: 1.058 | Train Acc: 62.28%\n",
            "\t Val. Loss: 1.392 |  Val. Acc: 50.77%\n",
            "Better loss, saving model. . .\n",
            "Epoch: 92 | Epoch Time: 0 m  13 s\n",
            "\tTrain Loss: 1.072 | Train Acc: 62.80%\n",
            "\t Val. Loss: 1.360 |  Val. Acc: 51.11%\n",
            "Better loss, saving model. . .\n",
            "Epoch: 93 | Epoch Time: 0 m  13 s\n",
            "\tTrain Loss: 1.066 | Train Acc: 60.95%\n",
            "\t Val. Loss: 1.300 |  Val. Acc: 53.90%\n",
            "Better loss, saving model. . .\n",
            "Epoch: 94 | Epoch Time: 0 m  13 s\n",
            "\tTrain Loss: 1.050 | Train Acc: 63.65%\n",
            "\t Val. Loss: 1.368 |  Val. Acc: 51.30%\n",
            "Better loss, saving model. . .\n",
            "Epoch: 95 | Epoch Time: 0 m  13 s\n",
            "\tTrain Loss: 1.084 | Train Acc: 63.22%\n",
            "\t Val. Loss: 1.347 |  Val. Acc: 50.90%\n",
            "Better loss, saving model. . .\n",
            "Epoch: 96 | Epoch Time: 0 m  13 s\n",
            "\tTrain Loss: 1.084 | Train Acc: 60.56%\n",
            "\t Val. Loss: 1.341 |  Val. Acc: 52.86%\n",
            "Better loss, saving model. . .\n",
            "Epoch: 97 | Epoch Time: 0 m  13 s\n",
            "\tTrain Loss: 1.018 | Train Acc: 63.87%\n",
            "\t Val. Loss: 1.327 |  Val. Acc: 52.73%\n",
            "Better loss, saving model. . .\n",
            "Epoch: 98 | Epoch Time: 0 m  13 s\n",
            "\tTrain Loss: 1.061 | Train Acc: 61.47%\n",
            "\t Val. Loss: 1.334 |  Val. Acc: 53.07%\n",
            "Better loss, saving model. . .\n",
            "Epoch: 99 | Epoch Time: 0 m  13 s\n",
            "\tTrain Loss: 1.034 | Train Acc: 64.78%\n",
            "\t Val. Loss: 1.308 |  Val. Acc: 53.30%\n",
            "Better loss, saving model. . .\n",
            "Epoch: 100 | Epoch Time: 0 m  13 s\n",
            "\tTrain Loss: 1.096 | Train Acc: 61.85%\n",
            "\t Val. Loss: 1.338 |  Val. Acc: 54.25%\n"
          ],
          "name": "stdout"
        }
      ]
    },
    {
      "cell_type": "code",
      "metadata": {
        "colab": {
          "base_uri": "https://localhost:8080/"
        },
        "id": "MYcjh4zx1rPQ",
        "outputId": "3b613681-5941-40f0-ab7c-f330d42a890a"
      },
      "source": [
        "resnet50 = models.resnet50(pretrained=True, progress=True)\r\n",
        "resnet50.fc = nn.Sequential(\r\n",
        "    nn.Linear(resnet50.fc.in_features, 512),\r\n",
        "    nn.ReLU(inplace=True),\r\n",
        "    nn.Linear(512, 128),\r\n",
        "    nn.ReLU(inplace=True),\r\n",
        "    nn.Linear(128, 10)\r\n",
        ")\r\n",
        "resnet50.load_state_dict(torch.load(os.path.join(MODELS, \"resnet50.pt\")))\r\n",
        "resnet50.to(device).eval()\r\n",
        "\r\n",
        "valid_loss, valid_acc = evaluate(resnet50, resnet_val_loader, loss_fn, \r\n",
        "                                     device)\r\n",
        "test_loss, test_acc = evaluate(resnet50, resnet_test_loader, loss_fn, \r\n",
        "                                     device)\r\n",
        "print(f'Val. Loss: {valid_loss:.3f} |  Val. Acc: {valid_acc*100:.2f}%')\r\n",
        "print(f'Test Loss: {test_loss:.3f} | Test Acc: {test_acc*100:.2f}%')"
      ],
      "execution_count": 45,
      "outputs": [
        {
          "output_type": "stream",
          "text": [
            "Val. Loss: 1.310 |  Val. Acc: 54.99%\n",
            "Test Loss: 0.859 | Test Acc: 71.26%\n"
          ],
          "name": "stdout"
        }
      ]
    },
    {
      "cell_type": "markdown",
      "metadata": {
        "id": "xL_93QEvxh3g"
      },
      "source": [
        "<a name=\"adversarial\"></a>\n",
        "# Gradient Ascent"
      ]
    },
    {
      "cell_type": "code",
      "metadata": {
        "id": "BSNskXedw0HX"
      },
      "source": [
        "import os\n",
        "import time\n",
        "import copy\n",
        "from collections import OrderedDict\n",
        "\n",
        "import numpy as np\n",
        "import matplotlib.pyplot as plt\n",
        "\n",
        "import torch\n",
        "from torch import Tensor\n",
        "from torch import nn\n",
        "from torch.utils.data import dataloader\n",
        "from torch.utils.data.dataset import random_split\n",
        "from torch import optim\n",
        "import torch.nn.functional as F\n",
        "\n",
        "from torchvision import datasets\n",
        "from torchvision import transforms\n",
        "from torchvision import models\n",
        "\n",
        "from torchsummary import summary\n",
        "\n",
        "%matplotlib inline"
      ],
      "execution_count": 46,
      "outputs": []
    },
    {
      "cell_type": "code",
      "metadata": {
        "id": "3GOfGiWmyPe0"
      },
      "source": [
        "np.random.seed(0)\n",
        "torch.manual_seed(0)\n",
        "torch.backends.cudnn.deterministic = True\n",
        "torch.backends.cudnn.benchmark = False"
      ],
      "execution_count": 47,
      "outputs": []
    },
    {
      "cell_type": "code",
      "metadata": {
        "id": "VTlbi_N6ymO4"
      },
      "source": [
        "means = torch.Tensor([0.4914, 0.4822, 0.4465])\n",
        "stds = torch.Tensor([0.2023, 0.1994, 0.2010])\n",
        "train_transforms = transforms.Compose([\n",
        "    transforms.Resize((32,32)),\n",
        "    transforms.RandomHorizontalFlip(0.5),\n",
        "    transforms.RandomVerticalFlip(0.5),\n",
        "    transforms.RandomRotation(45),\n",
        "    transforms.ToTensor(),\n",
        "    transforms.Normalize(mean=means, std=stds)\n",
        "])\n",
        "\n",
        "test_transforms = transforms.Compose([\n",
        "    transforms.Resize((32,32)),\n",
        "    transforms.ToTensor(),\n",
        "    transforms.Normalize(mean=means, std=stds)\n",
        "])"
      ],
      "execution_count": 48,
      "outputs": []
    },
    {
      "cell_type": "code",
      "metadata": {
        "colab": {
          "base_uri": "https://localhost:8080/"
        },
        "id": "8Ovm0cLJy7kq",
        "outputId": "39ec4195-85d3-45b3-a51e-e73297af1f43"
      },
      "source": [
        "train_ds = datasets.CIFAR10(root=DATASET, train=True, transform=train_transforms,\n",
        "                            download=True)\n",
        "\n",
        "train_len = int(.4 * len(train_ds))\n",
        "val_len = int(.2 * len(train_ds))\n",
        "\n",
        "train_dataset, val_dataset, _ = random_split(train_ds,\n",
        "                                          [train_len, val_len, \n",
        "                                           len(train_ds) - train_len - val_len], \n",
        "                                          torch.Generator().manual_seed(0))\n",
        "val_dataset.transform = test_transforms\n",
        "test_dataset = datasets.CIFAR10(root=DATASET, train=False, \n",
        "                                transform=test_transforms, download=True)\n",
        "print(len(train_dataset), len(val_dataset), len(test_dataset))"
      ],
      "execution_count": 49,
      "outputs": [
        {
          "output_type": "stream",
          "text": [
            "Files already downloaded and verified\n",
            "Files already downloaded and verified\n",
            "20000 10000 10000\n"
          ],
          "name": "stdout"
        }
      ]
    },
    {
      "cell_type": "code",
      "metadata": {
        "id": "XxjY-Cha0Ga4"
      },
      "source": [
        "class ConvNet(nn.Module):\n",
        "\n",
        "    def __init__(self, keep_prob:float=0.7):\n",
        "        super().__init__()\n",
        "        self.keep_prob = keep_prob\n",
        "\n",
        "        self.convolutional = nn.Sequential(\n",
        "            nn.Conv2d(3, 64, 3, padding=1),\n",
        "            nn.MaxPool2d(2),\n",
        "            nn.ReLU(inplace=True),\n",
        "            nn.BatchNorm2d(64),\n",
        "            nn.Conv2d(64, 128, 3, padding=1),\n",
        "            nn.MaxPool2d(2),\n",
        "            nn.ReLU(inplace=True),\n",
        "            nn.BatchNorm2d(128),\n",
        "            nn.Conv2d(128, 256, 3, padding=1),\n",
        "            nn.MaxPool2d(2),\n",
        "            nn.ReLU(inplace=True),\n",
        "            nn.BatchNorm2d(256),\n",
        "            nn.Conv2d(256, 512, 3, padding=1),\n",
        "            nn.MaxPool2d(2),\n",
        "            nn.ReLU(inplace=True),\n",
        "            nn.BatchNorm2d(512),\n",
        "        )\n",
        "\n",
        "        self.dense = nn.Sequential(\n",
        "            nn.Linear(512 * 2 * 2, 128),\n",
        "            nn.Dropout(1 - self.keep_prob),\n",
        "            nn.BatchNorm1d(128),\n",
        "            nn.Linear(128, 256),\n",
        "            nn.Dropout(1 - self.keep_prob),\n",
        "            nn.BatchNorm1d(256),\n",
        "            nn.Linear(256, 512),\n",
        "            nn.Dropout(1 - self.keep_prob),\n",
        "            nn.BatchNorm1d(512),\n",
        "            nn.Linear(512, 1024),\n",
        "            nn.Dropout(1 - self.keep_prob),\n",
        "            nn.BatchNorm1d(1024),\n",
        "            nn.Linear(1024, 10),\n",
        "        )\n",
        "\n",
        "    def forward(self, x : Tensor) -> Tensor:\n",
        "        x = self.convolutional(x)\n",
        "        flat = x.view(x.shape[0], -1)\n",
        "        x = self.dense(flat)\n",
        "        return x"
      ],
      "execution_count": 50,
      "outputs": []
    },
    {
      "cell_type": "code",
      "metadata": {
        "id": "j7AiI2VE0MIH"
      },
      "source": [
        "__all__ = ['DenseNet', 'densenet121', 'densenet169', 'densenet201', 'densenet161']\n",
        "\n",
        "class _DenseLayer(nn.Sequential):\n",
        "    def __init__(self, num_input_features, growth_rate, bn_size, drop_rate):\n",
        "        super(_DenseLayer, self).__init__()\n",
        "        self.add_module('norm1', nn.BatchNorm2d(num_input_features)),\n",
        "        self.add_module('relu1', nn.ReLU(inplace=True)),\n",
        "        self.add_module('conv1', nn.Conv2d(num_input_features, bn_size *\n",
        "                                           growth_rate, kernel_size=1, stride=1,\n",
        "                                           bias=False)),\n",
        "        self.add_module('norm2', nn.BatchNorm2d(bn_size * growth_rate)),\n",
        "        self.add_module('relu2', nn.ReLU(inplace=True)),\n",
        "        self.add_module('conv2', nn.Conv2d(bn_size * growth_rate, growth_rate,\n",
        "                                           kernel_size=3, stride=1, padding=1,\n",
        "                                           bias=False)),\n",
        "        self.drop_rate = drop_rate\n",
        "\n",
        "    def forward(self, x):\n",
        "        new_features = super(_DenseLayer, self).forward(x)\n",
        "        if self.drop_rate > 0:\n",
        "            new_features = F.dropout(new_features, p=self.drop_rate,\n",
        "                                     training=self.training)\n",
        "        return torch.cat([x, new_features], 1)\n",
        "\n",
        "\n",
        "class _DenseBlock(nn.Sequential):\n",
        "    def __init__(self, num_layers, num_input_features, bn_size, growth_rate, drop_rate):\n",
        "        super(_DenseBlock, self).__init__()\n",
        "        for i in range(num_layers):\n",
        "            layer = _DenseLayer(num_input_features + i * growth_rate, growth_rate,\n",
        "                                bn_size, drop_rate)\n",
        "            self.add_module('denselayer%d' % (i + 1), layer)\n",
        "\n",
        "\n",
        "class _Transition(nn.Sequential):\n",
        "    def __init__(self, num_input_features, num_output_features):\n",
        "        super(_Transition, self).__init__()\n",
        "        self.add_module('norm', nn.BatchNorm2d(num_input_features))\n",
        "        self.add_module('relu', nn.ReLU(inplace=True))\n",
        "        self.add_module('conv', nn.Conv2d(num_input_features, num_output_features,\n",
        "                                          kernel_size=1, stride=1, bias=False))\n",
        "        self.add_module('pool', nn.AvgPool2d(kernel_size=2, stride=2))\n",
        "\n",
        "\n",
        "class DenseNet(nn.Module):\n",
        "    r\"\"\"Densenet-BC model class, based on\n",
        "    `\"Densely Connected Convolutional Networks\" <https://arxiv.org/pdf/1608.06993.pdf>`_\n",
        "    Args:\n",
        "        growth_rate (int) - how many filters to add each layer (`k` in paper)\n",
        "        block_config (list of 4 ints) - how many layers in each pooling block\n",
        "        num_init_features (int) - the number of filters to learn in the first convolution layer\n",
        "        bn_size (int) - multiplicative factor for number of bottle neck layers\n",
        "          (i.e. bn_size * k features in the bottleneck layer)\n",
        "        drop_rate (float) - dropout rate after each dense layer\n",
        "        num_classes (int) - number of classification classes\n",
        "    \"\"\"\n",
        "\n",
        "    def __init__(self, growth_rate=32, block_config=(6, 12, 24, 16),\n",
        "                 num_init_features=64, bn_size=4, drop_rate=0, num_classes=10):\n",
        "\n",
        "        super(DenseNet, self).__init__()\n",
        "\n",
        "        # First convolution\n",
        "        \n",
        "        # CIFAR-10: kernel_size 7 ->3, stride 2->1, padding 3->1\n",
        "        self.features = nn.Sequential(OrderedDict([\n",
        "            ('conv0', nn.Conv2d(3, num_init_features, kernel_size=3, stride=1,\n",
        "                                padding=1, bias=False)),\n",
        "            ('norm0', nn.BatchNorm2d(num_init_features)),\n",
        "            ('relu0', nn.ReLU(inplace=True)),\n",
        "            ('pool0', nn.MaxPool2d(kernel_size=3, stride=2, padding=1)),\n",
        "        ]))\n",
        "        ## END\n",
        "\n",
        "        # Each denseblock\n",
        "        num_features = num_init_features\n",
        "        for i, num_layers in enumerate(block_config):\n",
        "            block = _DenseBlock(num_layers=num_layers, num_input_features=num_features,\n",
        "                                bn_size=bn_size, growth_rate=growth_rate,\n",
        "                                drop_rate=drop_rate)\n",
        "            self.features.add_module('denseblock%d' % (i + 1), block)\n",
        "            num_features = num_features + num_layers * growth_rate\n",
        "            if i != len(block_config) - 1:\n",
        "                trans = _Transition(num_input_features=num_features,\n",
        "                                    num_output_features=num_features // 2)\n",
        "                self.features.add_module('transition%d' % (i + 1), trans)\n",
        "                num_features = num_features // 2\n",
        "\n",
        "        # Final batch norm\n",
        "        self.features.add_module('norm5', nn.BatchNorm2d(num_features))\n",
        "\n",
        "        # Linear layer\n",
        "        self.classifier = nn.Linear(num_features, num_classes)\n",
        "\n",
        "        # Official init from torch repo.\n",
        "        for m in self.modules():\n",
        "            if isinstance(m, nn.Conv2d):\n",
        "                nn.init.kaiming_normal_(m.weight)\n",
        "            elif isinstance(m, nn.BatchNorm2d):\n",
        "                nn.init.constant_(m.weight, 1)\n",
        "                nn.init.constant_(m.bias, 0)\n",
        "            elif isinstance(m, nn.Linear):\n",
        "                nn.init.constant_(m.bias, 0)\n",
        "\n",
        "    def forward(self, x):\n",
        "        features = self.features(x)\n",
        "        out = F.relu(features, inplace=True)\n",
        "        out = F.adaptive_avg_pool2d(out, (1, 1)).view(features.size(0), -1)\n",
        "        out = self.classifier(out)\n",
        "        return out\n",
        "\n",
        "def _densenet(arch, growth_rate, block_config, num_init_features, pretrained, progress, device, **kwargs):\n",
        "    model = DenseNet(growth_rate, block_config, num_init_features, **kwargs)\n",
        "    if pretrained:\n",
        "        script_dir = os.path.dirname(__file__)\n",
        "        state_dict = torch.load(script_dir + '/state_dicts/'+arch+'.pt', map_location=device)\n",
        "        model.load_state_dict(state_dict)\n",
        "    return model\n",
        "\n",
        "\n",
        "def densenet121(pretrained=False, progress=True, device='cpu', **kwargs):\n",
        "    r\"\"\"Densenet-121 model from\n",
        "    `\"Densely Connected Convolutional Networks\" <https://arxiv.org/pdf/1608.06993.pdf>`_\n",
        "    Args:\n",
        "        pretrained (bool): If True, returns a model pre-trained on ImageNet\n",
        "        progress (bool): If True, displays a progress bar of the download to stderr\n",
        "    \"\"\"\n",
        "    return _densenet('densenet121', 32, (6, 12, 24, 16), 64, pretrained, progress, device,\n",
        "                     **kwargs)\n",
        "\n",
        "\n",
        "def densenet161(pretrained=False, progress=True, device='cpu', **kwargs):\n",
        "    r\"\"\"Densenet-161 model from\n",
        "    `\"Densely Connected Convolutional Networks\" <https://arxiv.org/pdf/1608.06993.pdf>`_\n",
        "    Args:\n",
        "        pretrained (bool): If True, returns a model pre-trained on ImageNet\n",
        "        progress (bool): If True, displays a progress bar of the download to stderr\n",
        "    \"\"\"\n",
        "    return _densenet('densenet161', 48, (6, 12, 36, 24), 96, pretrained, progress, device,\n",
        "                     **kwargs)\n",
        "\n",
        "\n",
        "def densenet169(pretrained=False, progress=True, device='cpu', **kwargs):\n",
        "    r\"\"\"Densenet-169 model from\n",
        "    `\"Densely Connected Convolutional Networks\" <https://arxiv.org/pdf/1608.06993.pdf>`_\n",
        "    Args:\n",
        "        pretrained (bool): If True, returns a model pre-trained on ImageNet\n",
        "        progress (bool): If True, displays a progress bar of the download to stderr\n",
        "    \"\"\"\n",
        "    return _densenet('densenet169', 32, (6, 12, 32, 32), 64, pretrained, progress, device,\n",
        "                     **kwargs)\n",
        "\n",
        "\n",
        "def densenet201(pretrained=False, progress=True, device='cpu', **kwargs):\n",
        "    r\"\"\"Densenet-201 model from\n",
        "    `\"Densely Connected Convolutional Networks\" <https://arxiv.org/pdf/1608.06993.pdf>`_\n",
        "    Args:\n",
        "        pretrained (bool): If True, returns a model pre-trained on ImageNet\n",
        "        progress (bool): If True, displays a progress bar of the download to stderr\n",
        "    \"\"\"\n",
        "    return _densenet('densenet201', 32, (6, 12, 48, 32), 64, pretrained, progress, device,\n",
        "                     **kwargs)"
      ],
      "execution_count": 51,
      "outputs": []
    },
    {
      "cell_type": "code",
      "metadata": {
        "id": "3ARdQ7HcJxej"
      },
      "source": [
        "class ImagePerturbation(nn.Module):\n",
        "\n",
        "    def __init__(self, discriminator:nn.Module, dropout_prob=0.5):\n",
        "        super(ImagePerturbation, self).__init__()\n",
        "        self.discriminator = copy.deepcopy(discriminator);\n",
        "        for param in self.discriminator.parameters():\n",
        "            param.requires_grad = False\n",
        "\n",
        "        self.perturbation = nn.Sequential(\n",
        "            nn.Linear(3*32*32, 6*32*32),\n",
        "            nn.Dropout(dropout_prob),\n",
        "            nn.Tanh(),\n",
        "            nn.Linear(6*32*32, 3*32*32),\n",
        "            nn.Tanh()\n",
        "        )\n",
        "\n",
        "    def forward(self, x : Tensor) -> Tensor:\n",
        "        flat = x.view(x.shape[0], -1)\n",
        "        output = flat + self.perturbation(flat)\n",
        "        x = output.view(x.shape[0], x.shape[1], x.shape[2], x.shape[3])\n",
        "        return self.discriminator(x)"
      ],
      "execution_count": 52,
      "outputs": []
    },
    {
      "cell_type": "code",
      "metadata": {
        "id": "jC1tWvoDzL5R",
        "colab": {
          "base_uri": "https://localhost:8080/"
        },
        "outputId": "448d83d5-632f-46ff-a255-c57c58f9882f"
      },
      "source": [
        "device = torch.device('cuda' if torch.cuda.is_available() else 'cpu')\n",
        "\n",
        "convnet = ConvNet()\n",
        "convnet.load_state_dict(torch.load(os.path.join(MODELS, \"conv-model.pt\")))\n",
        "\n",
        "densenet = densenet169(pretrained=False, progress=False, device=device)\n",
        "densenet.load_state_dict(torch.load(os.path.join(MODELS, \"densenet169.pt\")))\n",
        "\n",
        "resnet50 = models.resnet50(pretrained=True, progress=True)\n",
        "resnet50.fc = nn.Sequential(\n",
        "    nn.Linear(resnet50.fc.in_features, 512),\n",
        "    nn.ReLU(inplace=True),\n",
        "    nn.Linear(512, 128),\n",
        "    nn.ReLU(inplace=True),\n",
        "    nn.Linear(128, 10)\n",
        ")\n",
        "resnet50.load_state_dict(torch.load(os.path.join(MODELS, \"resnet50.pt\")))"
      ],
      "execution_count": 53,
      "outputs": [
        {
          "output_type": "execute_result",
          "data": {
            "text/plain": [
              "<All keys matched successfully>"
            ]
          },
          "metadata": {
            "tags": []
          },
          "execution_count": 53
        }
      ]
    },
    {
      "cell_type": "code",
      "metadata": {
        "id": "mqAcc7__ulEI"
      },
      "source": [
        "adversarial_images= ImagePerturbation(convnet, dropout_prob=0.0)"
      ],
      "execution_count": 54,
      "outputs": []
    },
    {
      "cell_type": "markdown",
      "metadata": {
        "id": "mDBHeudsgelb"
      },
      "source": [
        "<a name=\"adversarial-hyperparams\"></a>\r\n",
        "### Adversarial Images Hyperparameters"
      ]
    },
    {
      "cell_type": "code",
      "metadata": {
        "id": "ioUt7jdmZm6t"
      },
      "source": [
        "EPOCHS = 15\n",
        "BATCH_SIZE = 128\n",
        "LEARNING_RATE = 1e-5\n",
        "L2_LAMBDA = 1e-2\n",
        "L1_LAMBDA = 1e-3"
      ],
      "execution_count": 55,
      "outputs": []
    },
    {
      "cell_type": "code",
      "metadata": {
        "id": "PudLizqY19fz"
      },
      "source": [
        "train_loader = dataloader.DataLoader(dataset=train_dataset, batch_size=BATCH_SIZE)\n",
        "val_loader = dataloader.DataLoader(dataset=val_dataset, batch_size=BATCH_SIZE)\n",
        "test_loader = dataloader.DataLoader(dataset=test_dataset, batch_size=BATCH_SIZE)"
      ],
      "execution_count": 56,
      "outputs": []
    },
    {
      "cell_type": "code",
      "metadata": {
        "id": "zpNYO9dsueWv"
      },
      "source": [
        "adversarial_images = adversarial_images.to(device)\n",
        "\n",
        "optimizer = optim.Adam(adversarial_images.perturbation.parameters(), \n",
        "                            lr=LEARNING_RATE)\n",
        "\n",
        "criterion = nn.CrossEntropyLoss()\n",
        "\n",
        "criterion = criterion.to(device)"
      ],
      "execution_count": 57,
      "outputs": []
    },
    {
      "cell_type": "code",
      "metadata": {
        "id": "DTDNk0bS2sZ_"
      },
      "source": [
        "def calculate_accuracy(y_pred:torch.Tensor, y:torch.Tensor):\n",
        "    '''\n",
        "        Calculate the number of correct y predictions divided by the total\n",
        "        number of predictions.\n",
        "\n",
        "        Args:\n",
        "            y_pred (torch.Tensor): A (Nx2) tensor, each row contains the \n",
        "                                   prediction of the model for a horse vs.\n",
        "                                   a human.\n",
        "            y (torch.Tensor): A (N,) tensor containing the true classes for each\n",
        "                              image.\n",
        "        Returns:\n",
        "            acc (float): The proportion of correct predictions over total\n",
        "                         predictions.\n",
        "    '''\n",
        "    top_pred = y_pred.argmax(1, keepdim = True)\n",
        "    correct = top_pred.eq(y.view_as(top_pred)).sum()\n",
        "    acc = correct.float() / y.shape[0]\n",
        "    return acc"
      ],
      "execution_count": 58,
      "outputs": []
    },
    {
      "cell_type": "code",
      "metadata": {
        "id": "K3Gv_hdM2lV6"
      },
      "source": [
        "def L1_Regularization(l1_lambda, model, device):\n",
        "    l1_reg = torch.tensor(0., requires_grad=True, device=device)\n",
        "    for param in model.parameters():\n",
        "        if param.requires_grad:\n",
        "            l1_reg = l1_reg + torch.sum(torch.abs(param))\n",
        "    return l1_reg * l1_lambda\n",
        "\n",
        "def L2_Regularization(l2_lambda, model, device):\n",
        "    l2_reg = torch.tensor(0., requires_grad=True, device=device)\n",
        "    for param in model.parameters():\n",
        "        if param.requires_grad:\n",
        "            l2_reg = l2_reg + torch.sum(torch.square(param))\n",
        "    return l2_reg * l2_lambda\n",
        "\n",
        "def train(model, iterator, optimizer, criterion, device):\n",
        "    '''\n",
        "        Performs a single pass through the batch iterator, computes error,\n",
        "        and updates model weights.\n",
        "\n",
        "        Args:\n",
        "            model (ConvNet): The CNN to perform weight updates on.\n",
        "            iterator (DataLoader): Iterator that holds BATCH_SIZE img,class\n",
        "                                   pairs at a time.\n",
        "            optimizer (optim): Learning rate optimizer for individual parameters\n",
        "            loss_fn: Computes loss and gradient descent for model parameters\n",
        "            device: GPU or CPU\n",
        "        Returns:\n",
        "            Average loss and accuracy for all samples in batch.\n",
        "    '''\n",
        "    \n",
        "    epoch_loss = 0\n",
        "    epoch_acc = 0\n",
        "    \n",
        "    model.to(device)\n",
        "    criterion.to(device)\n",
        "    \n",
        "    model.train()\n",
        "    \n",
        "    for (x, y) in iterator:\n",
        "        \n",
        "        x = x.to(device)\n",
        "        y = y.to(device)\n",
        "        \n",
        "        optimizer.zero_grad()\n",
        "                \n",
        "        y_pred = model(x)\n",
        "        \n",
        "        loss = criterion(y_pred, y)\n",
        "        \n",
        "        acc = calculate_accuracy(y_pred, y)\n",
        "        \n",
        "        (-loss + L1_Regularization(L1_LAMBDA, model, device) + \n",
        "         L2_Regularization(L2_LAMBDA, model, device)).backward()\n",
        "        \n",
        "        optimizer.step()\n",
        "        \n",
        "        epoch_loss += loss.item()\n",
        "        epoch_acc += acc.item()\n",
        "        \n",
        "    return epoch_loss / len(iterator), epoch_acc / len(iterator)"
      ],
      "execution_count": 59,
      "outputs": []
    },
    {
      "cell_type": "code",
      "metadata": {
        "id": "F_pJ6BwY2wGx"
      },
      "source": [
        "def evaluate(model, iterator, criterion, device):\n",
        "    '''\n",
        "        Performs a single pass through the batch iterator, and computes loss\n",
        "        and accuracy.\n",
        "\n",
        "        Args:\n",
        "            model (ConvNet): The CNN model to make predictions.\n",
        "            iterator (DataLoader): Iterator that holds BATCH_SIZE img,class\n",
        "                                   pairs at a time.\n",
        "            loss_fn: Computes loss for predicted values and actual values\n",
        "            device: GPU or CPU\n",
        "        Returns:\n",
        "            Average loss and accuracy for all samples in batch.\n",
        "    '''\n",
        "\n",
        "    epoch_loss = 0\n",
        "    epoch_acc = 0\n",
        "    \n",
        "    model.to(device)\n",
        "    criterion.to(device)\n",
        "\n",
        "    model.eval()\n",
        "    \n",
        "    with torch.no_grad():\n",
        "        \n",
        "        for (x, y) in iterator:\n",
        "\n",
        "            x = x.to(device)\n",
        "            y = y.to(device)\n",
        "\n",
        "            y_pred = model(x)\n",
        "\n",
        "            loss = criterion(y_pred, y)\n",
        "\n",
        "            acc = calculate_accuracy(y_pred, y)\n",
        "\n",
        "            epoch_loss += loss.item()\n",
        "            epoch_acc += acc.item()\n",
        "        \n",
        "    return epoch_loss / len(iterator), epoch_acc / len(iterator)"
      ],
      "execution_count": 60,
      "outputs": []
    },
    {
      "cell_type": "code",
      "metadata": {
        "id": "-2CtJ4ay20m0"
      },
      "source": [
        "def epoch_time(start_time, end_time):\n",
        "    '''\n",
        "        Converts a given start time and end time into a duration in min:sec\n",
        "        format.\n",
        "    '''\n",
        "    elapsed_time = end_time - start_time\n",
        "    elapsed_mins = int(elapsed_time / 60)\n",
        "    elapsed_secs = int(elapsed_time - (elapsed_mins * 60))\n",
        "    return elapsed_mins, elapsed_secs"
      ],
      "execution_count": 61,
      "outputs": []
    },
    {
      "cell_type": "code",
      "metadata": {
        "colab": {
          "base_uri": "https://localhost:8080/"
        },
        "id": "upXAFSs0vDwo",
        "outputId": "ce4b58c0-fae8-42e2-98bb-04aaa70aa54a"
      },
      "source": [
        "best_loss = -float('inf')\n",
        "\n",
        "for epoch in range(EPOCHS):\n",
        "    start_time = time.monotonic()\n",
        "    \n",
        "    train_loss, train_acc = train(adversarial_images, train_loader, optimizer, \n",
        "                                  criterion, device)\n",
        "    valid_loss, valid_acc = evaluate(adversarial_images, val_loader, criterion, \n",
        "                                     device)\n",
        "        \n",
        "    if valid_loss > best_loss:\n",
        "        best_loss = valid_loss\n",
        "        print(\"Worse loss, saving model. . .\")\n",
        "        torch.save(adversarial_images.state_dict(), \n",
        "                   os.path.join(MODELS, \"adversarial.pt\"))\n",
        "\n",
        "    end_time = time.monotonic()\n",
        "\n",
        "    epoch_mins, epoch_secs = epoch_time(start_time, end_time)\n",
        "    \n",
        "    print(\"Epoch:\", epoch+1, \"| Epoch Time:\", epoch_mins, \"m \", epoch_secs,\"s\")\n",
        "    print(f'\\tTrain Loss: {train_loss:.3f} | Train Acc: {train_acc*100:.2f}%')\n",
        "    print(f'\\t Val. Loss: {valid_loss:.3f} |  Val. Acc: {valid_acc*100:.2f}%')\n",
        "    "
      ],
      "execution_count": 62,
      "outputs": [
        {
          "output_type": "stream",
          "text": [
            "Worse loss, saving model. . .\n",
            "Epoch: 1 | Epoch Time: 0 m  19 s\n",
            "\tTrain Loss: 2.663 | Train Acc: 49.59%\n",
            "\t Val. Loss: 5.144 |  Val. Acc: 26.48%\n",
            "Worse loss, saving model. . .\n",
            "Epoch: 2 | Epoch Time: 0 m  19 s\n",
            "\tTrain Loss: 6.051 | Train Acc: 19.86%\n",
            "\t Val. Loss: 6.499 |  Val. Acc: 16.10%\n",
            "Worse loss, saving model. . .\n",
            "Epoch: 3 | Epoch Time: 0 m  19 s\n",
            "\tTrain Loss: 7.049 | Train Acc: 14.02%\n",
            "\t Val. Loss: 7.145 |  Val. Acc: 13.14%\n",
            "Worse loss, saving model. . .\n",
            "Epoch: 4 | Epoch Time: 0 m  19 s\n",
            "\tTrain Loss: 7.594 | Train Acc: 11.72%\n",
            "\t Val. Loss: 7.688 |  Val. Acc: 10.95%\n",
            "Worse loss, saving model. . .\n",
            "Epoch: 5 | Epoch Time: 0 m  19 s\n",
            "\tTrain Loss: 7.906 | Train Acc: 10.46%\n",
            "\t Val. Loss: 7.804 |  Val. Acc: 10.15%\n",
            "Worse loss, saving model. . .\n",
            "Epoch: 6 | Epoch Time: 0 m  19 s\n",
            "\tTrain Loss: 8.075 | Train Acc: 9.73%\n",
            "\t Val. Loss: 8.006 |  Val. Acc: 9.19%\n",
            "Worse loss, saving model. . .\n",
            "Epoch: 7 | Epoch Time: 0 m  19 s\n",
            "\tTrain Loss: 8.177 | Train Acc: 9.40%\n",
            "\t Val. Loss: 8.041 |  Val. Acc: 9.52%\n",
            "Worse loss, saving model. . .\n",
            "Epoch: 8 | Epoch Time: 0 m  19 s\n",
            "\tTrain Loss: 8.235 | Train Acc: 9.33%\n",
            "\t Val. Loss: 8.073 |  Val. Acc: 9.16%\n",
            "Epoch: 9 | Epoch Time: 0 m  18 s\n",
            "\tTrain Loss: 8.168 | Train Acc: 9.48%\n",
            "\t Val. Loss: 7.890 |  Val. Acc: 9.19%\n",
            "Epoch: 10 | Epoch Time: 0 m  18 s\n",
            "\tTrain Loss: 8.084 | Train Acc: 9.95%\n",
            "\t Val. Loss: 7.785 |  Val. Acc: 9.95%\n",
            "Epoch: 11 | Epoch Time: 0 m  18 s\n",
            "\tTrain Loss: 7.942 | Train Acc: 10.67%\n",
            "\t Val. Loss: 7.603 |  Val. Acc: 10.47%\n",
            "Epoch: 12 | Epoch Time: 0 m  18 s\n",
            "\tTrain Loss: 7.754 | Train Acc: 11.39%\n",
            "\t Val. Loss: 7.397 |  Val. Acc: 11.50%\n",
            "Epoch: 13 | Epoch Time: 0 m  18 s\n",
            "\tTrain Loss: 7.510 | Train Acc: 11.84%\n",
            "\t Val. Loss: 7.124 |  Val. Acc: 13.09%\n",
            "Epoch: 14 | Epoch Time: 0 m  18 s\n",
            "\tTrain Loss: 7.265 | Train Acc: 13.02%\n",
            "\t Val. Loss: 6.997 |  Val. Acc: 13.59%\n",
            "Epoch: 15 | Epoch Time: 0 m  18 s\n",
            "\tTrain Loss: 7.090 | Train Acc: 13.94%\n",
            "\t Val. Loss: 6.801 |  Val. Acc: 14.20%\n"
          ],
          "name": "stdout"
        }
      ]
    },
    {
      "cell_type": "markdown",
      "metadata": {
        "id": "za49dDmrZjBn"
      },
      "source": [
        "<a name=\"results\"></a>\r\n",
        "# Results and Graphics\r\n"
      ]
    },
    {
      "cell_type": "code",
      "metadata": {
        "id": "rGaw9VF5mGqy",
        "colab": {
          "base_uri": "https://localhost:8080/"
        },
        "outputId": "22595dcc-33ab-493a-b304-0e127fc6eefc"
      },
      "source": [
        "device = torch.device('cuda' if torch.cuda.is_available() else 'cpu')\n",
        "\n",
        "convnet = ConvNet()\n",
        "convnet.load_state_dict(torch.load(os.path.join(MODELS, \"conv-model.pt\")))\n",
        "\n",
        "densenet = densenet169(pretrained=False, progress=False, device=device)\n",
        "densenet.load_state_dict(torch.load(os.path.join(MODELS, \"densenet169.pt\")))\n",
        "\n",
        "resnet50 = models.resnet50(pretrained=True, progress=True)\n",
        "resnet50.fc = nn.Sequential(\n",
        "    nn.Linear(resnet50.fc.in_features, 512),\n",
        "    nn.ReLU(inplace=True),\n",
        "    nn.Linear(512, 128),\n",
        "    nn.ReLU(inplace=True),\n",
        "    nn.Linear(128, 10)\n",
        ")\n",
        "resnet50.load_state_dict(torch.load(os.path.join(MODELS, \"resnet50.pt\")))\n",
        "\n",
        "adversarial_images = ImagePerturbation(convnet)\n",
        "adversarial_images.load_state_dict(\n",
        "    torch.load(os.path.join(MODELS, \"adversarial.pt\")))\n",
        "adversarial_images.eval()\n",
        "\n",
        "# Convnet regular performance\n",
        "test_loss, test_acc = evaluate(convnet, test_loader, criterion, device)\n",
        "print(\"ConvNet Performance without Adversarial Images:\")\n",
        "print(f'\\t Test Loss: {test_loss:.3f} |  Test Acc: {test_acc*100:.2f}%')\n",
        "\n",
        "# Adversarial convnet performance\n",
        "print(\"ConvNet Performance with Adversarial Images:\")\n",
        "test_loss, test_acc = evaluate(adversarial_images, test_loader, criterion, device)\n",
        "print(f'\\t Test Loss: {test_loss:.3f} |  Test Acc: {test_acc*100:.2f}%')\n",
        "\n",
        "# Densenet regular performance \n",
        "print(\"DenseNet Performance without Adversarial Images:\")\n",
        "test_loss, test_acc = evaluate(densenet, test_loader, criterion, device)\n",
        "print(f'\\t Test Loss: {test_loss:.3f} |  Test Acc: {test_acc*100:.2f}%')\n",
        "\n",
        "# Replacing the model in adversarial convnet with densenet\n",
        "print(\"DenseNet Performance with Adversarial Images:\")\n",
        "adversarial_densenet = copy.deepcopy(adversarial_images)\n",
        "adversarial_densenet.discriminator = densenet\n",
        "test_loss, test_acc = evaluate(adversarial_densenet, test_loader, criterion, device)\n",
        "print(f'\\t Test Loss: {test_loss:.3f} |  Test Acc: {test_acc*100:.2f}%')\n",
        "\n",
        "# ResNet regular performance \n",
        "print(\"ResNet Performance without Adversarial Images:\")\n",
        "test_loss, test_acc = evaluate(resnet50, test_loader, criterion, device)\n",
        "print(f'\\t Test Loss: {test_loss:.3f} |  Test Acc: {test_acc*100:.2f}%')\n",
        "\n",
        "# Replacing the model in adversarial densenet with resnet\n",
        "print(\"ResNet Performance with Adversarial Images:\")\n",
        "adversarial_resnet = copy.deepcopy(adversarial_densenet)\n",
        "adversarial_resnet.discriminator = resnet50\n",
        "test_loss, test_acc = evaluate(adversarial_resnet, test_loader, criterion, device)\n",
        "print(f'\\t Test Loss: {test_loss:.3f} |  Test Acc: {test_acc*100:.2f}%')"
      ],
      "execution_count": 63,
      "outputs": [
        {
          "output_type": "stream",
          "text": [
            "ConvNet Performance without Adversarial Images:\n",
            "\t Test Loss: 0.668 |  Test Acc: 77.47%\n",
            "ConvNet Performance with Adversarial Images:\n",
            "\t Test Loss: 5.356 |  Test Acc: 18.31%\n",
            "DenseNet Performance without Adversarial Images:\n",
            "\t Test Loss: 0.244 |  Test Acc: 94.00%\n",
            "DenseNet Performance with Adversarial Images:\n",
            "\t Test Loss: 2.145 |  Test Acc: 44.30%\n",
            "ResNet Performance without Adversarial Images:\n",
            "\t Test Loss: 5.513 |  Test Acc: 27.51%\n",
            "ResNet Performance with Adversarial Images:\n",
            "\t Test Loss: 6.070 |  Test Acc: 17.46%\n"
          ],
          "name": "stdout"
        }
      ]
    },
    {
      "cell_type": "code",
      "metadata": {
        "id": "fXU5b9O4nrmy",
        "colab": {
          "base_uri": "https://localhost:8080/",
          "height": 1000
        },
        "outputId": "e9fbdc46-7e10-4e37-9c1d-09dfd95e4985"
      },
      "source": [
        "class ViewImage(nn.Module):\n",
        "\n",
        "    def __init__(self, means, stds):\n",
        "        super(ViewImage, self).__init__()\n",
        "        self.means = means\n",
        "        self.stds = stds\n",
        "\n",
        "    def forward(self, x):\n",
        "        denorm = transforms.Compose([\n",
        "            transforms.Normalize(mean = [ 0., 0., 0. ],\n",
        "                                 std = 1 / self.stds),\n",
        "            transforms.Normalize(mean = -1 * self.means,\n",
        "                                 std = [ 1., 1., 1. ]),\n",
        "        ])\n",
        "        return torch.clamp(denorm(x), 0., 1.)\n",
        "\n",
        "from scipy import stats\n",
        "adversarial_densenet.discriminator = ViewImage(means, stds)\n",
        "test = ViewImage(means, stds)\n",
        "\n",
        "\n",
        "for i in range(0,100, 10):\n",
        "\n",
        "    plt.figure(figsize = (2,2))\n",
        "    plt.title(test_dataset.classes[test_dataset[i][1]])\n",
        "    denormed_img_1 = test.forward(test_dataset[i][0].unsqueeze(0))\n",
        "    plt.imshow(transforms.ToPILImage()(denormed_img_1.squeeze(0)))\n",
        "    plt.show()\n",
        "    print(stats.describe(denormed_img_1.cpu().detach().flatten().numpy()))\n",
        "    \n",
        "    plt.figure(figsize = (2,2))\n",
        "    adversarial_densenet.discriminator = densenet\n",
        "    output = adversarial_densenet.forward(test_dataset[i][0].unsqueeze(0).to(device))\n",
        "    plt.title(test_dataset.classes[output.argmax(dim=1)])\n",
        "\n",
        "    \n",
        "    adversarial_densenet.discriminator = ViewImage(means, stds)\n",
        "    denormed_img_2 = adversarial_densenet.forward(\n",
        "        test_dataset[i][0].unsqueeze(0).to(device))\n",
        "    plt.imshow(transforms.ToPILImage()(denormed_img_2.squeeze(0)))\n",
        "    plt.show()\n",
        "    print(stats.describe(denormed_img_2.cpu().detach().flatten().numpy()))\n",
        "\n",
        "    print(\"Absolute Difference between original and changed image:\", \n",
        "          (denormed_img_1.to(device) - denormed_img_2).abs().sum().item())\n",
        "    print(\"Squared Difference between original and changed image:\", \n",
        "          (denormed_img_1.to(device) - denormed_img_2).square().sum().item())\n",
        "    \n",
        "    print()"
      ],
      "execution_count": 64,
      "outputs": [
        {
          "output_type": "display_data",
          "data": {
            "image/png": "[encoded data removed]",
            "text/plain": [
              "<Figure size 144x144 with 1 Axes>"
            ]
          },
          "metadata": {
            "tags": [],
            "needs_background": "light"
          }
        },
        {
          "output_type": "stream",
          "text": [
            "DescribeResult(nobs=3072, minmax=(0.05098042, 1.0), mean=0.42504343, variance=0.033470426, skewness=0.40827739238739014, kurtosis=-0.19684919801084266)\n"
          ],
          "name": "stdout"
        },
        {
          "output_type": "display_data",
          "data": {
            "image/png": "[encoded data removed]",
            "text/plain": [
              "<Figure size 144x144 with 1 Axes>"
            ]
          },
          "metadata": {
            "tags": [],
            "needs_background": "light"
          }
        },
        {
          "output_type": "stream",
          "text": [
            "DescribeResult(nobs=3072, minmax=(0.013353288, 1.0), mean=0.42397618, variance=0.034899592, skewness=0.386104017496109, kurtosis=-0.25957739635918964)\n",
            "Absolute Difference between original and changed image: 110.60932159423828\n",
            "Squared Difference between original and changed image: 5.764379501342773\n",
            "\n"
          ],
          "name": "stdout"
        },
        {
          "output_type": "display_data",
          "data": {
            "image/png": "[encoded data removed]",
            "text/plain": [
              "<Figure size 144x144 with 1 Axes>"
            ]
          },
          "metadata": {
            "tags": [],
            "needs_background": "light"
          }
        },
        {
          "output_type": "stream",
          "text": [
            "DescribeResult(nobs=3072, minmax=(0.09803921, 0.8392157), mean=0.5503574, variance=0.014919846, skewness=0.14759324491024017, kurtosis=-0.19514748729368936)\n"
          ],
          "name": "stdout"
        },
        {
          "output_type": "display_data",
          "data": {
            "image/png": "[encoded data removed]",
            "text/plain": [
              "<Figure size 144x144 with 1 Axes>"
            ]
          },
          "metadata": {
            "tags": [],
            "needs_background": "light"
          }
        },
        {
          "output_type": "stream",
          "text": [
            "DescribeResult(nobs=3072, minmax=(0.026425987, 1.0), mean=0.55033535, variance=0.022242464, skewness=0.19119280576705933, kurtosis=0.163909201528456)\n",
            "Absolute Difference between original and changed image: 247.12808227539062\n",
            "Squared Difference between original and changed image: 28.779296875\n",
            "\n"
          ],
          "name": "stdout"
        },
        {
          "output_type": "display_data",
          "data": {
            "image/png": "[encoded data removed]",
            "text/plain": [
              "<Figure size 144x144 with 1 Axes>"
            ]
          },
          "metadata": {
            "tags": [],
            "needs_background": "light"
          }
        },
        {
          "output_type": "stream",
          "text": [
            "DescribeResult(nobs=3072, minmax=(0.027450979, 1.0), mean=0.4498264, variance=0.061991856, skewness=0.5384323000907898, kurtosis=-0.4859710768688572)\n"
          ],
          "name": "stdout"
        },
        {
          "output_type": "display_data",
          "data": {
            "image/png": "[encoded data removed]",
            "text/plain": [
              "<Figure size 144x144 with 1 Axes>"
            ]
          },
          "metadata": {
            "tags": [],
            "needs_background": "light"
          }
        },
        {
          "output_type": "stream",
          "text": [
            "DescribeResult(nobs=3072, minmax=(0.0, 1.0), mean=0.45005307, variance=0.061469723, skewness=0.5232375264167786, kurtosis=-0.42518533776522105)\n",
            "Absolute Difference between original and changed image: 116.17437744140625\n",
            "Squared Difference between original and changed image: 6.90979528427124\n",
            "\n"
          ],
          "name": "stdout"
        },
        {
          "output_type": "display_data",
          "data": {
            "image/png": "[encoded data removed]",
            "text/plain": [
              "<Figure size 144x144 with 1 Axes>"
            ]
          },
          "metadata": {
            "tags": [],
            "needs_background": "light"
          }
        },
        {
          "output_type": "stream",
          "text": [
            "DescribeResult(nobs=3072, minmax=(0.0, 0.7372549), mean=0.23788808, variance=0.019016037, skewness=0.8943055272102356, kurtosis=0.2957676421992139)\n"
          ],
          "name": "stdout"
        },
        {
          "output_type": "display_data",
          "data": {
            "image/png": "[encoded data removed]",
            "text/plain": [
              "<Figure size 144x144 with 1 Axes>"
            ]
          },
          "metadata": {
            "tags": [],
            "needs_background": "light"
          }
        },
        {
          "output_type": "stream",
          "text": [
            "DescribeResult(nobs=3072, minmax=(0.0, 0.9078725), mean=0.2409957, variance=0.028062586, skewness=0.47436514496803284, kurtosis=-0.06388780681070783)\n",
            "Absolute Difference between original and changed image: 311.04443359375\n",
            "Squared Difference between original and changed image: 41.49827575683594\n",
            "\n"
          ],
          "name": "stdout"
        },
        {
          "output_type": "display_data",
          "data": {
            "image/png": "[encoded data removed]",
            "text/plain": [
              "<Figure size 144x144 with 1 Axes>"
            ]
          },
          "metadata": {
            "tags": [],
            "needs_background": "light"
          }
        },
        {
          "output_type": "stream",
          "text": [
            "DescribeResult(nobs=3072, minmax=(0.0, 0.9647059), mean=0.52880925, variance=0.051635247, skewness=-0.11096050590276718, kurtosis=-1.0392622205458624)\n"
          ],
          "name": "stdout"
        },
        {
          "output_type": "display_data",
          "data": {
            "image/png": "[encoded data removed]",
            "text/plain": [
              "<Figure size 144x144 with 1 Axes>"
            ]
          },
          "metadata": {
            "tags": [],
            "needs_background": "light"
          }
        },
        {
          "output_type": "stream",
          "text": [
            "DescribeResult(nobs=3072, minmax=(0.0, 1.0), mean=0.5291543, variance=0.05680331, skewness=-0.13874532282352448, kurtosis=-0.8572570266498905)\n",
            "Absolute Difference between original and changed image: 192.99046325683594\n",
            "Squared Difference between original and changed image: 18.22953224182129\n",
            "\n"
          ],
          "name": "stdout"
        },
        {
          "output_type": "display_data",
          "data": {
            "image/png": "[encoded data removed]",
            "text/plain": [
              "<Figure size 144x144 with 1 Axes>"
            ]
          },
          "metadata": {
            "tags": [],
            "needs_background": "light"
          }
        },
        {
          "output_type": "stream",
          "text": [
            "DescribeResult(nobs=3072, minmax=(0.015686303, 1.0), mean=0.44237518, variance=0.0826029, skewness=0.4665905237197876, kurtosis=-1.0385675701780042)\n"
          ],
          "name": "stdout"
        },
        {
          "output_type": "display_data",
          "data": {
            "image/png": "[encoded data removed]",
            "text/plain": [
              "<Figure size 144x144 with 1 Axes>"
            ]
          },
          "metadata": {
            "tags": [],
            "needs_background": "light"
          }
        },
        {
          "output_type": "stream",
          "text": [
            "DescribeResult(nobs=3072, minmax=(0.0, 1.0), mean=0.4427431, variance=0.084268674, skewness=0.3531723618507385, kurtosis=-1.0302608803105175)\n",
            "Absolute Difference between original and changed image: 223.30691528320312\n",
            "Squared Difference between original and changed image: 24.01531410217285\n",
            "\n"
          ],
          "name": "stdout"
        },
        {
          "output_type": "display_data",
          "data": {
            "image/png": "[encoded data removed]",
            "text/plain": [
              "<Figure size 144x144 with 1 Axes>"
            ]
          },
          "metadata": {
            "tags": [],
            "needs_background": "light"
          }
        },
        {
          "output_type": "stream",
          "text": [
            "DescribeResult(nobs=3072, minmax=(0.015686303, 0.9372549), mean=0.56216043, variance=0.032985363, skewness=-0.13654246926307678, kurtosis=-0.6639576750466589)\n"
          ],
          "name": "stdout"
        },
        {
          "output_type": "display_data",
          "data": {
            "image/png": "[encoded data removed]",
            "text/plain": [
              "<Figure size 144x144 with 1 Axes>"
            ]
          },
          "metadata": {
            "tags": [],
            "needs_background": "light"
          }
        },
        {
          "output_type": "stream",
          "text": [
            "DescribeResult(nobs=3072, minmax=(0.0, 1.0), mean=0.5631173, variance=0.03511231, skewness=-0.1589919924736023, kurtosis=-0.44785856394700874)\n",
            "Absolute Difference between original and changed image: 175.10250854492188\n",
            "Squared Difference between original and changed image: 14.559755325317383\n",
            "\n"
          ],
          "name": "stdout"
        },
        {
          "output_type": "display_data",
          "data": {
            "image/png": "[encoded data removed]",
            "text/plain": [
              "<Figure size 144x144 with 1 Axes>"
            ]
          },
          "metadata": {
            "tags": [],
            "needs_background": "light"
          }
        },
        {
          "output_type": "stream",
          "text": [
            "DescribeResult(nobs=3072, minmax=(0.18823528, 0.96862745), mean=0.6423139, variance=0.011977327, skewness=-0.8710635304450989, kurtosis=1.8474857294136093)\n"
          ],
          "name": "stdout"
        },
        {
          "output_type": "display_data",
          "data": {
            "image/png": "[encoded data removed]",
            "text/plain": [
              "<Figure size 144x144 with 1 Axes>"
            ]
          },
          "metadata": {
            "tags": [],
            "needs_background": "light"
          }
        },
        {
          "output_type": "stream",
          "text": [
            "DescribeResult(nobs=3072, minmax=(0.085742235, 1.0), mean=0.64480525, variance=0.02149757, skewness=-0.4702911972999573, kurtosis=0.428432993332585)\n",
            "Absolute Difference between original and changed image: 242.38839721679688\n",
            "Squared Difference between original and changed image: 25.635578155517578\n",
            "\n"
          ],
          "name": "stdout"
        },
        {
          "output_type": "display_data",
          "data": {
            "image/png": "[encoded data removed]",
            "text/plain": [
              "<Figure size 144x144 with 1 Axes>"
            ]
          },
          "metadata": {
            "tags": [],
            "needs_background": "light"
          }
        },
        {
          "output_type": "stream",
          "text": [
            "DescribeResult(nobs=3072, minmax=(0.14509803, 0.98039216), mean=0.63675576, variance=0.043443605, skewness=0.03995033726096153, kurtosis=-1.182072665465467)\n"
          ],
          "name": "stdout"
        },
        {
          "output_type": "display_data",
          "data": {
            "image/png": "[encoded data removed]",
            "text/plain": [
              "<Figure size 144x144 with 1 Axes>"
            ]
          },
          "metadata": {
            "tags": [],
            "needs_background": "light"
          }
        },
        {
          "output_type": "stream",
          "text": [
            "DescribeResult(nobs=3072, minmax=(0.024533957, 1.0), mean=0.6352724, variance=0.05194839, skewness=-0.07989277690649033, kurtosis=-0.9527375303977816)\n",
            "Absolute Difference between original and changed image: 289.2828369140625\n",
            "Squared Difference between original and changed image: 36.21548843383789\n",
            "\n"
          ],
          "name": "stdout"
        },
        {
          "output_type": "display_data",
          "data": {
            "image/png": "[encoded data removed]",
            "text/plain": [
              "<Figure size 144x144 with 1 Axes>"
            ]
          },
          "metadata": {
            "tags": [],
            "needs_background": "light"
          }
        },
        {
          "output_type": "stream",
          "text": [
            "DescribeResult(nobs=3072, minmax=(0.054901958, 1.0), mean=0.53207976, variance=0.031514898, skewness=0.23152218759059906, kurtosis=0.19578882150240773)\n"
          ],
          "name": "stdout"
        },
        {
          "output_type": "display_data",
          "data": {
            "image/png": "[encoded data removed]",
            "text/plain": [
              "<Figure size 144x144 with 1 Axes>"
            ]
          },
          "metadata": {
            "tags": [],
            "needs_background": "light"
          }
        },
        {
          "output_type": "stream",
          "text": [
            "DescribeResult(nobs=3072, minmax=(0.0, 1.0), mean=0.53153014, variance=0.03705421, skewness=0.04449677839875221, kurtosis=0.09773387895498997)\n",
            "Absolute Difference between original and changed image: 240.5840606689453\n",
            "Squared Difference between original and changed image: 27.2030029296875\n",
            "\n"
          ],
          "name": "stdout"
        }
      ]
    },
    {
      "cell_type": "markdown",
      "metadata": {
        "id": "cwoRLBmfKBFJ"
      },
      "source": [
        "Also experiment with training the image generator on the Densenet instead of the ConvNet"
      ]
    },
    {
      "cell_type": "code",
      "metadata": {
        "id": "lSVuFqrOFSWs"
      },
      "source": [
        "EPOCHS = 15\r\n",
        "BATCH_SIZE = 128\r\n",
        "LEARNING_RATE = 1e-5\r\n",
        "L2_LAMBDA = 1e-2\r\n",
        "L1_LAMBDA = 1e-3\r\n",
        "\r\n",
        "adversarial_densenet = ImagePerturbation(densenet).to(device)\r\n",
        "\r\n",
        "optimizer = optim.Adam(adversarial_densenet.perturbation.parameters(), \r\n",
        "                            lr=LEARNING_RATE)\r\n",
        "\r\n",
        "criterion = nn.CrossEntropyLoss()\r\n",
        "\r\n",
        "criterion = criterion.to(device)"
      ],
      "execution_count": 65,
      "outputs": []
    },
    {
      "cell_type": "code",
      "metadata": {
        "id": "tcBgwkHnhZIt",
        "colab": {
          "base_uri": "https://localhost:8080/"
        },
        "outputId": "1380af5a-fc9d-4b07-f111-cd422fb88fe3"
      },
      "source": [
        "best_loss = -float('inf')\r\n",
        "\r\n",
        "for epoch in range(EPOCHS):\r\n",
        "    start_time = time.monotonic()\r\n",
        "    \r\n",
        "    train_loss, train_acc = train(adversarial_densenet, train_loader, optimizer, \r\n",
        "                                  criterion, device)\r\n",
        "    valid_loss, valid_acc = evaluate(adversarial_densenet, val_loader, criterion, \r\n",
        "                                     device)\r\n",
        "        \r\n",
        "    if valid_loss > best_loss:\r\n",
        "        best_loss = valid_loss\r\n",
        "        print(\"Worse loss, saving model. . .\")\r\n",
        "        torch.save(adversarial_densenet.state_dict(), \r\n",
        "                   os.path.join(MODELS, \"adversarial-densenet.pt\"))\r\n",
        "\r\n",
        "    end_time = time.monotonic()\r\n",
        "\r\n",
        "    epoch_mins, epoch_secs = epoch_time(start_time, end_time)\r\n",
        "    \r\n",
        "    print(\"Epoch:\", epoch+1, \"| Epoch Time:\", epoch_mins, \"m \", epoch_secs,\"s\")\r\n",
        "    print(f'\\tTrain Loss: {train_loss:.3f} | Train Acc: {train_acc*100:.2f}%')\r\n",
        "    print(f'\\t Val. Loss: {valid_loss:.3f} |  Val. Acc: {valid_acc*100:.2f}%')\r\n",
        "    "
      ],
      "execution_count": 66,
      "outputs": [
        {
          "output_type": "stream",
          "text": [
            "Worse loss, saving model. . .\n",
            "Epoch: 1 | Epoch Time: 0 m  39 s\n",
            "\tTrain Loss: 2.274 | Train Acc: 45.51%\n",
            "\t Val. Loss: 3.071 |  Val. Acc: 33.96%\n",
            "Worse loss, saving model. . .\n",
            "Epoch: 2 | Epoch Time: 0 m  39 s\n",
            "\tTrain Loss: 2.936 | Train Acc: 34.20%\n",
            "\t Val. Loss: 3.689 |  Val. Acc: 22.00%\n",
            "Worse loss, saving model. . .\n",
            "Epoch: 3 | Epoch Time: 0 m  39 s\n",
            "\tTrain Loss: 3.431 | Train Acc: 25.81%\n",
            "\t Val. Loss: 4.108 |  Val. Acc: 17.27%\n",
            "Worse loss, saving model. . .\n",
            "Epoch: 4 | Epoch Time: 0 m  39 s\n",
            "\tTrain Loss: 3.812 | Train Acc: 20.72%\n",
            "\t Val. Loss: 4.450 |  Val. Acc: 14.62%\n",
            "Worse loss, saving model. . .\n",
            "Epoch: 5 | Epoch Time: 0 m  39 s\n",
            "\tTrain Loss: 4.091 | Train Acc: 17.38%\n",
            "\t Val. Loss: 4.674 |  Val. Acc: 12.33%\n",
            "Worse loss, saving model. . .\n",
            "Epoch: 6 | Epoch Time: 0 m  39 s\n",
            "\tTrain Loss: 4.254 | Train Acc: 16.04%\n",
            "\t Val. Loss: 4.781 |  Val. Acc: 11.48%\n",
            "Worse loss, saving model. . .\n",
            "Epoch: 7 | Epoch Time: 0 m  39 s\n",
            "\tTrain Loss: 4.429 | Train Acc: 14.22%\n",
            "\t Val. Loss: 4.885 |  Val. Acc: 11.10%\n",
            "Worse loss, saving model. . .\n",
            "Epoch: 8 | Epoch Time: 0 m  39 s\n",
            "\tTrain Loss: 4.546 | Train Acc: 12.76%\n",
            "\t Val. Loss: 4.927 |  Val. Acc: 10.21%\n",
            "Worse loss, saving model. . .\n",
            "Epoch: 9 | Epoch Time: 0 m  39 s\n",
            "\tTrain Loss: 4.645 | Train Acc: 11.24%\n",
            "\t Val. Loss: 4.998 |  Val. Acc: 8.92%\n",
            "Epoch: 10 | Epoch Time: 0 m  38 s\n",
            "\tTrain Loss: 4.667 | Train Acc: 11.20%\n",
            "\t Val. Loss: 4.974 |  Val. Acc: 9.34%\n",
            "Epoch: 11 | Epoch Time: 0 m  38 s\n",
            "\tTrain Loss: 4.705 | Train Acc: 10.66%\n",
            "\t Val. Loss: 4.964 |  Val. Acc: 9.07%\n",
            "Worse loss, saving model. . .\n",
            "Epoch: 12 | Epoch Time: 0 m  39 s\n",
            "\tTrain Loss: 4.707 | Train Acc: 10.90%\n",
            "\t Val. Loss: 5.030 |  Val. Acc: 9.16%\n",
            "Epoch: 13 | Epoch Time: 0 m  38 s\n",
            "\tTrain Loss: 4.730 | Train Acc: 10.34%\n",
            "\t Val. Loss: 5.029 |  Val. Acc: 8.74%\n",
            "Epoch: 14 | Epoch Time: 0 m  38 s\n",
            "\tTrain Loss: 4.726 | Train Acc: 10.49%\n",
            "\t Val. Loss: 4.996 |  Val. Acc: 9.00%\n",
            "Epoch: 15 | Epoch Time: 0 m  39 s\n",
            "\tTrain Loss: 4.741 | Train Acc: 10.26%\n",
            "\t Val. Loss: 4.985 |  Val. Acc: 9.45%\n"
          ],
          "name": "stdout"
        }
      ]
    },
    {
      "cell_type": "code",
      "metadata": {
        "id": "lMF9opagHskd",
        "colab": {
          "base_uri": "https://localhost:8080/"
        },
        "outputId": "b77520c6-a273-4b0b-f93d-631bbf3f8c7e"
      },
      "source": [
        "# Print results of training with Densenet instead\r\n",
        "\r\n",
        "device = torch.device('cuda' if torch.cuda.is_available() else 'cpu')\r\n",
        "\r\n",
        "adversarial_densenet = ImagePerturbation(densenet)\r\n",
        "adversarial_densenet.load_state_dict(\r\n",
        "    torch.load(os.path.join(MODELS, \"adversarial-densenet.pt\")))\r\n",
        "adversarial_densenet.eval()\r\n",
        "\r\n",
        "# Adversarial convnet performance\r\n",
        "print(\"ConvNet Performance with Adversarial Images:\")\r\n",
        "adversarial_densenet.discriminator = convnet\r\n",
        "test_loss, test_acc = evaluate(adversarial_densenet, test_loader, criterion, device)\r\n",
        "print(f'\\t Test Loss: {test_loss:.3f} |  Test Acc: {test_acc*100:.2f}%')\r\n",
        "\r\n",
        "# Replacing the model in adversarial convnet with densenet\r\n",
        "print(\"DenseNet Performance with Adversarial Images:\")\r\n",
        "adversarial_densenet.discriminator = densenet\r\n",
        "test_loss, test_acc = evaluate(adversarial_densenet, test_loader, criterion, device)\r\n",
        "print(f'\\t Test Loss: {test_loss:.3f} |  Test Acc: {test_acc*100:.2f}%')\r\n",
        "\r\n",
        "# Replacing the model in adversarial densenet with resnet\r\n",
        "print(\"ResNet Performance with Adversarial Images:\")\r\n",
        "adversarial_densenet.discriminator = resnet50\r\n",
        "test_loss, test_acc = evaluate(adversarial_densenet, test_loader, criterion, device)\r\n",
        "print(f'\\t Test Loss: {test_loss:.3f} |  Test Acc: {test_acc*100:.2f}%')"
      ],
      "execution_count": 67,
      "outputs": [
        {
          "output_type": "stream",
          "text": [
            "ConvNet Performance with Adversarial Images:\n",
            "\t Test Loss: 2.143 |  Test Acc: 42.32%\n",
            "DenseNet Performance with Adversarial Images:\n",
            "\t Test Loss: 2.594 |  Test Acc: 40.67%\n",
            "ResNet Performance with Adversarial Images:\n",
            "\t Test Loss: 6.317 |  Test Acc: 20.14%\n"
          ],
          "name": "stdout"
        }
      ]
    },
    {
      "cell_type": "code",
      "metadata": {
        "id": "2rOKNGwYITlZ",
        "colab": {
          "base_uri": "https://localhost:8080/",
          "height": 1000
        },
        "outputId": "4c218b12-22df-4462-c54f-45eec9cf5cde"
      },
      "source": [
        "# Plot example images generated by the Adversarial images trained with DenseNet\r\n",
        "adversarial_densenet.discriminator = ViewImage(means, stds)\r\n",
        "test = ViewImage(means, stds)\r\n",
        "\r\n",
        "for i in range(0,100, 10):\r\n",
        "\r\n",
        "    plt.figure(figsize = (2,2))\r\n",
        "    plt.title(test_dataset.classes[test_dataset[i][1]])\r\n",
        "    denormed_img_1 = test.forward(test_dataset[i][0].unsqueeze(0))\r\n",
        "    plt.imshow(transforms.ToPILImage()(denormed_img_1.squeeze(0)))\r\n",
        "    plt.show()\r\n",
        "    print(stats.describe(denormed_img_1.cpu().detach().flatten().numpy()))\r\n",
        "    \r\n",
        "    plt.figure(figsize = (2,2))\r\n",
        "    adversarial_densenet.discriminator = densenet\r\n",
        "    output = adversarial_densenet.forward(test_dataset[i][0].unsqueeze(0).to(device))\r\n",
        "    plt.title(test_dataset.classes[output.argmax(dim=1)])\r\n",
        "\r\n",
        "    \r\n",
        "    adversarial_densenet.discriminator = ViewImage(means, stds)\r\n",
        "    denormed_img_2 = adversarial_densenet.forward(\r\n",
        "        test_dataset[i][0].unsqueeze(0).to(device))\r\n",
        "    plt.imshow(transforms.ToPILImage()(denormed_img_2.squeeze(0)))\r\n",
        "    plt.show()\r\n",
        "    print(stats.describe(denormed_img_2.cpu().detach().flatten().numpy()))\r\n",
        "\r\n",
        "    print(\"Absolute Difference between original and changed image:\", \r\n",
        "          (denormed_img_1.to(device) - denormed_img_2).abs().sum().item())\r\n",
        "    print(\"Squared Difference between original and changed image:\", \r\n",
        "          (denormed_img_1.to(device) - denormed_img_2).square().sum().item())\r\n",
        "    \r\n",
        "    print()"
      ],
      "execution_count": 68,
      "outputs": [
        {
          "output_type": "display_data",
          "data": {
            "image/png": "[encoded data removed]",
            "text/plain": [
              "<Figure size 144x144 with 1 Axes>"
            ]
          },
          "metadata": {
            "tags": [],
            "needs_background": "light"
          }
        },
        {
          "output_type": "stream",
          "text": [
            "DescribeResult(nobs=3072, minmax=(0.05098042, 1.0), mean=0.42504343, variance=0.033470426, skewness=0.40827739238739014, kurtosis=-0.19684919801084266)\n"
          ],
          "name": "stdout"
        },
        {
          "output_type": "display_data",
          "data": {
            "image/png": "[encoded data removed]",
            "text/plain": [
              "<Figure size 144x144 with 1 Axes>"
            ]
          },
          "metadata": {
            "tags": [],
            "needs_background": "light"
          }
        },
        {
          "output_type": "stream",
          "text": [
            "DescribeResult(nobs=3072, minmax=(0.03962645, 1.0), mean=0.42529526, variance=0.035168696, skewness=0.37557241320610046, kurtosis=-0.27682477202036715)\n",
            "Absolute Difference between original and changed image: 96.639404296875\n",
            "Squared Difference between original and changed image: 5.560616970062256\n",
            "\n"
          ],
          "name": "stdout"
        },
        {
          "output_type": "display_data",
          "data": {
            "image/png": "[encoded data removed]",
            "text/plain": [
              "<Figure size 144x144 with 1 Axes>"
            ]
          },
          "metadata": {
            "tags": [],
            "needs_background": "light"
          }
        },
        {
          "output_type": "stream",
          "text": [
            "DescribeResult(nobs=3072, minmax=(0.09803921, 0.8392157), mean=0.5503574, variance=0.014919846, skewness=0.14759324491024017, kurtosis=-0.19514748729368936)\n"
          ],
          "name": "stdout"
        },
        {
          "output_type": "display_data",
          "data": {
            "image/png": "[encoded data removed]",
            "text/plain": [
              "<Figure size 144x144 with 1 Axes>"
            ]
          },
          "metadata": {
            "tags": [],
            "needs_background": "light"
          }
        },
        {
          "output_type": "stream",
          "text": [
            "DescribeResult(nobs=3072, minmax=(0.029560417, 0.9469752), mean=0.5493036, variance=0.017529871, skewness=0.21031978726387024, kurtosis=0.21741116291574603)\n",
            "Absolute Difference between original and changed image: 112.91622924804688\n",
            "Squared Difference between original and changed image: 8.194378852844238\n",
            "\n"
          ],
          "name": "stdout"
        },
        {
          "output_type": "display_data",
          "data": {
            "image/png": "[encoded data removed]",
            "text/plain": [
              "<Figure size 144x144 with 1 Axes>"
            ]
          },
          "metadata": {
            "tags": [],
            "needs_background": "light"
          }
        },
        {
          "output_type": "stream",
          "text": [
            "DescribeResult(nobs=3072, minmax=(0.027450979, 1.0), mean=0.4498264, variance=0.061991856, skewness=0.5384323000907898, kurtosis=-0.4859710768688572)\n"
          ],
          "name": "stdout"
        },
        {
          "output_type": "display_data",
          "data": {
            "image/png": "[encoded data removed]",
            "text/plain": [
              "<Figure size 144x144 with 1 Axes>"
            ]
          },
          "metadata": {
            "tags": [],
            "needs_background": "light"
          }
        },
        {
          "output_type": "stream",
          "text": [
            "DescribeResult(nobs=3072, minmax=(0.0, 1.0), mean=0.45033303, variance=0.06305087, skewness=0.49753889441490173, kurtosis=-0.47056571369764333)\n",
            "Absolute Difference between original and changed image: 78.93455505371094\n",
            "Squared Difference between original and changed image: 4.175534725189209\n",
            "\n"
          ],
          "name": "stdout"
        },
        {
          "output_type": "display_data",
          "data": {
            "image/png": "[encoded data removed]",
            "text/plain": [
              "<Figure size 144x144 with 1 Axes>"
            ]
          },
          "metadata": {
            "tags": [],
            "needs_background": "light"
          }
        },
        {
          "output_type": "stream",
          "text": [
            "DescribeResult(nobs=3072, minmax=(0.0, 0.7372549), mean=0.23788808, variance=0.019016037, skewness=0.8943055272102356, kurtosis=0.2957676421992139)\n"
          ],
          "name": "stdout"
        },
        {
          "output_type": "display_data",
          "data": {
            "image/png": "[encoded data removed]",
            "text/plain": [
              "<Figure size 144x144 with 1 Axes>"
            ]
          },
          "metadata": {
            "tags": [],
            "needs_background": "light"
          }
        },
        {
          "output_type": "stream",
          "text": [
            "DescribeResult(nobs=3072, minmax=(0.0, 0.82655966), mean=0.24167216, variance=0.02646594, skewness=0.45719102025032043, kurtosis=-0.28897665235929937)\n",
            "Absolute Difference between original and changed image: 220.399169921875\n",
            "Squared Difference between original and changed image: 25.886024475097656\n",
            "\n"
          ],
          "name": "stdout"
        },
        {
          "output_type": "display_data",
          "data": {
            "image/png": "[encoded data removed]",
            "text/plain": [
              "<Figure size 144x144 with 1 Axes>"
            ]
          },
          "metadata": {
            "tags": [],
            "needs_background": "light"
          }
        },
        {
          "output_type": "stream",
          "text": [
            "DescribeResult(nobs=3072, minmax=(0.0, 0.9647059), mean=0.52880925, variance=0.051635247, skewness=-0.11096050590276718, kurtosis=-1.0392622205458624)\n"
          ],
          "name": "stdout"
        },
        {
          "output_type": "display_data",
          "data": {
            "image/png": "[encoded data removed]",
            "text/plain": [
              "<Figure size 144x144 with 1 Axes>"
            ]
          },
          "metadata": {
            "tags": [],
            "needs_background": "light"
          }
        },
        {
          "output_type": "stream",
          "text": [
            "DescribeResult(nobs=3072, minmax=(0.0, 1.0), mean=0.5283461, variance=0.05334165, skewness=-0.10900402069091797, kurtosis=-0.9412354161739525)\n",
            "Absolute Difference between original and changed image: 95.91963195800781\n",
            "Squared Difference between original and changed image: 6.070131301879883\n",
            "\n"
          ],
          "name": "stdout"
        },
        {
          "output_type": "display_data",
          "data": {
            "image/png": "[encoded data removed]",
            "text/plain": [
              "<Figure size 144x144 with 1 Axes>"
            ]
          },
          "metadata": {
            "tags": [],
            "needs_background": "light"
          }
        },
        {
          "output_type": "stream",
          "text": [
            "DescribeResult(nobs=3072, minmax=(0.015686303, 1.0), mean=0.44237518, variance=0.0826029, skewness=0.4665905237197876, kurtosis=-1.0385675701780042)\n"
          ],
          "name": "stdout"
        },
        {
          "output_type": "display_data",
          "data": {
            "image/png": "[encoded data removed]",
            "text/plain": [
              "<Figure size 144x144 with 1 Axes>"
            ]
          },
          "metadata": {
            "tags": [],
            "needs_background": "light"
          }
        },
        {
          "output_type": "stream",
          "text": [
            "DescribeResult(nobs=3072, minmax=(0.0, 1.0), mean=0.4426527, variance=0.08403701, skewness=0.42640888690948486, kurtosis=-1.0389693276177019)\n",
            "Absolute Difference between original and changed image: 102.57324981689453\n",
            "Squared Difference between original and changed image: 7.02726936340332\n",
            "\n"
          ],
          "name": "stdout"
        },
        {
          "output_type": "display_data",
          "data": {
            "image/png": "[encoded data removed]",
            "text/plain": [
              "<Figure size 144x144 with 1 Axes>"
            ]
          },
          "metadata": {
            "tags": [],
            "needs_background": "light"
          }
        },
        {
          "output_type": "stream",
          "text": [
            "DescribeResult(nobs=3072, minmax=(0.015686303, 0.9372549), mean=0.56216043, variance=0.032985363, skewness=-0.13654246926307678, kurtosis=-0.6639576750466589)\n"
          ],
          "name": "stdout"
        },
        {
          "output_type": "display_data",
          "data": {
            "image/png": "[encoded data removed]",
            "text/plain": [
              "<Figure size 144x144 with 1 Axes>"
            ]
          },
          "metadata": {
            "tags": [],
            "needs_background": "light"
          }
        },
        {
          "output_type": "stream",
          "text": [
            "DescribeResult(nobs=3072, minmax=(0.0, 1.0), mean=0.5619963, variance=0.03612715, skewness=-0.16502641141414642, kurtosis=-0.3844185704546135)\n",
            "Absolute Difference between original and changed image: 148.24713134765625\n",
            "Squared Difference between original and changed image: 12.705934524536133\n",
            "\n"
          ],
          "name": "stdout"
        },
        {
          "output_type": "display_data",
          "data": {
            "image/png": "[encoded data removed]",
            "text/plain": [
              "<Figure size 144x144 with 1 Axes>"
            ]
          },
          "metadata": {
            "tags": [],
            "needs_background": "light"
          }
        },
        {
          "output_type": "stream",
          "text": [
            "DescribeResult(nobs=3072, minmax=(0.18823528, 0.96862745), mean=0.6423139, variance=0.011977327, skewness=-0.8710635304450989, kurtosis=1.8474857294136093)\n"
          ],
          "name": "stdout"
        },
        {
          "output_type": "display_data",
          "data": {
            "image/png": "[encoded data removed]",
            "text/plain": [
              "<Figure size 144x144 with 1 Axes>"
            ]
          },
          "metadata": {
            "tags": [],
            "needs_background": "light"
          }
        },
        {
          "output_type": "stream",
          "text": [
            "DescribeResult(nobs=3072, minmax=(0.0335159, 1.0), mean=0.6418105, variance=0.019872487, skewness=-0.5273548364639282, kurtosis=0.8956526343714253)\n",
            "Absolute Difference between original and changed image: 213.7157745361328\n",
            "Squared Difference between original and changed image: 24.267213821411133\n",
            "\n"
          ],
          "name": "stdout"
        },
        {
          "output_type": "display_data",
          "data": {
            "image/png": "[encoded data removed]",
            "text/plain": [
              "<Figure size 144x144 with 1 Axes>"
            ]
          },
          "metadata": {
            "tags": [],
            "needs_background": "light"
          }
        },
        {
          "output_type": "stream",
          "text": [
            "DescribeResult(nobs=3072, minmax=(0.14509803, 0.98039216), mean=0.63675576, variance=0.043443605, skewness=0.03995033726096153, kurtosis=-1.182072665465467)\n"
          ],
          "name": "stdout"
        },
        {
          "output_type": "display_data",
          "data": {
            "image/png": "[encoded data removed]",
            "text/plain": [
              "<Figure size 144x144 with 1 Axes>"
            ]
          },
          "metadata": {
            "tags": [],
            "needs_background": "light"
          }
        },
        {
          "output_type": "stream",
          "text": [
            "DescribeResult(nobs=3072, minmax=(0.047080874, 1.0), mean=0.63450694, variance=0.050570898, skewness=-0.09515319019556046, kurtosis=-1.0635918853483268)\n",
            "Absolute Difference between original and changed image: 215.80712890625\n",
            "Squared Difference between original and changed image: 24.988534927368164\n",
            "\n"
          ],
          "name": "stdout"
        },
        {
          "output_type": "display_data",
          "data": {
            "image/png": "[encoded data removed]",
            "text/plain": [
              "<Figure size 144x144 with 1 Axes>"
            ]
          },
          "metadata": {
            "tags": [],
            "needs_background": "light"
          }
        },
        {
          "output_type": "stream",
          "text": [
            "DescribeResult(nobs=3072, minmax=(0.054901958, 1.0), mean=0.53207976, variance=0.031514898, skewness=0.23152218759059906, kurtosis=0.19578882150240773)\n"
          ],
          "name": "stdout"
        },
        {
          "output_type": "display_data",
          "data": {
            "image/png": "[encoded data removed]",
            "text/plain": [
              "<Figure size 144x144 with 1 Axes>"
            ]
          },
          "metadata": {
            "tags": [],
            "needs_background": "light"
          }
        },
        {
          "output_type": "stream",
          "text": [
            "DescribeResult(nobs=3072, minmax=(0.008990228, 1.0), mean=0.53097147, variance=0.032957166, skewness=0.17529664933681488, kurtosis=0.16941212346150136)\n",
            "Absolute Difference between original and changed image: 95.45044708251953\n",
            "Squared Difference between original and changed image: 5.8540568351745605\n",
            "\n"
          ],
          "name": "stdout"
        }
      ]
    },
    {
      "cell_type": "code",
      "metadata": {
        "id": "-tZlbOpjT9xY",
        "colab": {
          "base_uri": "https://localhost:8080/",
          "height": 614
        },
        "outputId": "e65cfe72-bf13-49a1-c114-12fc46a20315"
      },
      "source": [
        "# Plot a confusion matrix for \r\n",
        "# TRAINING SET SIZE = 20000\r\n",
        "# EPOCHS = 15\r\n",
        "# BATCH_SIZE = 128\r\n",
        "# LEARNING_RATE = 1e-5\r\n",
        "# L2_LAMBDA = 1e-2\r\n",
        "# L1_LAMBDA = 1e-3\r\n",
        "from sklearn.metrics import confusion_matrix\r\n",
        "\r\n",
        "adversarial_images = ImagePerturbation(convnet)\r\n",
        "adversarial_images.load_state_dict(\r\n",
        "    torch.load(os.path.join(MODELS, \"adversarial.pt\")))\r\n",
        "adversarial_images.eval()\r\n",
        "adversarial_images.to(device)\r\n",
        "\r\n",
        "test_loader = dataloader.DataLoader(dataset=test_dataset, batch_size=512)\r\n",
        "\r\n",
        "print(evaluate(adversarial_images, test_loader, criterion, device))\r\n",
        "\r\n",
        "X, y = next(iter(test_loader))\r\n",
        "print(X.shape, y.shape)\r\n",
        "y_pred = adversarial_images(X.to(device))\r\n",
        "print(y_pred.shape)\r\n",
        "y_pred = y_pred.argmax(dim=1)\r\n",
        "print(y_pred.shape)\r\n",
        "y = y.numpy()\r\n",
        "y_pred = y_pred.cpu().detach().numpy()\r\n",
        "print(y.shape, y_pred.shape)\r\n",
        "\r\n",
        "confusions = confusion_matrix(y, y_pred)\r\n",
        "print(confusions)\r\n",
        "\r\n",
        "import pandas as pd\r\n",
        "\r\n",
        "confusion_df = pd.DataFrame(data=confusions, index=test_dataset.classes, \r\n",
        "                            columns=test_dataset.classes)\r\n",
        "\r\n",
        "import seaborn as sns\r\n",
        "\r\n",
        "sns.heatmap(data=confusion_df, annot=True, cbar=True, square=True, )"
      ],
      "execution_count": 69,
      "outputs": [
        {
          "output_type": "stream",
          "text": [
            "(5.371041226387024, 0.18174402564764022)\n",
            "torch.Size([512, 3, 32, 32]) torch.Size([512])\n",
            "torch.Size([512, 10])\n",
            "torch.Size([512])\n",
            "(512,) (512,)\n",
            "[[17  2  8 10  1 14  2  2  1  0]\n",
            " [12  4  9 10  0  0  5  1  0  0]\n",
            " [ 7  5 22  6  0  7  1  0  0  3]\n",
            " [ 5 10 11 16  0  4  2  0  0  1]\n",
            " [ 6  6 15 10  1  4  1  0  0  1]\n",
            " [ 5  4 13 18  0 10  0  0  0  0]\n",
            " [ 5 17  8 14  0  2  9  0  0  1]\n",
            " [ 9  1 16 13  0  5  0  4  0  0]\n",
            " [ 8  0 13 13  1 15  3  1  3  0]\n",
            " [10  1  8 30  0  5  3  0  0  2]]\n"
          ],
          "name": "stdout"
        },
        {
          "output_type": "execute_result",
          "data": {
            "text/plain": [
              "<matplotlib.axes._subplots.AxesSubplot at 0x7f9eb49fd908>"
            ]
          },
          "metadata": {
            "tags": []
          },
          "execution_count": 69
        },
        {
          "output_type": "display_data",
          "data": {
            "image/png": "[encoded data removed]",
            "text/plain": [
              "<Figure size 432x288 with 2 Axes>"
            ]
          },
          "metadata": {
            "tags": [],
            "needs_background": "light"
          }
        }
      ]
    },
    {
      "cell_type": "code",
      "metadata": {
        "colab": {
          "base_uri": "https://localhost:8080/",
          "height": 248
        },
        "id": "gLv88RyrdJmY",
        "outputId": "c7c884f2-4e74-471e-87ff-d764a7c150cb"
      },
      "source": [
        "# Generating the Scatter3d plot shown in the paper\r\n",
        "\r\n",
        "# from mpl_toolkits import mplot3d\r\n",
        "import numpy as np\r\n",
        "import matplotlib.pyplot as plt\r\n",
        "import matplotlib.patches as mpatches\r\n",
        "\r\n",
        "fig = plt.figure()\r\n",
        "ax = plt.axes(projection='3d')\r\n",
        "\r\n",
        "x = [5, 5, 5, 5, 4, 4, 4, 4, 3, 3, 3, 3, 2, 2, 2, 2]\r\n",
        "y = [5, 4, 3, 2, 5, 4, 3, 2, 5, 4, 3, 2, 5, 4, 3, 2]\r\n",
        "conv_z = [0.1013, 0.0904, 0.0855, 0.1238, 0.0984, 0.1169, 0.1176, 0.0946, 0.2690, 0.2846, 0.2589, 0.2429, 0.7780, 0.7767, 0.7765, 0.7688]\r\n",
        "dense_z = [0.1418, 0.1483, 0.1514, 0.1677, 0.1577, 0.1773, 0.1953, 0.2037, 0.5089, 0.5630, 0.4900, 0.5853, 0.9400, 0.9400, 0.9389, 0.9451]\r\n",
        "res_z = [0.1364, 0.1507, 0.1517, 0.1391, 0.1469, 0.1479, 0.1499, 0.1321, 0.1979, 0.2042, 0.1946, 0.1945, 0.2744, 0.2744, 0.2657, 0.2665]\r\n",
        "ax.set_xlabel('L1 (10 ^ -x)')\r\n",
        "ax.set_ylabel('L2 (10 ^ -y)')\r\n",
        "ax.set_zlabel('Acc')\r\n",
        "ax.scatter3D(x, y, conv_z, c='r')\r\n",
        "ax.scatter3D(x, y, dense_z, c='g')\r\n",
        "ax.scatter3D(x, y, res_z, c='b')\r\n",
        "conv_patch = mpatches.Patch(color='r', label='ConvNet')\r\n",
        "dense_patch = mpatches.Patch(color='g', label='DenseNet')\r\n",
        "res_patch = mpatches.Patch(color='b', label='ResNet')\r\n",
        "ax.legend(loc='upper right', handles=[conv_patch, dense_patch, res_patch])\r\n",
        "plt.show()"
      ],
      "execution_count": 71,
      "outputs": [
        {
          "output_type": "display_data",
          "data": {
            "image/png": "[encoded data removed]",
            "text/plain": [
              "<Figure size 432x288 with 1 Axes>"
            ]
          },
          "metadata": {
            "tags": [],
            "needs_background": "light"
          }
        }
      ]
    }
  ]
}